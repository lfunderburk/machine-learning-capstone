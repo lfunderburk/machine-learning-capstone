{
 "cells": [
  {
   "cell_type": "markdown",
   "id": "7d9f48d9",
   "metadata": {},
   "source": [
    "## Data Wrangling"
   ]
  },
  {
   "cell_type": "code",
   "execution_count": 1,
   "id": "dd1b76a0",
   "metadata": {},
   "outputs": [],
   "source": [
    "import pandas as pd\n",
    "from pathlib import Path\n",
    "import matplotlib.pyplot as plt"
   ]
  },
  {
   "cell_type": "code",
   "execution_count": 2,
   "id": "b4defdcc",
   "metadata": {},
   "outputs": [],
   "source": [
    "folder = 'C:/Users/Laura GF/Documents/GitHub/machine-learning-capstone/data/'\n",
    "raw_data = f'{folder}raw-data/'\n",
    "clean_data = f'{folder}clean-data/'"
   ]
  },
  {
   "cell_type": "markdown",
   "id": "6e37a059",
   "metadata": {
    "tags": []
   },
   "source": [
    "\n",
    "### Topic: Fuel consumption ratings (Statistics Canada)\n",
    "\n",
    "Site https://open.canada.ca/data/en/dataset/98f1a129-f628-4ce4-b24d-6f16bf24dd64"
   ]
  },
  {
   "cell_type": "code",
   "execution_count": 3,
   "id": "d592aac1",
   "metadata": {},
   "outputs": [],
   "source": [
    "fuel_df = pd.read_csv(Path(clean_data,\"1995_2022_vehicle_fuel_consumption.csv\"))"
   ]
  },
  {
   "cell_type": "code",
   "execution_count": 7,
   "id": "c0eed56c",
   "metadata": {},
   "outputs": [
    {
     "data": {
      "text/plain": [
       "4.240625"
      ]
     },
     "execution_count": 7,
     "metadata": {},
     "output_type": "execute_result"
    }
   ],
   "source": [
    "fuel_df[fuel_df['make_']==\"ford\"]['co2_rating'].mean()"
   ]
  },
  {
   "cell_type": "markdown",
   "id": "9f44afd0",
   "metadata": {},
   "source": [
    "### Topic: Number of cars sold in Canada by make and model\n",
    "\n",
    "Site: https://www.goodcarbadcar.net/\n",
    "\n",
    "\n",
    "The data was extracted using Scrapy"
   ]
  },
  {
   "cell_type": "code",
   "execution_count": 35,
   "id": "009c5478",
   "metadata": {},
   "outputs": [],
   "source": [
    "month_dic = {\n",
    "            'jan': \"01\",\n",
    "            'feb': \"02\",\n",
    "            'mar': \"03\",\n",
    "            'apr': \"04\",\n",
    "            'may': \"05\",\n",
    "            'jun': \"06\",\n",
    "            'jul': \"07\",\n",
    "            'aug': \"08\",\n",
    "            'sep': \"09\",\n",
    "            'oct': \"10\",\n",
    "            'nov': \"11\",\n",
    "            'dec': \"12\"\n",
    "            }\n",
    "\n",
    "def process_json_car_sales(json_filen_name, path) -> list():\n",
    "    \"\"\"\n",
    "    This function processes the JSON file containing car sales data and returns a dataframe\n",
    "    Parameters:\n",
    "        json_file_name (str): Name of JSON file\n",
    "        path (str): Path to folder where JSON file is located\n",
    "    Returns:\n",
    "        df_expanded_long (pd.DataFrame): Dataframe containing car sales data in long format\n",
    "        df_expanded_wide (pd.DataFrame): Dataframe containing car sales data in wide format\n",
    "\n",
    "    \"\"\"\n",
    "    json_df = pd.read_json(Path(path,json_filen_name)).set_index(\"model\")\n",
    "    json_df.dropna(how=\"all\", inplace=True)\n",
    "    \n",
    "    # Wide format\n",
    "    wide_df = pd.read_json(Path(path,json_filen_name))\n",
    "    df_expanded_wide = wide_df.join(wide_df.reset_index()['model'].str.split(' ', 1, expand=True).rename(columns={0:'make', 1:'model_'})).drop(columns=[\"model\"])\n",
    "    df_expanded_wide['year'] = json_filen_name.split(\"_\")[0]\n",
    "\n",
    "    # long format\n",
    "    long_format_df = pd.DataFrame(json_df.T.unstack()).reset_index().rename(columns={\"level_1\":\"month\",0:\"number_units_sold\"})\n",
    "    df_expanded_long = long_format_df.join(long_format_df.reset_index()['model'].str.split(' ', 1, expand=True).rename(columns={0:'make', 1:'model_'})).drop(columns=[\"model\"])\n",
    "    df_expanded_long['year'] = json_filen_name.split(\"_\")[0]\n",
    "    df_expanded_long['month']  = df_expanded_long['month'].map(month_dic) \n",
    "\n",
    "    # Remove ',' from number_units_sold\n",
    "    df_expanded_long['number_units_sold'] = df_expanded_long['number_units_sold'].str.replace(\",\",\"\")\n",
    "\n",
    "    # Transform month and number_units_sold to int \n",
    "    df_expanded_long['month'] = df_expanded_long['month'].astype('int')\n",
    "    df_expanded_long['number_units_sold'] = df_expanded_long['number_units_sold'].astype('int')\n",
    "\n",
    "    # Combine 'month' and 'year' into 'date' column and convert to datetime in format YYYY-MM \n",
    "    df_expanded_long['date'] = df_expanded_long['year'].astype(str) + \"-\" + df_expanded_long['month'].astype(str)\n",
    "    # Convert 'date' to datetime\n",
    "    df_expanded_long['date'] = pd.to_datetime(df_expanded_long['date'], format='%Y-%m')\n",
    "    # Drop 'month' and 'year' columns\n",
    "    df_expanded_long.drop(columns=['month','year'], inplace=True)\n",
    "    \n",
    "\n",
    "    return df_expanded_long, df_expanded_wide\n"
   ]
  },
  {
   "cell_type": "code",
   "execution_count": 37,
   "id": "97016870",
   "metadata": {},
   "outputs": [],
   "source": [
    "long_format_2021_sep,df_2021 =  process_json_car_sales(\"2021_canada_vehicle_sales.json\", raw_data)\n",
    "long_format_2020_sep,df_2020 =  process_json_car_sales(\"2020_canada_vehicle_sales.json\", raw_data)\n",
    "long_format_2019_sep,df_2019 =  process_json_car_sales(\"2019_canada_vehicle_sales.json\", raw_data)"
   ]
  },
  {
   "cell_type": "code",
   "execution_count": 33,
   "id": "a96fc477",
   "metadata": {},
   "outputs": [],
   "source": [
    "df_all_sales = pd.read_csv(Path(clean_data, \"long_format_car_sales.csv\"))"
   ]
  },
  {
   "cell_type": "code",
   "execution_count": 34,
   "id": "118ee7fd",
   "metadata": {},
   "outputs": [
    {
     "data": {
      "text/html": [
       "<div>\n",
       "<style scoped>\n",
       "    .dataframe tbody tr th:only-of-type {\n",
       "        vertical-align: middle;\n",
       "    }\n",
       "\n",
       "    .dataframe tbody tr th {\n",
       "        vertical-align: top;\n",
       "    }\n",
       "\n",
       "    .dataframe thead th {\n",
       "        text-align: right;\n",
       "    }\n",
       "</style>\n",
       "<table border=\"1\" class=\"dataframe\">\n",
       "  <thead>\n",
       "    <tr style=\"text-align: right;\">\n",
       "      <th></th>\n",
       "      <th>number_units_sold</th>\n",
       "      <th>make</th>\n",
       "      <th>model_</th>\n",
       "      <th>date</th>\n",
       "    </tr>\n",
       "  </thead>\n",
       "  <tbody>\n",
       "    <tr>\n",
       "      <th>0</th>\n",
       "      <td>86</td>\n",
       "      <td>Acura</td>\n",
       "      <td>ILX</td>\n",
       "      <td>2019-01-01</td>\n",
       "    </tr>\n",
       "    <tr>\n",
       "      <th>1</th>\n",
       "      <td>56</td>\n",
       "      <td>Acura</td>\n",
       "      <td>ILX</td>\n",
       "      <td>2019-02-01</td>\n",
       "    </tr>\n",
       "    <tr>\n",
       "      <th>2</th>\n",
       "      <td>218</td>\n",
       "      <td>Acura</td>\n",
       "      <td>ILX</td>\n",
       "      <td>2019-03-01</td>\n",
       "    </tr>\n",
       "    <tr>\n",
       "      <th>3</th>\n",
       "      <td>286</td>\n",
       "      <td>Acura</td>\n",
       "      <td>ILX</td>\n",
       "      <td>2019-04-01</td>\n",
       "    </tr>\n",
       "    <tr>\n",
       "      <th>4</th>\n",
       "      <td>209</td>\n",
       "      <td>Acura</td>\n",
       "      <td>ILX</td>\n",
       "      <td>2019-05-01</td>\n",
       "    </tr>\n",
       "    <tr>\n",
       "      <th>...</th>\n",
       "      <td>...</td>\n",
       "      <td>...</td>\n",
       "      <td>...</td>\n",
       "      <td>...</td>\n",
       "    </tr>\n",
       "    <tr>\n",
       "      <th>10615</th>\n",
       "      <td>364</td>\n",
       "      <td>Volvo</td>\n",
       "      <td>XC90</td>\n",
       "      <td>2021-08-01</td>\n",
       "    </tr>\n",
       "    <tr>\n",
       "      <th>10616</th>\n",
       "      <td>220</td>\n",
       "      <td>Volvo</td>\n",
       "      <td>XC90</td>\n",
       "      <td>2021-09-01</td>\n",
       "    </tr>\n",
       "    <tr>\n",
       "      <th>10617</th>\n",
       "      <td>192</td>\n",
       "      <td>Volvo</td>\n",
       "      <td>XC90</td>\n",
       "      <td>2021-10-01</td>\n",
       "    </tr>\n",
       "    <tr>\n",
       "      <th>10618</th>\n",
       "      <td>249</td>\n",
       "      <td>Volvo</td>\n",
       "      <td>XC90</td>\n",
       "      <td>2021-11-01</td>\n",
       "    </tr>\n",
       "    <tr>\n",
       "      <th>10619</th>\n",
       "      <td>151</td>\n",
       "      <td>Volvo</td>\n",
       "      <td>XC90</td>\n",
       "      <td>2021-12-01</td>\n",
       "    </tr>\n",
       "  </tbody>\n",
       "</table>\n",
       "<p>10620 rows × 4 columns</p>\n",
       "</div>"
      ],
      "text/plain": [
       "       number_units_sold   make model_        date\n",
       "0                     86  Acura    ILX  2019-01-01\n",
       "1                     56  Acura    ILX  2019-02-01\n",
       "2                    218  Acura    ILX  2019-03-01\n",
       "3                    286  Acura    ILX  2019-04-01\n",
       "4                    209  Acura    ILX  2019-05-01\n",
       "...                  ...    ...    ...         ...\n",
       "10615                364  Volvo   XC90  2021-08-01\n",
       "10616                220  Volvo   XC90  2021-09-01\n",
       "10617                192  Volvo   XC90  2021-10-01\n",
       "10618                249  Volvo   XC90  2021-11-01\n",
       "10619                151  Volvo   XC90  2021-12-01\n",
       "\n",
       "[10620 rows x 4 columns]"
      ]
     },
     "execution_count": 34,
     "metadata": {},
     "output_type": "execute_result"
    }
   ],
   "source": [
    "df_all_sales"
   ]
  },
  {
   "cell_type": "markdown",
   "id": "6a680dd4",
   "metadata": {},
   "source": [
    "### Topic: New motor vehicle registrations, quarterly (Statistics Canada)\n",
    "\n",
    "Site https://www150.statcan.gc.ca/t1/tbl1/en/tv.action?pid=2010002401\n",
    "\n"
   ]
  },
  {
   "cell_type": "markdown",
   "id": "53d2e436",
   "metadata": {},
   "source": [
    "### Topic: New zero-emission vehicle registrations, quarterly (Statistics Canada)\n",
    "\n",
    "https://www150.statcan.gc.ca/t1/tbl1/en/tv.action?pid=2010002501"
   ]
  },
  {
   "cell_type": "markdown",
   "id": "f7afeff8",
   "metadata": {},
   "source": [
    "### Topic: Sales of fuel used for road motor vehicles, annual (Statistics Canada)\n",
    "\n",
    "https://www150.statcan.gc.ca/t1/tbl1/en/tv.action?pid=2310006601"
   ]
  },
  {
   "cell_type": "markdown",
   "id": "f6dce93c",
   "metadata": {},
   "source": [
    "### Topic: Vehicle registrations, by type of vehicle (Statistics Canada)\n",
    "\n",
    "https://open.canada.ca/data/en/dataset/9aea572f-f54f-42a1-b411-0b06390ed9f9"
   ]
  },
  {
   "cell_type": "code",
   "execution_count": null,
   "id": "cb8d742a",
   "metadata": {},
   "outputs": [],
   "source": []
  }
 ],
 "metadata": {
  "kernelspec": {
   "display_name": "Python MP Capstone",
   "language": "python",
   "name": "ml-project-env"
  },
  "language_info": {
   "codemirror_mode": {
    "name": "ipython",
    "version": 3
   },
   "file_extension": ".py",
   "mimetype": "text/x-python",
   "name": "python",
   "nbconvert_exporter": "python",
   "pygments_lexer": "ipython3",
   "version": "3.7.13"
  }
 },
 "nbformat": 4,
 "nbformat_minor": 5
}

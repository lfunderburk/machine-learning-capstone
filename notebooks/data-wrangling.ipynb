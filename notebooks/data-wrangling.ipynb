{
 "cells": [
  {
   "cell_type": "markdown",
   "id": "ad7a34ad",
   "metadata": {},
   "source": [
    "## Data Wrangling"
   ]
  },
  {
   "cell_type": "code",
   "execution_count": 1,
   "id": "18895b8a",
   "metadata": {},
   "outputs": [],
   "source": [
    "import pandas as pd\n",
    "import bs4\n",
    "import requests\n",
    "import requests\n",
    "import seaborn as sns\n",
    "import numpy as np\n",
    "import re\n",
    "from pathlib import Path\n",
    "import json\n",
    "\n",
    "from io import BytesIO\n",
    "from zipfile import ZipFile\n",
    "from urllib.request import urlopen"
   ]
  },
  {
   "cell_type": "markdown",
   "id": "44a5b62a",
   "metadata": {
    "tags": []
   },
   "source": [
    "## Step 1: obtain data and metadata\n",
    "\n",
    "### Topic: Fuel consumption ratings (Statistics Canada)\n",
    "\n",
    "Site https://open.canada.ca/data/en/dataset/98f1a129-f628-4ce4-b24d-6f16bf24dd64"
   ]
  },
  {
   "cell_type": "code",
   "execution_count": 2,
   "id": "e2af08e1",
   "metadata": {},
   "outputs": [],
   "source": [
    "url_open_canada = \"https://open.canada.ca/data/api/action/package_show?id=98f1a129-f628-4ce4-b24d-6f16bf24dd64\"\n",
    "\n",
    "json_resp = requests.get(url_open_canada)"
   ]
  },
  {
   "cell_type": "code",
   "execution_count": 3,
   "id": "e94a6851",
   "metadata": {},
   "outputs": [
    {
     "data": {
      "text/plain": [
       "'application/json;charset=utf-8'"
      ]
     },
     "execution_count": 3,
     "metadata": {},
     "output_type": "execute_result"
    }
   ],
   "source": [
    "json_resp.headers.get('Content-Type','')"
   ]
  },
  {
   "cell_type": "code",
   "execution_count": 4,
   "id": "414e996c",
   "metadata": {},
   "outputs": [],
   "source": [
    "if json_resp.status_code == 200 and 'application/json' in json_resp.headers.get('Content-Type',''):\n",
    "    open_canada_data = json_resp.json()\n",
    "else:\n",
    "    print(\"Error\")"
   ]
  },
  {
   "cell_type": "code",
   "execution_count": 5,
   "id": "f7803993",
   "metadata": {},
   "outputs": [
    {
     "data": {
      "text/plain": [
       "dict_keys(['help', 'success', 'result'])"
      ]
     },
     "execution_count": 5,
     "metadata": {},
     "output_type": "execute_result"
    }
   ],
   "source": [
    "open_canada_data.keys()"
   ]
  },
  {
   "cell_type": "code",
   "execution_count": 6,
   "id": "e8ae6c4a",
   "metadata": {},
   "outputs": [],
   "source": [
    "# Data wrangling\n",
    "data_entries = pd.json_normalize(open_canada_data['result'], record_path=\"resources\")\n",
    "data_entries['language'] = data_entries['language'].apply(lambda col: col[0])\n",
    "data_entries_english = data_entries[data_entries['language']=='en']\n"
   ]
  },
  {
   "cell_type": "code",
   "execution_count": 7,
   "id": "9193f782",
   "metadata": {},
   "outputs": [
    {
     "data": {
      "text/html": [
       "<div>\n",
       "<style scoped>\n",
       "    .dataframe tbody tr th:only-of-type {\n",
       "        vertical-align: middle;\n",
       "    }\n",
       "\n",
       "    .dataframe tbody tr th {\n",
       "        vertical-align: top;\n",
       "    }\n",
       "\n",
       "    .dataframe thead th {\n",
       "        text-align: right;\n",
       "    }\n",
       "</style>\n",
       "<table border=\"1\" class=\"dataframe\">\n",
       "  <thead>\n",
       "    <tr style=\"text-align: right;\">\n",
       "      <th></th>\n",
       "      <th>cache_last_updated</th>\n",
       "      <th>unique_identifier</th>\n",
       "      <th>package_id</th>\n",
       "      <th>datastore_contains_all_records_of_source_file</th>\n",
       "      <th>validation_status</th>\n",
       "      <th>datastore_active</th>\n",
       "      <th>character_set</th>\n",
       "      <th>validation_timestamp</th>\n",
       "      <th>id</th>\n",
       "      <th>state</th>\n",
       "      <th>...</th>\n",
       "      <th>language</th>\n",
       "      <th>created</th>\n",
       "      <th>url</th>\n",
       "      <th>last_modified</th>\n",
       "      <th>resource_type</th>\n",
       "      <th>position</th>\n",
       "      <th>revision_id</th>\n",
       "      <th>data_quality</th>\n",
       "      <th>name_translated.fr</th>\n",
       "      <th>name_translated.en</th>\n",
       "    </tr>\n",
       "  </thead>\n",
       "  <tbody>\n",
       "    <tr>\n",
       "      <th>0</th>\n",
       "      <td>None</td>\n",
       "      <td></td>\n",
       "      <td>98f1a129-f628-4ce4-b24d-6f16bf24dd64</td>\n",
       "      <td>False</td>\n",
       "      <td></td>\n",
       "      <td>False</td>\n",
       "      <td></td>\n",
       "      <td></td>\n",
       "      <td>026e45b4-eb63-451f-b34f-d9308ea3a3d9</td>\n",
       "      <td>active</td>\n",
       "      <td>...</td>\n",
       "      <td>en</td>\n",
       "      <td>2017-03-31T09:40:17.244058</td>\n",
       "      <td>https://www.nrcan.gc.ca/sites/nrcan/files/oee/...</td>\n",
       "      <td>None</td>\n",
       "      <td>dataset</td>\n",
       "      <td>0</td>\n",
       "      <td>ffd5fc97-9248-48ed-b1bc-7fa542cdad40</td>\n",
       "      <td>[]</td>\n",
       "      <td>Véhicules électriques à batterie 2012-2022 (20...</td>\n",
       "      <td>Battery-electric vehicles 2012-2022 (2022-05-16)</td>\n",
       "    </tr>\n",
       "    <tr>\n",
       "      <th>2</th>\n",
       "      <td>None</td>\n",
       "      <td></td>\n",
       "      <td>98f1a129-f628-4ce4-b24d-6f16bf24dd64</td>\n",
       "      <td>False</td>\n",
       "      <td></td>\n",
       "      <td>False</td>\n",
       "      <td></td>\n",
       "      <td></td>\n",
       "      <td>8812228b-a6aa-4303-b3d0-66489225120d</td>\n",
       "      <td>active</td>\n",
       "      <td>...</td>\n",
       "      <td>en</td>\n",
       "      <td>2017-03-31T09:40:17.244000</td>\n",
       "      <td>https://www.nrcan.gc.ca/sites/nrcan/files/oee/...</td>\n",
       "      <td>None</td>\n",
       "      <td>dataset</td>\n",
       "      <td>2</td>\n",
       "      <td>28104dc6-6147-4ecc-913c-ad13f4f565bf</td>\n",
       "      <td>[]</td>\n",
       "      <td>Véhicules hybrides électriques rechargeables 2...</td>\n",
       "      <td>Plug-in hybrid electric vehicles 2012-2022 (20...</td>\n",
       "    </tr>\n",
       "  </tbody>\n",
       "</table>\n",
       "<p>2 rows × 29 columns</p>\n",
       "</div>"
      ],
      "text/plain": [
       "  cache_last_updated unique_identifier                            package_id  \\\n",
       "0               None                    98f1a129-f628-4ce4-b24d-6f16bf24dd64   \n",
       "2               None                    98f1a129-f628-4ce4-b24d-6f16bf24dd64   \n",
       "\n",
       "   datastore_contains_all_records_of_source_file validation_status  \\\n",
       "0                                          False                     \n",
       "2                                          False                     \n",
       "\n",
       "   datastore_active character_set validation_timestamp  \\\n",
       "0             False                                      \n",
       "2             False                                      \n",
       "\n",
       "                                     id   state  ... language  \\\n",
       "0  026e45b4-eb63-451f-b34f-d9308ea3a3d9  active  ...       en   \n",
       "2  8812228b-a6aa-4303-b3d0-66489225120d  active  ...       en   \n",
       "\n",
       "                      created  \\\n",
       "0  2017-03-31T09:40:17.244058   \n",
       "2  2017-03-31T09:40:17.244000   \n",
       "\n",
       "                                                 url last_modified  \\\n",
       "0  https://www.nrcan.gc.ca/sites/nrcan/files/oee/...          None   \n",
       "2  https://www.nrcan.gc.ca/sites/nrcan/files/oee/...          None   \n",
       "\n",
       "  resource_type position                           revision_id data_quality  \\\n",
       "0       dataset        0  ffd5fc97-9248-48ed-b1bc-7fa542cdad40           []   \n",
       "2       dataset        2  28104dc6-6147-4ecc-913c-ad13f4f565bf           []   \n",
       "\n",
       "                                  name_translated.fr  \\\n",
       "0  Véhicules électriques à batterie 2012-2022 (20...   \n",
       "2  Véhicules hybrides électriques rechargeables 2...   \n",
       "\n",
       "                                  name_translated.en  \n",
       "0   Battery-electric vehicles 2012-2022 (2022-05-16)  \n",
       "2  Plug-in hybrid electric vehicles 2012-2022 (20...  \n",
       "\n",
       "[2 rows x 29 columns]"
      ]
     },
     "execution_count": 7,
     "metadata": {},
     "output_type": "execute_result"
    }
   ],
   "source": [
    "data_entries_english.head(2)"
   ]
  },
  {
   "cell_type": "markdown",
   "id": "b6b022ab",
   "metadata": {},
   "source": [
    "#### Automate data extraction"
   ]
  },
  {
   "cell_type": "code",
   "execution_count": 8,
   "id": "965dd7c2-44d8-44c8-8024-cb7d0215d7f6",
   "metadata": {},
   "outputs": [],
   "source": [
    "model_dict = {\"4WD/4X4\":\"Four-wheel drive\",\n",
    "\t      \"AWD\": \"All-wheel drive\",\n",
    "\t      \"FFV\": \"Flexible-fuel vehicle\",\n",
    "\t      \"SWB\": \"Short wheelbase\",\n",
    "\t      \"LWB\" : \"Long wheelbase\",\n",
    "\t      \"EWB\" : \"Extended wheelbase\",\n",
    "\t      \"CNG\" : \"Compressed natural gas\",\n",
    "\t      \"NGV\" : \"Natural gas vehicle\",\n",
    "\t      \"#\" : \"High output engine that provides more power than the standard engine of the same size\"\n",
    " }\n",
    "\n",
    "transmission_dict = {\"A\": \"automatic\",\n",
    "\t\t     \"AM\": \"automated manual\",\n",
    "\t\t     \"AS\": \"automatic with select Shift\",\n",
    "\t\t     \"AV\": \"continuously variable\",\n",
    "\t\t     \"M\": \"manual\",\n",
    "\t\t     \"1 – 10\" : \"Number of gears\",\n",
    "\n",
    "}\n",
    "\n",
    "\n",
    "fuel_dict = {\"X\": \"regular gasoline\",\n",
    "\t     \"Z\": \"premium gasoline\",\n",
    " \t     \"D\": \"diesel\",\n",
    "\t     \"E\": \"ethanol (E85)\",\n",
    "\t     \"N\": \"natural gas\",\n",
    "\t     \"B\": \"electricity\"\n",
    "\t\n",
    "}"
   ]
  },
  {
   "cell_type": "code",
   "execution_count": 9,
   "id": "0d0e3fa4-d944-4137-9e26-4f0aadb8614f",
   "metadata": {},
   "outputs": [],
   "source": [
    "def convert_model_key_words(s, dictionary):\n",
    "    \"\"\"Add columns from footnote\"\"\"\n",
    "\n",
    "    group = \"unspecified\"\n",
    "    for key in dictionary:\n",
    "        if key in s:\n",
    "            group = dictionary[key]\n",
    "            break\n",
    "    return group"
   ]
  },
  {
   "cell_type": "code",
   "execution_count": 38,
   "id": "bada8747",
   "metadata": {
    "tags": []
   },
   "outputs": [
    {
     "name": "stdout",
     "output_type": "stream",
     "text": [
      "Number of records in file Battery-electric_vehicles_2012-2022_(2022-05-16).csv : 5580\n",
      "Number of records in file Plug-in_hybrid_electric_vehicles_2012-2022_(2022-03-28).csv : 4340\n",
      "Number of records in file 2022_Fuel_Consumption_Ratings_(2022-08-18).csv : 14325\n",
      "Number of records in file 2021_Fuel_Consumption_Ratings_(2022-08-09).csv : 14115\n",
      "Number of records in file 2020_Fuel_Consumption_Ratings_(2021-09-29).csv : 14520\n",
      "Number of records in file 2019_Fuel_Consumption_Ratings_(2021-09-29).csv : 15840\n",
      "Number of records in file 2018_Fuel_Consumption_Ratings_(2021-09-29).csv : 16245\n",
      "Number of records in file 2017_Fuel_Consumption_Ratings_(2020-03-17).csv : 15870\n",
      "Number of records in file 2016_Fuel_Consumption_Ratings_(2020-03-17).csv : 15540\n",
      "Number of records in file 2015_Fuel_Consumption_Ratings_(2020-03-17).csv : 14716\n",
      "Number of records in file 2010-2014_Fuel_Consumption_Ratings_(2020-03-17).csv : 69667\n",
      "Number of records in file 2005-2009_Fuel_Consumption_Ratings_(2020-01-31).csv : 67665\n",
      "Number of records in file 2000-2004_Fuel_Consumption_Ratings.csv : 49088\n",
      "Number of records in file 1995-1999_Fuel_Consumption_Ratings.csv : 45747\n",
      "Number of records in file (Original_Fuel_Consumption_Ratings_2000-2014).csv : 185289\n",
      "Number of records in file (Original_Fuel_Consumption_Ratings_1995-1999).csv : 45747\n"
     ]
    }
   ],
   "source": [
    "folder = \"C:/Users/Laura GF/Documents/GitHub/machine-learning-capstone/data/\"\n",
    "fuel_based_df = []\n",
    "electric_based_df = []\n",
    "total_no_records = 0\n",
    "for item in data_entries_english[['name','url']].iterrows():\n",
    "    # Form file name\n",
    "    file_name = f'{item[1][\"name\"].replace(\" \",\"_\")}.csv'\n",
    "    # Perform query\n",
    "    csv_req = requests.get(item[1]['url'])\n",
    "    # Parse content\n",
    "    url_content = csv_req.content\n",
    "    \n",
    "    # Save content into file\n",
    "    csv_file = open(Path(folder + \"raw-data\",file_name), 'wb',)\n",
    "    csv_file.write(url_content)\n",
    "    csv_file.close()\n",
    "    \n",
    "    # Data cleaning\n",
    "    df = pd.read_csv(Path(folder + \"raw-data\",file_name), sep=\",\", low_memory=False, encoding='cp1252')\n",
    "    sample_df_col = df.dropna(thresh=1 ,axis=1).dropna(thresh=1 ,axis=0)\n",
    "    sample_df_col.columns = [item.lower() for item in sample_df_col.columns]\n",
    "    footer = sample_df_col[(sample_df_col['make'].str.contains(\"=\")) & ~(sample_df_col['make'].isna())]\n",
    "    sample_df_no_footer = sample_df_col.dropna(thresh=3 ,axis=0)\n",
    "    \n",
    "    # Remove Unnamed cols\n",
    "    cols = sample_df_no_footer.columns\n",
    "    cleaned_cols = [re.sub(r'unnamed: \\d*', \"fuel consumption\", item) if \"unnamed\" in item else item for item in cols]\n",
    "\n",
    "\n",
    "    # Clean row 1 on df\n",
    "    str_item_cols = [str(item) for item in sample_df_no_footer.iloc[0:1,].values[0]]\n",
    "    str_non_nan = [\"\" if item=='nan' else item for item in str_item_cols]\n",
    "\n",
    "    # Form new columns\n",
    "    new_cols = []\n",
    "    for itema,itemb in zip(cleaned_cols, str_non_nan):\n",
    "        new_cols.append(f'{itema}_{itemb}'.lower().replace(\"*\",\"\").replace(\" \",\"\").replace(r'#=highoutputengine',\"\"))\n",
    "\n",
    "\n",
    "    final_df = sample_df_no_footer.iloc[1:, ].copy()\n",
    "    final_df.columns = new_cols\n",
    "    \n",
    "    # Save clean df\n",
    "    print(\"Number of records in file\", file_name, \":\", final_df.size)\n",
    "    total_no_records += final_df.size\n",
    "    \n",
    "    # Populate dataframe with information from the footnotes\n",
    "    if \"electric\" in item[1]['name']:\n",
    "        final_df[\"type_of_wheel_drive\"] = final_df['model.1_'].apply(lambda x: convert_model_key_words(x, model_dict)) \n",
    "        final_df[\"type_of_transmission\"] = final_df['transmission_'].apply(lambda x: convert_model_key_words(x, transmission_dict)) \n",
    "        electric_based_df.append(final_df)\n",
    "        final_df.to_csv(Path(folder + \"clean-data\",f'{file_name}'))\n",
    "        \n",
    "        continue\n",
    "    \n",
    "    else:\n",
    "        final_df[\"type_of_wheel_drive\"] = final_df['model.1_'].apply(lambda x: convert_model_key_words(x, model_dict)) \n",
    "        final_df[\"type_of_transmission\"] = final_df['transmission_'].apply(lambda x: convert_model_key_words(x, transmission_dict)) \n",
    "        final_df[\"type_of_fuel\"] = final_df['fuel_type'].apply(lambda x: convert_model_key_words(x, fuel_dict)) \n",
    "        fuel_based_df.append(final_df)\n",
    "        final_df.to_csv(Path(folder + \"clean-data\",f'{file_name}'))\n",
    "        \n",
    "master_fuel_cons = pd.concat(fuel_based_df)\n",
    "\n",
    "master_fuel_cons.to_csv(Path(folder + \"clean-data\",\"1995_2022_Fuel_Consumption_Ratings.csv\"))"
   ]
  },
  {
   "cell_type": "markdown",
   "id": "d08c17ba",
   "metadata": {},
   "source": [
    "### Topic: Number of cars sold in Canada by make and model\n",
    "\n",
    "Site: https://www.goodcarbadcar.net/\n",
    "\n",
    "\n",
    "The data was extracted using Scrapy"
   ]
  },
  {
   "cell_type": "code",
   "execution_count": null,
   "id": "457336b4-a6c5-4d33-8cab-ff5b1780b148",
   "metadata": {},
   "outputs": [],
   "source": [
    "raw_data = f'{folder}raw-data/'\n",
    "clean_data = f'{folder}clean-data/'\n",
    "\n",
    "# Read data\n",
    "json_2021_df = pd.read_json(Path(raw_data,\"2021_canada_vehicle_sales.json\"))\n",
    "json_2021_df.dropna(how=\"all\", inplace=True)\n",
    "json_2021_df['Year'] = 2021\n",
    "\n",
    "json_2020_df = pd.read_json(Path(raw_data,\"2020_canada_vehicle_sales.json\"))\n",
    "json_2020_df.dropna(how=\"all\", inplace=True)\n",
    "json_2020_df['Year'] = 2020\n",
    "\n",
    "json_2019_df = pd.read_json(Path(raw_data,\"2019_canada_vehicle_sales.json\"))\n",
    "json_2019_df.dropna(how=\"all\", inplace=True)\n",
    "json_2019_df['Year'] = 2019"
   ]
  },
  {
   "cell_type": "code",
   "execution_count": null,
   "id": "8be8c79d-5f54-4632-9b46-233164eda3bb",
   "metadata": {},
   "outputs": [],
   "source": [
    "json_2021_df"
   ]
  },
  {
   "cell_type": "markdown",
   "id": "9d9ad435",
   "metadata": {},
   "source": [
    "### Topic: New motor vehicle registrations, quarterly (Statistics Canada)\n",
    "\n",
    "Site https://www150.statcan.gc.ca/t1/tbl1/en/tv.action?pid=2010002401\n",
    "\n"
   ]
  },
  {
   "cell_type": "code",
   "execution_count": null,
   "id": "168bd119",
   "metadata": {},
   "outputs": [],
   "source": [
    "vehicle_registrations = \"https://www150.statcan.gc.ca/n1/tbl/csv/20100024-eng.zip\"\n",
    "resp = urlopen(vehicle_registrations)\n",
    "myzip = ZipFile(BytesIO(resp.read()))\n",
    "file_name = [item for item in myzip.namelist() if \"MetaData\" not in item]"
   ]
  },
  {
   "cell_type": "code",
   "execution_count": null,
   "id": "0b705c7e",
   "metadata": {},
   "outputs": [],
   "source": [
    "vehicle_reg_csv = myzip.open(file_name[0])\n",
    "vehicle_reg_df = pd.read_csv(vehicle_reg_csv)"
   ]
  },
  {
   "cell_type": "code",
   "execution_count": null,
   "id": "391a089a",
   "metadata": {},
   "outputs": [],
   "source": [
    "vehicle_reg_df.drop(columns=['DGUID',\n",
    "                             'UOM_ID',\n",
    "                             'SCALAR_ID',\n",
    "                             'VECTOR',\n",
    "                             'COORDINATE',\n",
    "                             'STATUS',\n",
    "                             'SYMBOL',\n",
    "                             'TERMINATED',\n",
    "                             'DECIMALS'], inplace=True)"
   ]
  },
  {
   "cell_type": "code",
   "execution_count": null,
   "id": "7a836605",
   "metadata": {},
   "outputs": [],
   "source": [
    "vehicle_reg_df.to_csv(Path(folder+\"clean-data\", \"new_motor_vehicle_reg.csv\"))"
   ]
  },
  {
   "cell_type": "code",
   "execution_count": null,
   "id": "870f312c",
   "metadata": {},
   "outputs": [],
   "source": [
    "vehicle_reg_df"
   ]
  },
  {
   "cell_type": "markdown",
   "id": "a5e17e1a",
   "metadata": {},
   "source": [
    "### Topic: New zero-emission vehicle registrations, quarterly (Statistics Canada)\n",
    "\n",
    "https://www150.statcan.gc.ca/t1/tbl1/en/tv.action?pid=2010002501"
   ]
  },
  {
   "cell_type": "code",
   "execution_count": null,
   "id": "e548ca5e",
   "metadata": {},
   "outputs": [],
   "source": [
    "near_zero_vehicle = \"https://www150.statcan.gc.ca/n1/tbl/csv/20100025-eng.zip\"\n",
    "\n",
    "resp = urlopen(near_zero_vehicle)\n",
    "myzip = ZipFile(BytesIO(resp.read()))\n",
    "file_name = [item for item in myzip.namelist() if \"MetaData\" not in item]"
   ]
  },
  {
   "cell_type": "code",
   "execution_count": null,
   "id": "41139b1b",
   "metadata": {},
   "outputs": [],
   "source": [
    "near_zero_vehicle_reg_csv = myzip.open(file_name[0])\n",
    "near_zero_vehicle_reg_df = pd.read_csv(near_zero_vehicle_reg_csv)"
   ]
  },
  {
   "cell_type": "code",
   "execution_count": null,
   "id": "7f2ad944",
   "metadata": {},
   "outputs": [],
   "source": [
    "near_zero_vehicle_reg_df.drop(columns=['DGUID',\n",
    "                                       'UOM_ID',\n",
    "                                       'SCALAR_ID',\n",
    "                                       'VECTOR',\n",
    "                                       'COORDINATE',\n",
    "                                       'STATUS',\n",
    "                                       'SYMBOL','TERMINATED','DECIMALS'], inplace=True)"
   ]
  },
  {
   "cell_type": "code",
   "execution_count": null,
   "id": "c91a3ce4",
   "metadata": {},
   "outputs": [],
   "source": [
    "near_zero_vehicle_reg_df.to_csv(Path(folder+\"clean-data\", \"near_zero_vehicle_registrations.csv\"))"
   ]
  },
  {
   "cell_type": "code",
   "execution_count": null,
   "id": "bfe57d64",
   "metadata": {},
   "outputs": [],
   "source": [
    "near_zero_vehicle_reg_df"
   ]
  },
  {
   "cell_type": "markdown",
   "id": "3d2f19f1",
   "metadata": {},
   "source": [
    "### Topic: Sales of fuel used for road motor vehicles, annual (Statistics Canada)\n",
    "\n",
    "https://www150.statcan.gc.ca/t1/tbl1/en/tv.action?pid=2310006601"
   ]
  },
  {
   "cell_type": "code",
   "execution_count": null,
   "id": "d6a62002",
   "metadata": {},
   "outputs": [],
   "source": [
    "fuel_sold = \"https://www150.statcan.gc.ca/n1/tbl/csv/23100066-eng.zip\"\n",
    "\n",
    "resp = urlopen(fuel_sold)\n",
    "myzip = ZipFile(BytesIO(resp.read()))\n",
    "file_name = [item for item in myzip.namelist() if \"MetaData\" not in item]\n",
    "\n",
    "fuel_sold_csv = myzip.open(file_name[0])\n",
    "fuel_sold_df = pd.read_csv(fuel_sold_csv)\n",
    "\n",
    "fuel_sold_df.drop(columns=['DGUID',\n",
    "                                       'UOM_ID',\n",
    "                                       'SCALAR_ID',\n",
    "                                       'VECTOR',\n",
    "                                       'COORDINATE',\n",
    "                                       'STATUS',\n",
    "                                       'SYMBOL',\n",
    "                                       'TERMINATED',\n",
    "                                       'DECIMALS'], inplace=True)\n",
    "\n",
    "fuel_sold_df.to_csv(Path(folder+\"clean-data\", \"fuel_sold_motor_vehicles.csv\"))"
   ]
  },
  {
   "cell_type": "code",
   "execution_count": null,
   "id": "bb48b27f",
   "metadata": {},
   "outputs": [],
   "source": [
    "fuel_sold_df"
   ]
  },
  {
   "cell_type": "markdown",
   "id": "9afa01ee",
   "metadata": {},
   "source": [
    "### Topic: Vehicle registrations, by type of vehicle (Statistics Canada)\n",
    "\n",
    "https://open.canada.ca/data/en/dataset/9aea572f-f54f-42a1-b411-0b06390ed9f9"
   ]
  },
  {
   "cell_type": "code",
   "execution_count": null,
   "id": "1ab1936b",
   "metadata": {},
   "outputs": [],
   "source": [
    "vehicle_reg = \"https://www150.statcan.gc.ca/n1/tbl/csv/23100067-eng.zip\"\n",
    "\n",
    "resp = urlopen(vehicle_reg)\n",
    "myzip = ZipFile(BytesIO(resp.read()))\n",
    "file_name = [item for item in myzip.namelist() if \"MetaData\" not in item]\n",
    "\n",
    "vehicle_reg_csv = myzip.open(file_name[0])\n",
    "vehicle_reg_df = pd.read_csv(vehicle_reg_csv)\n",
    "\n",
    "vehicle_reg_df.drop(columns=['DGUID',\n",
    "                                       'UOM_ID',\n",
    "                                       'SCALAR_ID',\n",
    "                                       'VECTOR',\n",
    "                                       'COORDINATE',\n",
    "                                       'STATUS',\n",
    "                                       'SYMBOL',\n",
    "                                       'TERMINATED',\n",
    "                                       'DECIMALS'], inplace=True)\n",
    "\n"
   ]
  },
  {
   "cell_type": "code",
   "execution_count": null,
   "id": "75f66d97",
   "metadata": {},
   "outputs": [],
   "source": [
    "vehicle_reg_df.to_csv(Path(folder+\"clean-data\", \"vehicle_registrations_type_vehicle.csv\"))"
   ]
  },
  {
   "cell_type": "code",
   "execution_count": null,
   "id": "562b34d8-1fda-43c9-a253-d40586c80729",
   "metadata": {},
   "outputs": [],
   "source": []
  }
 ],
 "metadata": {
  "kernelspec": {
   "display_name": "Python MP Capstone",
   "language": "python",
   "name": "ml-project-env"
  },
  "language_info": {
   "codemirror_mode": {
    "name": "ipython",
    "version": 3
   },
   "file_extension": ".py",
   "mimetype": "text/x-python",
   "name": "python",
   "nbconvert_exporter": "python",
   "pygments_lexer": "ipython3",
   "version": "3.7.13"
  }
 },
 "nbformat": 4,
 "nbformat_minor": 5
}

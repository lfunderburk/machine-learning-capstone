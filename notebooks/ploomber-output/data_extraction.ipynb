{
 "cells": [
  {
   "cell_type": "code",
   "execution_count": 1,
   "id": "26d66296",
   "metadata": {
    "execution": {
     "iopub.execute_input": "2022-11-16T20:13:27.878825Z",
     "iopub.status.busy": "2022-11-16T20:13:27.878825Z",
     "iopub.status.idle": "2022-11-16T20:13:27.893103Z",
     "shell.execute_reply": "2022-11-16T20:13:27.892289Z"
    },
    "papermill": {
     "duration": 0.03331,
     "end_time": "2022-11-16T20:13:27.896139",
     "exception": false,
     "start_time": "2022-11-16T20:13:27.862829",
     "status": "completed"
    },
    "tags": [
     "parameters"
    ]
   },
   "outputs": [],
   "source": [
    "# declare a list tasks whose products you want to use as inputs\n",
    "upstream = None\n"
   ]
  },
  {
   "cell_type": "code",
   "execution_count": 2,
   "id": "255f8ced",
   "metadata": {
    "execution": {
     "iopub.execute_input": "2022-11-16T20:13:27.910000Z",
     "iopub.status.busy": "2022-11-16T20:13:27.910000Z",
     "iopub.status.idle": "2022-11-16T20:13:27.924782Z",
     "shell.execute_reply": "2022-11-16T20:13:27.923996Z"
    },
    "papermill": {
     "duration": 0.023504,
     "end_time": "2022-11-16T20:13:27.926810",
     "exception": false,
     "start_time": "2022-11-16T20:13:27.903306",
     "status": "completed"
    },
    "tags": [
     "injected-parameters"
    ]
   },
   "outputs": [],
   "source": [
    "# Parameters\n",
    "product = {\"nb\": \"C:\\\\Users\\\\Laura GF\\\\Documents\\\\GitHub\\\\machine-learning-capstone\\\\notebooks\\\\ploomber-output\\\\data_extraction.ipynb\", \"data\": \"C:\\\\Users\\\\Laura GF\\\\Documents\\\\GitHub\\\\machine-learning-capstone\\\\data\\\\clean-data\\\\wide_format_car_sales.csv\"}\n"
   ]
  },
  {
   "cell_type": "code",
   "execution_count": 3,
   "id": "5a7406df",
   "metadata": {
    "execution": {
     "iopub.execute_input": "2022-11-16T20:13:27.933785Z",
     "iopub.status.busy": "2022-11-16T20:13:27.933785Z",
     "iopub.status.idle": "2022-11-16T20:13:28.393059Z",
     "shell.execute_reply": "2022-11-16T20:13:28.393059Z"
    },
    "papermill": {
     "duration": 0.465217,
     "end_time": "2022-11-16T20:13:28.395085",
     "exception": false,
     "start_time": "2022-11-16T20:13:27.929868",
     "status": "completed"
    },
    "tags": []
   },
   "outputs": [],
   "source": [
    "import pandas as pd\n",
    "import requests\n",
    "import sys\n",
    "from pathlib import Path\n",
    "import re\n",
    "from io import BytesIO\n",
    "from zipfile import ZipFile\n",
    "from urllib.request import urlopen"
   ]
  },
  {
   "cell_type": "code",
   "execution_count": 4,
   "id": "58eb3315",
   "metadata": {
    "execution": {
     "iopub.execute_input": "2022-11-16T20:13:28.402568Z",
     "iopub.status.busy": "2022-11-16T20:13:28.402568Z",
     "iopub.status.idle": "2022-11-16T20:13:28.411574Z",
     "shell.execute_reply": "2022-11-16T20:13:28.408596Z"
    },
    "papermill": {
     "duration": 0.01802,
     "end_time": "2022-11-16T20:13:28.417075",
     "exception": false,
     "start_time": "2022-11-16T20:13:28.399055",
     "status": "completed"
    },
    "tags": []
   },
   "outputs": [],
   "source": [
    "global model_dict\n",
    "global transmission_dict\n",
    "global fuel_dict\n",
    "global stats_can_dict \n",
    "global month_dic"
   ]
  },
  {
   "cell_type": "code",
   "execution_count": 5,
   "id": "3eb02008",
   "metadata": {
    "execution": {
     "iopub.execute_input": "2022-11-16T20:13:28.423046Z",
     "iopub.status.busy": "2022-11-16T20:13:28.423046Z",
     "iopub.status.idle": "2022-11-16T20:13:28.442872Z",
     "shell.execute_reply": "2022-11-16T20:13:28.439973Z"
    },
    "papermill": {
     "duration": 0.027807,
     "end_time": "2022-11-16T20:13:28.447871",
     "exception": false,
     "start_time": "2022-11-16T20:13:28.420064",
     "status": "completed"
    },
    "tags": []
   },
   "outputs": [],
   "source": [
    "model_dict = {\"4wd/4X4\":\"Four-wheel drive\",\n",
    "\t      \"awd\": \"All-wheel drive\",\n",
    "\t      \"ffv\": \"Flexible-fuel vehicle\",\n",
    "\t      \"swb\": \"Short wheelbase\",\n",
    "\t      \"lwb\" : \"Long wheelbase\",\n",
    "\t      \"ewb\" : \"Extended wheelbase\",\n",
    "\t      \"cng\" : \"Compressed natural gas\",\n",
    "\t      \"ngv\" : \"Natural gas vehicle\",\n",
    "\t      \"#\" : \"High output engine that provides more power than the standard engine of the same size\"\n",
    " }"
   ]
  },
  {
   "cell_type": "code",
   "execution_count": 6,
   "id": "5e910810",
   "metadata": {
    "execution": {
     "iopub.execute_input": "2022-11-16T20:13:28.467972Z",
     "iopub.status.busy": "2022-11-16T20:13:28.467972Z",
     "iopub.status.idle": "2022-11-16T20:13:28.487298Z",
     "shell.execute_reply": "2022-11-16T20:13:28.486517Z"
    },
    "papermill": {
     "duration": 0.029352,
     "end_time": "2022-11-16T20:13:28.488297",
     "exception": false,
     "start_time": "2022-11-16T20:13:28.458945",
     "status": "completed"
    },
    "tags": []
   },
   "outputs": [],
   "source": [
    "transmission_dict = {\"A\": \"automatic\",\n",
    "\t\t     \"AM\": \"automated manual\",\n",
    "\t\t     \"AS\": \"automatic with select Shift\",\n",
    "\t\t     \"AV\": \"continuously variable\",\n",
    "\t\t     \"M\": \"manual\",\n",
    "\t\t     \"1 – 10\" : \"Number of gears\",\n",
    "}"
   ]
  },
  {
   "cell_type": "code",
   "execution_count": 7,
   "id": "be0abfe7",
   "metadata": {
    "execution": {
     "iopub.execute_input": "2022-11-16T20:13:28.496333Z",
     "iopub.status.busy": "2022-11-16T20:13:28.495324Z",
     "iopub.status.idle": "2022-11-16T20:13:28.503014Z",
     "shell.execute_reply": "2022-11-16T20:13:28.502213Z"
    },
    "papermill": {
     "duration": 0.011672,
     "end_time": "2022-11-16T20:13:28.504004",
     "exception": false,
     "start_time": "2022-11-16T20:13:28.492332",
     "status": "completed"
    },
    "tags": []
   },
   "outputs": [],
   "source": [
    "fuel_dict = {\"X\": \"regular gasoline\",\n",
    "\t     \"Z\": \"premium gasoline\",\n",
    " \t     \"D\": \"diesel\",\n",
    "\t     \"E\": \"ethanol (E85)\",\n",
    "\t     \"N\": \"natural gas\",\n",
    "\t     \"B\": \"electricity\"\n",
    "}"
   ]
  },
  {
   "cell_type": "code",
   "execution_count": 8,
   "id": "35b6b1fa",
   "metadata": {
    "execution": {
     "iopub.execute_input": "2022-11-16T20:13:28.512002Z",
     "iopub.status.busy": "2022-11-16T20:13:28.512002Z",
     "iopub.status.idle": "2022-11-16T20:13:28.518008Z",
     "shell.execute_reply": "2022-11-16T20:13:28.518008Z"
    },
    "papermill": {
     "duration": 0.011971,
     "end_time": "2022-11-16T20:13:28.519975",
     "exception": false,
     "start_time": "2022-11-16T20:13:28.508004",
     "status": "completed"
    },
    "tags": []
   },
   "outputs": [],
   "source": [
    "stats_can_dict = {\"new_motor_vehicle_reg\": \"https://www150.statcan.gc.ca/n1/tbl/csv/20100024-eng.zip\",\n",
    "                  \"near_zero_vehicle_registrations\": \"https://www150.statcan.gc.ca/n1/tbl/csv/20100025-eng.zip\",\n",
    "                  \"fuel_sold_motor_vehicles\": \"https://www150.statcan.gc.ca/n1/tbl/csv/23100066-eng.zip\",\n",
    "                  \"vehicle_registrations_type_vehicle\": \"https://www150.statcan.gc.ca/n1/tbl/csv/23100067-eng.zip\"\n",
    "}"
   ]
  },
  {
   "cell_type": "code",
   "execution_count": 9,
   "id": "e02db388",
   "metadata": {
    "execution": {
     "iopub.execute_input": "2022-11-16T20:13:28.527972Z",
     "iopub.status.busy": "2022-11-16T20:13:28.526976Z",
     "iopub.status.idle": "2022-11-16T20:13:28.533002Z",
     "shell.execute_reply": "2022-11-16T20:13:28.533002Z"
    },
    "papermill": {
     "duration": 0.012073,
     "end_time": "2022-11-16T20:13:28.535047",
     "exception": false,
     "start_time": "2022-11-16T20:13:28.522974",
     "status": "completed"
    },
    "tags": []
   },
   "outputs": [],
   "source": [
    "month_dic = {\n",
    "            'jan': \"01\",\n",
    "            'feb': \"02\",\n",
    "            'mar': \"03\",\n",
    "            'apr': \"04\",\n",
    "            'may': \"05\",\n",
    "            'jun': \"06\",\n",
    "            'jul': \"07\",\n",
    "            'aug': \"08\",\n",
    "            'sep': \"09\",\n",
    "            'oct': \"10\",\n",
    "            'nov': \"11\",\n",
    "            'dec': \"12\"\n",
    "            }"
   ]
  },
  {
   "cell_type": "code",
   "execution_count": 10,
   "id": "359c2fa8",
   "metadata": {
    "execution": {
     "iopub.execute_input": "2022-11-16T20:13:28.542049Z",
     "iopub.status.busy": "2022-11-16T20:13:28.542049Z",
     "iopub.status.idle": "2022-11-16T20:13:28.549251Z",
     "shell.execute_reply": "2022-11-16T20:13:28.549251Z"
    },
    "papermill": {
     "duration": 0.013252,
     "end_time": "2022-11-16T20:13:28.551300",
     "exception": false,
     "start_time": "2022-11-16T20:13:28.538048",
     "status": "completed"
    },
    "tags": []
   },
   "outputs": [],
   "source": [
    "def fuel_consumption_metadata_extraction() -> pd.DataFrame:\n",
    "    \"\"\"\n",
    "    Extract metadata from fuel consumption data\n",
    "    \n",
    "    Returns\n",
    "    -------\n",
    "    final_result : pd.DataFrame\n",
    "        Dataframe containing metadata from fuel consumption data\n",
    "    \"\"\"\n",
    "    try:\n",
    "        # Extract data in JSON format from URL\n",
    "        url_open_canada = \"https://open.canada.ca/data/api/action/package_show?id=98f1a129-f628-4ce4-b24d-6f16bf24dd64\"\n",
    "        json_resp = requests.get(url_open_canada)\n",
    "        # Check response is successful and application is of type JSON\n",
    "        if json_resp.status_code == 200 and 'application/json' in json_resp.headers.get('Content-Type',''):\n",
    "            # Format data and obtain entries in english\n",
    "            open_canada_data = json_resp.json()\n",
    "            data_entries = pd.json_normalize(open_canada_data['result'], record_path=\"resources\")\n",
    "            data_entries['language'] = data_entries['language'].apply(lambda col: col[0])\n",
    "            data_entries_english = data_entries[data_entries['language']=='en']\n",
    "            final_result = data_entries_english[['name','url']]\n",
    "        else:\n",
    "            print(\"Error - check the url is still valid \\\n",
    "                https://open.canada.ca/data/api/action/package_show?id=98f1a129-f628-4ce4-b24d-6f16bf24dd64\")\n",
    "            final_result = pd.DataFrame(columns=['name','url'])\n",
    "            sys.exit(1)\n",
    "        return final_result\n",
    "    except requests.exceptions.HTTPError as errh:\n",
    "        print (\"Http Error:\",errh)\n",
    "    except requests.exceptions.ConnectionError as errc:\n",
    "        print (\"Error Connecting:\",errc)\n",
    "    except requests.exceptions.Timeout as errt:\n",
    "        print (\"Timeout Error:\",errt)\n",
    "    except requests.exceptions.RequestException as err:\n",
    "        print (\"OOps: Something Else\",err)"
   ]
  },
  {
   "cell_type": "code",
   "execution_count": 11,
   "id": "9fa46be5",
   "metadata": {
    "execution": {
     "iopub.execute_input": "2022-11-16T20:13:28.558300Z",
     "iopub.status.busy": "2022-11-16T20:13:28.558300Z",
     "iopub.status.idle": "2022-11-16T20:13:28.565915Z",
     "shell.execute_reply": "2022-11-16T20:13:28.565125Z"
    },
    "lines_to_next_cell": 1,
    "papermill": {
     "duration": 0.012614,
     "end_time": "2022-11-16T20:13:28.566943",
     "exception": false,
     "start_time": "2022-11-16T20:13:28.554329",
     "status": "completed"
    },
    "tags": []
   },
   "outputs": [],
   "source": [
    "def extract_raw_data(url:str):\n",
    "    \"\"\"\n",
    "    Extract raw data from a URL\n",
    "    \n",
    "    Parameters\n",
    "    ----------\n",
    "    url : str\n",
    "        URL to extract data from\n",
    "\n",
    "    \"\"\"\n",
    "    try:\n",
    "        \n",
    "        # Perform query\n",
    "        csv_req = requests.get(url)\n",
    "        # Parse content\n",
    "        url_content = csv_req\n",
    "        \n",
    "        return url_content\n",
    "    except requests.exceptions.HTTPError as errh:\n",
    "        print(\"Http Error:\",errh)\n",
    "    except requests.exceptions.ConnectionError as errc:\n",
    "        print(\"Error Connecting:\",errc)\n",
    "    except requests.exceptions.Timeout as errt:\n",
    "        print(\"Timeout Error:\",errt)\n",
    "    except requests.exceptions.RequestException as err:\n",
    "        print(\"OOps: Something Else\",err)"
   ]
  },
  {
   "cell_type": "code",
   "execution_count": 12,
   "id": "87c9336f",
   "metadata": {
    "execution": {
     "iopub.execute_input": "2022-11-16T20:13:28.573913Z",
     "iopub.status.busy": "2022-11-16T20:13:28.573913Z",
     "iopub.status.idle": "2022-11-16T20:13:28.582134Z",
     "shell.execute_reply": "2022-11-16T20:13:28.581198Z"
    },
    "lines_to_next_cell": 1,
    "papermill": {
     "duration": 0.012262,
     "end_time": "2022-11-16T20:13:28.583173",
     "exception": false,
     "start_time": "2022-11-16T20:13:28.570911",
     "status": "completed"
    },
    "tags": []
   },
   "outputs": [],
   "source": [
    "def save_raw_data(folder_path: str, url_content: str) -> None:\n",
    "    \"\"\"\n",
    "    This function saves the raw data obtained using extract_raw_data() into a CSV file\n",
    "    \n",
    "    Parameters\n",
    "    ----------\n",
    "    folder_path : str\n",
    "        Path to the folder where the data will be saved\n",
    "    url_content : str\n",
    "        Content of the URL to be saved\n",
    "\n",
    "    Returns\n",
    "    -------\n",
    "    None.\n",
    "    \"\"\"\n",
    "    # Save content into file\n",
    "    csv_file = open(Path(folder_path,file_name), 'wb')\n",
    "    csv_file.write(url_content.content)\n",
    "    csv_file.close()"
   ]
  },
  {
   "cell_type": "code",
   "execution_count": 13,
   "id": "2a6a30f0",
   "metadata": {
    "execution": {
     "iopub.execute_input": "2022-11-16T20:13:28.590157Z",
     "iopub.status.busy": "2022-11-16T20:13:28.590157Z",
     "iopub.status.idle": "2022-11-16T20:13:28.612845Z",
     "shell.execute_reply": "2022-11-16T20:13:28.612054Z"
    },
    "lines_to_next_cell": 1,
    "papermill": {
     "duration": 0.026685,
     "end_time": "2022-11-16T20:13:28.613857",
     "exception": false,
     "start_time": "2022-11-16T20:13:28.587172",
     "status": "completed"
    },
    "tags": []
   },
   "outputs": [],
   "source": [
    "def read_and_clean_csv_file(folder_path, csv_file_name) -> pd.DataFrame:\n",
    "    \"\"\"\n",
    "    This function reads a csv file and performs data cleaning\n",
    "    \n",
    "    Parameters\n",
    "    ----------\n",
    "    folder_path : str\n",
    "        Path to the folder where the data is saved\n",
    "    csv_file_name : str\n",
    "        Name of the csv file to be read\n",
    "\n",
    "    Returns\n",
    "    -------\n",
    "    final_df : pd.DataFrame\n",
    "        Dataframe containing the cleaned data\n",
    "\n",
    "    \"\"\"\n",
    "    # Read CSV file\n",
    "    df = pd.read_csv(Path(folder_path,csv_file_name), sep=\",\", low_memory=False, encoding='cp1252')\n",
    "    \n",
    "    # Data cleaning\n",
    "    sample_df_col = df.dropna(thresh=1 ,axis=1).dropna(thresh=1 ,axis=0)\n",
    "    sample_df_col.columns = [item.lower() for item in sample_df_col.columns]\n",
    "    sample_df_no_footer = sample_df_col.dropna(thresh=3 ,axis=0)\n",
    "    \n",
    "    # Remove Unnamed cols\n",
    "    cols = sample_df_no_footer.columns\n",
    "    cleaned_cols = [re.sub(r'unnamed: \\d*', \"fuel consumption\", item) if \"unnamed\" in item else item for item in cols]\n",
    "\n",
    "\n",
    "    # Clean row 1 on df\n",
    "    str_item_cols = [str(item) for item in sample_df_no_footer.iloc[0:1,].values[0]]\n",
    "    str_non_nan = [\"\" if item=='nan' else item for item in str_item_cols]\n",
    "\n",
    "    # Form new columns\n",
    "    new_cols = []\n",
    "    for itema,itemb in zip(cleaned_cols, str_non_nan):\n",
    "        new_cols.append(f'{itema}_{itemb}'.lower().replace(\"*\",\"\").replace(\" \",\"\").replace(r'#=highoutputengine',\"\"))\n",
    "\n",
    "    # Reset column names\n",
    "    final_df = sample_df_no_footer.iloc[1:, ].copy()\n",
    "    final_df.columns = new_cols\n",
    "\n",
    "    # Additional data cleaning\n",
    "    final_df.drop_duplicates(keep='first', inplace=True)\n",
    "\n",
    "    # Turn make, model.1_, vehicleclass_ into lowercase\n",
    "    final_df['make_'] = final_df['make_'].str.lower()\n",
    "    final_df['model.1_'] = final_df['model.1_'].str.lower()\n",
    "    final_df['vehicleclass_'] = final_df['vehicleclass_'].str.lower()\n",
    "\n",
    "    # Character cleaning for vehicleclass_: replace \":\" with \"-\"\n",
    "    final_df['vehicleclass_'] = final_df['vehicleclass_'].str.replace(\":\",\" -\")\n",
    "\n",
    "    # Turn make, model.1_, vehicleclass_ into categorical variables\n",
    "    final_df['make_'] = final_df['make_'].astype('category')\n",
    "    final_df['model.1_'] = final_df['model.1_'].astype('category')\n",
    "    final_df['vehicleclass_'] = final_df['vehicleclass_'].astype('category')\n",
    "\n",
    "    # Mappings\n",
    "    final_df = final_df.join(final_df['transmission_'].str.split(r'(\\d+)', \\\n",
    "        expand=True).drop(columns=[2]).rename(columns={\n",
    "                                                        0:\"transmission_type\",\n",
    "                                                        1:\"number_of_gears\"}))\n",
    "    final_df['transmission_type'] = final_df['transmission_type'].map(transmission_dict)\n",
    "\n",
    "    return final_df"
   ]
  },
  {
   "cell_type": "code",
   "execution_count": 14,
   "id": "cb0bcd84",
   "metadata": {
    "execution": {
     "iopub.execute_input": "2022-11-16T20:13:28.622857Z",
     "iopub.status.busy": "2022-11-16T20:13:28.622857Z",
     "iopub.status.idle": "2022-11-16T20:13:28.627866Z",
     "shell.execute_reply": "2022-11-16T20:13:28.627866Z"
    },
    "papermill": {
     "duration": 0.010986,
     "end_time": "2022-11-16T20:13:28.629827",
     "exception": false,
     "start_time": "2022-11-16T20:13:28.618841",
     "status": "completed"
    },
    "tags": []
   },
   "outputs": [],
   "source": [
    "def convert_model_key_words(s, dictionary):\n",
    "    \"\"\"\n",
    "    Add values from footnote\n",
    "    Parameters\n",
    "    ----------\n",
    "    s : pd.Series\n",
    "        row of dataframe\n",
    "    dictionary : dict\n",
    "        one of the dictionaries defined globally.\n",
    "    \"\"\"\n",
    "\n",
    "    group = \"unspecified\"\n",
    "    for key in dictionary:\n",
    "        if key in s:\n",
    "            group = dictionary[key]\n",
    "            break\n",
    "    return group"
   ]
  },
  {
   "cell_type": "code",
   "execution_count": 15,
   "id": "b0f89378",
   "metadata": {
    "execution": {
     "iopub.execute_input": "2022-11-16T20:13:28.637854Z",
     "iopub.status.busy": "2022-11-16T20:13:28.636827Z",
     "iopub.status.idle": "2022-11-16T20:13:28.644824Z",
     "shell.execute_reply": "2022-11-16T20:13:28.643824Z"
    },
    "papermill": {
     "duration": 0.012999,
     "end_time": "2022-11-16T20:13:28.645825",
     "exception": false,
     "start_time": "2022-11-16T20:13:28.632826",
     "status": "completed"
    },
    "tags": []
   },
   "outputs": [],
   "source": [
    "def extract_stats_can_data(stats_can_url: str, folder_path:str, file_name : str) -> None:\n",
    "    \"\"\"\n",
    "    This function extracts data from StatsCan and saves it into a CSV file\n",
    "    Parameters:\n",
    "        stats_can_url (str): URL to StatsCan data\n",
    "        folder_path (str): Path to folder where data will be saved\n",
    "        file_name (str): Name of file where data will be saved\n",
    "    Returns:\n",
    "        None\n",
    "    \"\"\"\n",
    "    resp = urlopen(stats_can_url)\n",
    "    myzip = ZipFile(BytesIO(resp.read()))\n",
    "    extraction_file_name = [item for item in myzip.namelist() if \"MetaData\" not in item]\n",
    "    stats_can_csv = myzip.open(extraction_file_name[0])\n",
    "    stats_can_df = pd.read_csv(stats_can_csv)\n",
    "    stats_can_df.drop(columns=['DGUID',\n",
    "                             'UOM_ID',\n",
    "                             'SCALAR_ID',\n",
    "                             'VECTOR',\n",
    "                             'COORDINATE',\n",
    "                             'STATUS',\n",
    "                             'SYMBOL',\n",
    "                             'TERMINATED',\n",
    "                             'DECIMALS'], inplace=True)\n",
    "\n",
    "\n",
    "\n",
    "    stats_can_df.to_csv(Path(folder_path, file_name))"
   ]
  },
  {
   "cell_type": "code",
   "execution_count": 16,
   "id": "9fe49705",
   "metadata": {
    "execution": {
     "iopub.execute_input": "2022-11-16T20:13:28.653854Z",
     "iopub.status.busy": "2022-11-16T20:13:28.653854Z",
     "iopub.status.idle": "2022-11-16T20:13:28.676162Z",
     "shell.execute_reply": "2022-11-16T20:13:28.675153Z"
    },
    "papermill": {
     "duration": 0.027335,
     "end_time": "2022-11-16T20:13:28.677164",
     "exception": false,
     "start_time": "2022-11-16T20:13:28.649829",
     "status": "completed"
    },
    "tags": []
   },
   "outputs": [],
   "source": [
    "def process_json_car_sales(json_filen_name, path) -> list():\n",
    "    \"\"\"\n",
    "    This function processes the JSON file containing car sales data and returns a dataframe\n",
    "    Parameters:\n",
    "        json_file_name (str): Name of JSON file\n",
    "        path (str): Path to folder where JSON file is located\n",
    "    Returns:\n",
    "        df_expanded_long (pd.DataFrame): Dataframe containing car sales data in long format\n",
    "        df_expanded_wide (pd.DataFrame): Dataframe containing car sales data in wide format\n",
    "\n",
    "    \"\"\"\n",
    "    json_df = pd.read_json(Path(path,json_filen_name)).set_index(\"model\")\n",
    "    json_df.dropna(how=\"all\", inplace=True)\n",
    "    \n",
    "    # Wide format\n",
    "    wide_df = pd.read_json(Path(path,json_filen_name))\n",
    "    df_expanded_wide = wide_df.join(wide_df.reset_index()['model'].str.split(' ', 1, expand=True).rename(columns={0:'make', 1:'model_'})).drop(columns=[\"model\"])\n",
    "    df_expanded_wide['year'] = json_filen_name.split(\"_\")[0]\n",
    "\n",
    "    # long format\n",
    "    long_format_df = pd.DataFrame(json_df.T.unstack()).reset_index().rename(columns={\"level_1\":\"month\",0:\"number_units_sold\"})\n",
    "    df_expanded_long = long_format_df.join(long_format_df.reset_index()['model'].str.split(' ', 1, expand=True).rename(columns={0:'make', 1:'model_'})).drop(columns=[\"model\"])\n",
    "    df_expanded_long['year'] = json_filen_name.split(\"_\")[0]\n",
    "    df_expanded_long['month']  = df_expanded_long['month'].map(month_dic) \n",
    "\n",
    "    # Remove ',' from number_units_sold\n",
    "    df_expanded_long['number_units_sold'] = df_expanded_long['number_units_sold'].str.replace(\",\",\"\")\n",
    "\n",
    "    # Transform month and number_units_sold to int \n",
    "    df_expanded_long['month'] = df_expanded_long['month'].astype('int')\n",
    "    df_expanded_long['number_units_sold'] = df_expanded_long['number_units_sold'].astype('int')\n",
    "\n",
    "    # Combine 'month' and 'year' into 'date' column and convert to datetime in format YYYY-MM \n",
    "    df_expanded_long['date'] = df_expanded_long['year'].astype(str) + \"-\" + df_expanded_long['month'].astype(str)\n",
    "    # Convert 'date' to datetime\n",
    "    df_expanded_long['date'] = pd.to_datetime(df_expanded_long['date'], format='%Y-%m')\n",
    "    # Drop 'month' and 'year' columns\n",
    "    df_expanded_long.drop(columns=['month','year'], inplace=True)\n",
    "\n",
    "    return df_expanded_long, df_expanded_wide"
   ]
  },
  {
   "cell_type": "code",
   "execution_count": null,
   "id": "bece8067",
   "metadata": {
    "lines_to_next_cell": 2,
    "papermill": {
     "duration": 0.003031,
     "end_time": "2022-11-16T20:13:28.684181",
     "exception": false,
     "start_time": "2022-11-16T20:13:28.681150",
     "status": "completed"
    },
    "tags": []
   },
   "outputs": [],
   "source": []
  },
  {
   "cell_type": "code",
   "execution_count": 17,
   "id": "68057c6d",
   "metadata": {
    "execution": {
     "iopub.execute_input": "2022-11-16T20:13:28.691191Z",
     "iopub.status.busy": "2022-11-16T20:13:28.691191Z",
     "iopub.status.idle": "2022-11-16T20:14:21.098699Z",
     "shell.execute_reply": "2022-11-16T20:14:21.097841Z"
    },
    "papermill": {
     "duration": 52.413439,
     "end_time": "2022-11-16T20:14:21.100619",
     "exception": false,
     "start_time": "2022-11-16T20:13:28.687180",
     "status": "completed"
    },
    "tags": []
   },
   "outputs": [],
   "source": [
    "if __name__=='__main__':\n",
    "    # Variable initialization\n",
    "    raw_data_path = Path(\"C:/Users/Laura GF/Documents/GitHub/machine-learning-capstone/data/raw-data/\")\n",
    "    \n",
    "    clean_data_path = Path(\"C:/Users/Laura GF/Documents/GitHub/machine-learning-capstone/data/clean-data/\")\n",
    "    \n",
    "    # Master dataframe initialization\n",
    "    fuel_based_df = []\n",
    "\n",
    "    # Fuel consumption metadata extraction urls\n",
    "    data_entries_english = fuel_consumption_metadata_extraction()\n",
    "    \n",
    "    # Iterate over entries\n",
    "    for item in data_entries_english.iterrows():\n",
    "        name, url = item[1][\"name\"], item[1][\"url\"]\n",
    "        \n",
    "        # Form file name\n",
    "        file_name = f'{name.replace(\" \",\"_\")}.csv'\n",
    "\n",
    "        # Extract raw data\n",
    "        item_based_url  = extract_raw_data(url)\n",
    "\n",
    "        # Save raw data into a csv file\n",
    "        save_raw_data(raw_data_path,item_based_url)\n",
    "        \n",
    "        # Read and clean csv file\n",
    "        final_df = read_and_clean_csv_file(raw_data_path, name.replace(\" \",\"_\")+\".csv\")\n",
    "\n",
    "        # Populate dataframe with information from the footnotes\n",
    "        if \"electric\" in name:\n",
    "            final_df.to_csv(Path(clean_data_path,file_name), index=False)\n",
    "        else:\n",
    "            final_df['mapped_fuel_type'] = final_df['fuel_type'].map(fuel_dict)\n",
    "            final_df[\"type_of_wheel_drive\"] = final_df['model.1_'].apply(lambda x: convert_model_key_words(x, model_dict)) \n",
    "            fuel_based_df.append(final_df)\n",
    "\n",
    "    # Concatenate all dataframes\n",
    "    fuel_based_df = pd.concat(fuel_based_df)\n",
    "\n",
    "    # Add dummies \n",
    "    # fuel_based_df = pd.get_dummies(fuel_based_df, columns=['type_of_transmission', 'type_of_fuel'], drop_first=True)\n",
    "    # electric_based_df = pd.get_dummies(electric_based_df, columns=['type_of_transmission'], drop_first=True)\n",
    "    \n",
    "    # Save dataframes\n",
    "    fuel_based_df.to_csv(Path(clean_data_path,\"1995_2022_vehicle_fuel_consumption.csv\"), index=False)\n",
    "    \n",
    "    # Extract StatsCan data\n",
    "    for keys in stats_can_dict:\n",
    "        extract_stats_can_data(stats_can_dict[keys], clean_data_path, f'{keys}.csv')\n",
    "\n",
    "    # Extract car sales data\n",
    "    long_format_2021_sep,df_2021 =  process_json_car_sales(\"2021_canada_vehicle_sales.json\", raw_data_path)\n",
    "    long_format_2020_sep,df_2020 =  process_json_car_sales(\"2020_canada_vehicle_sales.json\", raw_data_path)\n",
    "    long_format_2019_sep,df_2019 =  process_json_car_sales(\"2019_canada_vehicle_sales.json\", raw_data_path)\n",
    "\n",
    "    # Concatenate car sales data \n",
    "    long_format_car_sales = pd.concat([long_format_2019_sep, long_format_2020_sep, long_format_2021_sep])\n",
    "    wide_format_car_sales = pd.concat([df_2019, df_2020, df_2021])\n",
    "\n",
    "    # Save car sales data\n",
    "    long_format_car_sales.to_csv(Path(clean_data_path,\"long_format_car_sales.csv\"), index=False)\n",
    "    wide_format_car_sales.to_csv(Path(clean_data_path,\"wide_format_car_sales.csv\"), index=False)"
   ]
  }
 ],
 "metadata": {
  "jupytext": {
   "cell_metadata_filter": "tags,-all",
   "main_language": "python",
   "notebook_metadata_filter": "-all",
   "text_representation": {
    "extension": ".py",
    "format_name": "light"
   }
  },
  "kernelspec": {
   "display_name": "Python 3 (ipykernel)",
   "language": "python",
   "name": "python3"
  },
  "language_info": {
   "codemirror_mode": {
    "name": "ipython",
    "version": 3
   },
   "file_extension": ".py",
   "mimetype": "text/x-python",
   "name": "python",
   "nbconvert_exporter": "python",
   "pygments_lexer": "ipython3",
   "version": "3.7.13"
  },
  "papermill": {
   "duration": 55.348489,
   "end_time": "2022-11-16T20:14:21.349305",
   "exception": null,
   "input_path": "C:\\Users\\LAURAG~1\\AppData\\Local\\Temp\\tmpncln4fue.ipynb",
   "output_path": "C:\\Users\\Laura GF\\Documents\\GitHub\\machine-learning-capstone\\notebooks\\ploomber-output\\data_extraction.ipynb",
   "parameters": {
    "product": {
     "data": "C:\\Users\\Laura GF\\Documents\\GitHub\\machine-learning-capstone\\data\\clean-data\\wide_format_car_sales.csv",
     "nb": "C:\\Users\\Laura GF\\Documents\\GitHub\\machine-learning-capstone\\notebooks\\ploomber-output\\data_extraction.ipynb"
    }
   },
   "start_time": "2022-11-16T20:13:26.000816"
  }
 },
 "nbformat": 4,
 "nbformat_minor": 5
}
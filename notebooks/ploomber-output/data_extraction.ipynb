{
 "cells": [
  {
   "cell_type": "code",
   "execution_count": 1,
   "id": "41ad7c99",
   "metadata": {
    "execution": {
     "iopub.execute_input": "2022-11-16T21:19:03.843345Z",
     "iopub.status.busy": "2022-11-16T21:19:03.843345Z",
     "iopub.status.idle": "2022-11-16T21:19:03.851689Z",
     "shell.execute_reply": "2022-11-16T21:19:03.850593Z"
    },
    "papermill": {
     "duration": 0.016795,
     "end_time": "2022-11-16T21:19:03.852716",
     "exception": false,
     "start_time": "2022-11-16T21:19:03.835921",
     "status": "completed"
    },
    "tags": [
     "parameters"
    ]
   },
   "outputs": [],
   "source": [
    "# declare a list tasks whose products you want to use as inputs\n",
    "upstream = None\n"
   ]
  },
  {
   "cell_type": "code",
   "execution_count": 2,
   "id": "c3aa2a0e",
   "metadata": {
    "execution": {
     "iopub.execute_input": "2022-11-16T21:19:03.861686Z",
     "iopub.status.busy": "2022-11-16T21:19:03.860756Z",
     "iopub.status.idle": "2022-11-16T21:19:03.865884Z",
     "shell.execute_reply": "2022-11-16T21:19:03.865884Z"
    },
    "papermill": {
     "duration": 0.011237,
     "end_time": "2022-11-16T21:19:03.867924",
     "exception": false,
     "start_time": "2022-11-16T21:19:03.856687",
     "status": "completed"
    },
    "tags": [
     "injected-parameters"
    ]
   },
   "outputs": [],
   "source": [
    "# Parameters\n",
    "product = {\"nb\": \"C:\\\\Users\\\\Laura GF\\\\Documents\\\\GitHub\\\\machine-learning-capstone\\\\notebooks\\\\ploomber-output\\\\data_extraction.ipynb\", \"data\": \"C:\\\\Users\\\\Laura GF\\\\Documents\\\\GitHub\\\\machine-learning-capstone\\\\data\\\\clean-data\\\\wide_format_car_sales.csv\"}\n"
   ]
  },
  {
   "cell_type": "code",
   "execution_count": 3,
   "id": "36308ae1",
   "metadata": {
    "execution": {
     "iopub.execute_input": "2022-11-16T21:19:03.873929Z",
     "iopub.status.busy": "2022-11-16T21:19:03.873929Z",
     "iopub.status.idle": "2022-11-16T21:19:04.277671Z",
     "shell.execute_reply": "2022-11-16T21:19:04.275675Z"
    },
    "papermill": {
     "duration": 0.410735,
     "end_time": "2022-11-16T21:19:04.281668",
     "exception": false,
     "start_time": "2022-11-16T21:19:03.870933",
     "status": "completed"
    },
    "tags": []
   },
   "outputs": [],
   "source": [
    "import pandas as pd\n",
    "import requests\n",
    "import sys, os\n",
    "from pathlib import Path\n",
    "import re\n",
    "from io import BytesIO\n",
    "from zipfile import ZipFile\n",
    "from urllib.request import urlopen"
   ]
  },
  {
   "cell_type": "code",
   "execution_count": 4,
   "id": "57df97f3",
   "metadata": {
    "execution": {
     "iopub.execute_input": "2022-11-16T21:19:04.290666Z",
     "iopub.status.busy": "2022-11-16T21:19:04.290666Z",
     "iopub.status.idle": "2022-11-16T21:19:04.309675Z",
     "shell.execute_reply": "2022-11-16T21:19:04.307667Z"
    },
    "papermill": {
     "duration": 0.029003,
     "end_time": "2022-11-16T21:19:04.315668",
     "exception": false,
     "start_time": "2022-11-16T21:19:04.286665",
     "status": "completed"
    },
    "tags": []
   },
   "outputs": [],
   "source": [
    "global model_dict\n",
    "global transmission_dict\n",
    "global fuel_dict\n",
    "global stats_can_dict \n",
    "global month_dic"
   ]
  },
  {
   "cell_type": "code",
   "execution_count": 5,
   "id": "e60d7a82",
   "metadata": {
    "execution": {
     "iopub.execute_input": "2022-11-16T21:19:04.323666Z",
     "iopub.status.busy": "2022-11-16T21:19:04.323666Z",
     "iopub.status.idle": "2022-11-16T21:19:04.340584Z",
     "shell.execute_reply": "2022-11-16T21:19:04.339655Z"
    },
    "papermill": {
     "duration": 0.021917,
     "end_time": "2022-11-16T21:19:04.341581",
     "exception": false,
     "start_time": "2022-11-16T21:19:04.319664",
     "status": "completed"
    },
    "tags": []
   },
   "outputs": [],
   "source": [
    "model_dict = {\"4wd/4X4\":\"Four-wheel drive\",\n",
    "\t      \"awd\": \"All-wheel drive\",\n",
    "\t      \"ffv\": \"Flexible-fuel vehicle\",\n",
    "\t      \"swb\": \"Short wheelbase\",\n",
    "\t      \"lwb\" : \"Long wheelbase\",\n",
    "\t      \"ewb\" : \"Extended wheelbase\",\n",
    "\t      \"cng\" : \"Compressed natural gas\",\n",
    "\t      \"ngv\" : \"Natural gas vehicle\",\n",
    "\t      \"#\" : \"High output engine that provides more power than the standard engine of the same size\"\n",
    " }"
   ]
  },
  {
   "cell_type": "code",
   "execution_count": 6,
   "id": "cb0ec2ee",
   "metadata": {
    "execution": {
     "iopub.execute_input": "2022-11-16T21:19:04.348581Z",
     "iopub.status.busy": "2022-11-16T21:19:04.348581Z",
     "iopub.status.idle": "2022-11-16T21:19:04.356761Z",
     "shell.execute_reply": "2022-11-16T21:19:04.355755Z"
    },
    "papermill": {
     "duration": 0.013204,
     "end_time": "2022-11-16T21:19:04.357785",
     "exception": false,
     "start_time": "2022-11-16T21:19:04.344581",
     "status": "completed"
    },
    "tags": []
   },
   "outputs": [],
   "source": [
    "transmission_dict = {\"A\": \"automatic\",\n",
    "\t\t     \"AM\": \"automated manual\",\n",
    "\t\t     \"AS\": \"automatic with select Shift\",\n",
    "\t\t     \"AV\": \"continuously variable\",\n",
    "\t\t     \"M\": \"manual\",\n",
    "\t\t     \"1 – 10\" : \"Number of gears\",\n",
    "}"
   ]
  },
  {
   "cell_type": "code",
   "execution_count": 7,
   "id": "d2430a83",
   "metadata": {
    "execution": {
     "iopub.execute_input": "2022-11-16T21:19:04.364741Z",
     "iopub.status.busy": "2022-11-16T21:19:04.364741Z",
     "iopub.status.idle": "2022-11-16T21:19:04.371757Z",
     "shell.execute_reply": "2022-11-16T21:19:04.370756Z"
    },
    "papermill": {
     "duration": 0.011926,
     "end_time": "2022-11-16T21:19:04.372710",
     "exception": false,
     "start_time": "2022-11-16T21:19:04.360784",
     "status": "completed"
    },
    "tags": []
   },
   "outputs": [],
   "source": [
    "fuel_dict = {\"X\": \"regular gasoline\",\n",
    "\t     \"Z\": \"premium gasoline\",\n",
    " \t     \"D\": \"diesel\",\n",
    "\t     \"E\": \"ethanol (E85)\",\n",
    "\t     \"N\": \"natural gas\",\n",
    "\t     \"B\": \"electricity\"\n",
    "}"
   ]
  },
  {
   "cell_type": "code",
   "execution_count": 8,
   "id": "1ed3d011",
   "metadata": {
    "execution": {
     "iopub.execute_input": "2022-11-16T21:19:04.379678Z",
     "iopub.status.busy": "2022-11-16T21:19:04.379678Z",
     "iopub.status.idle": "2022-11-16T21:19:04.387727Z",
     "shell.execute_reply": "2022-11-16T21:19:04.386719Z"
    },
    "papermill": {
     "duration": 0.012045,
     "end_time": "2022-11-16T21:19:04.388754",
     "exception": false,
     "start_time": "2022-11-16T21:19:04.376709",
     "status": "completed"
    },
    "tags": []
   },
   "outputs": [],
   "source": [
    "stats_can_dict = {\"new_motor_vehicle_reg\": \"https://www150.statcan.gc.ca/n1/tbl/csv/20100024-eng.zip\",\n",
    "                  \"near_zero_vehicle_registrations\": \"https://www150.statcan.gc.ca/n1/tbl/csv/20100025-eng.zip\",\n",
    "                  \"fuel_sold_motor_vehicles\": \"https://www150.statcan.gc.ca/n1/tbl/csv/23100066-eng.zip\",\n",
    "                  \"vehicle_registrations_type_vehicle\": \"https://www150.statcan.gc.ca/n1/tbl/csv/23100067-eng.zip\"\n",
    "}"
   ]
  },
  {
   "cell_type": "code",
   "execution_count": 9,
   "id": "37f1040e",
   "metadata": {
    "execution": {
     "iopub.execute_input": "2022-11-16T21:19:04.396754Z",
     "iopub.status.busy": "2022-11-16T21:19:04.396754Z",
     "iopub.status.idle": "2022-11-16T21:19:04.402726Z",
     "shell.execute_reply": "2022-11-16T21:19:04.401992Z"
    },
    "papermill": {
     "duration": 0.012029,
     "end_time": "2022-11-16T21:19:04.404755",
     "exception": false,
     "start_time": "2022-11-16T21:19:04.392726",
     "status": "completed"
    },
    "tags": []
   },
   "outputs": [],
   "source": [
    "month_dic = {\n",
    "            'jan': \"01\",\n",
    "            'feb': \"02\",\n",
    "            'mar': \"03\",\n",
    "            'apr': \"04\",\n",
    "            'may': \"05\",\n",
    "            'jun': \"06\",\n",
    "            'jul': \"07\",\n",
    "            'aug': \"08\",\n",
    "            'sep': \"09\",\n",
    "            'oct': \"10\",\n",
    "            'nov': \"11\",\n",
    "            'dec': \"12\"\n",
    "            }"
   ]
  },
  {
   "cell_type": "code",
   "execution_count": 10,
   "id": "9edeb379",
   "metadata": {
    "execution": {
     "iopub.execute_input": "2022-11-16T21:19:04.411754Z",
     "iopub.status.busy": "2022-11-16T21:19:04.411754Z",
     "iopub.status.idle": "2022-11-16T21:19:04.432913Z",
     "shell.execute_reply": "2022-11-16T21:19:04.432913Z"
    },
    "papermill": {
     "duration": 0.027047,
     "end_time": "2022-11-16T21:19:04.434801",
     "exception": false,
     "start_time": "2022-11-16T21:19:04.407754",
     "status": "completed"
    },
    "tags": []
   },
   "outputs": [],
   "source": [
    "def fuel_consumption_metadata_extraction() -> pd.DataFrame:\n",
    "    \"\"\"\n",
    "    Extract metadata from fuel consumption data\n",
    "    \n",
    "    Returns\n",
    "    -------\n",
    "    final_result : pd.DataFrame\n",
    "        Dataframe containing metadata from fuel consumption data\n",
    "    \"\"\"\n",
    "    try:\n",
    "        # Extract data in JSON format from URL\n",
    "        url_open_canada = \"https://open.canada.ca/data/api/action/package_show?id=98f1a129-f628-4ce4-b24d-6f16bf24dd64\"\n",
    "        json_resp = requests.get(url_open_canada)\n",
    "        # Check response is successful and application is of type JSON\n",
    "        if json_resp.status_code == 200 and 'application/json' in json_resp.headers.get('Content-Type',''):\n",
    "            # Format data and obtain entries in english\n",
    "            open_canada_data = json_resp.json()\n",
    "            data_entries = pd.json_normalize(open_canada_data['result'], record_path=\"resources\")\n",
    "            data_entries['language'] = data_entries['language'].apply(lambda col: col[0])\n",
    "            data_entries_english = data_entries[data_entries['language']=='en']\n",
    "            final_result = data_entries_english[['name','url']]\n",
    "        else:\n",
    "            print(\"Error - check the url is still valid \\\n",
    "                https://open.canada.ca/data/api/action/package_show?id=98f1a129-f628-4ce4-b24d-6f16bf24dd64\")\n",
    "            final_result = pd.DataFrame(columns=['name','url'])\n",
    "            sys.exit(1)\n",
    "        return final_result\n",
    "    except requests.exceptions.HTTPError as errh:\n",
    "        print (\"Http Error:\",errh)\n",
    "    except requests.exceptions.ConnectionError as errc:\n",
    "        print (\"Error Connecting:\",errc)\n",
    "    except requests.exceptions.Timeout as errt:\n",
    "        print (\"Timeout Error:\",errt)\n",
    "    except requests.exceptions.RequestException as err:\n",
    "        print (\"OOps: Something Else\",err)"
   ]
  },
  {
   "cell_type": "code",
   "execution_count": 11,
   "id": "600724e9",
   "metadata": {
    "execution": {
     "iopub.execute_input": "2022-11-16T21:19:04.441840Z",
     "iopub.status.busy": "2022-11-16T21:19:04.441840Z",
     "iopub.status.idle": "2022-11-16T21:19:04.449350Z",
     "shell.execute_reply": "2022-11-16T21:19:04.448341Z"
    },
    "lines_to_next_cell": 1,
    "papermill": {
     "duration": 0.013346,
     "end_time": "2022-11-16T21:19:04.451170",
     "exception": false,
     "start_time": "2022-11-16T21:19:04.437824",
     "status": "completed"
    },
    "tags": []
   },
   "outputs": [],
   "source": [
    "def extract_raw_data(url:str):\n",
    "    \"\"\"\n",
    "    Extract raw data from a URL\n",
    "    \n",
    "    Parameters\n",
    "    ----------\n",
    "    url : str\n",
    "        URL to extract data from\n",
    "\n",
    "    \"\"\"\n",
    "    try:\n",
    "        \n",
    "        # Perform query\n",
    "        csv_req = requests.get(url)\n",
    "        # Parse content\n",
    "        url_content = csv_req\n",
    "        \n",
    "        return url_content\n",
    "    except requests.exceptions.HTTPError as errh:\n",
    "        print(\"Http Error:\",errh)\n",
    "    except requests.exceptions.ConnectionError as errc:\n",
    "        print(\"Error Connecting:\",errc)\n",
    "    except requests.exceptions.Timeout as errt:\n",
    "        print(\"Timeout Error:\",errt)\n",
    "    except requests.exceptions.RequestException as err:\n",
    "        print(\"OOps: Something Else\",err)"
   ]
  },
  {
   "cell_type": "code",
   "execution_count": 12,
   "id": "011201a1",
   "metadata": {
    "execution": {
     "iopub.execute_input": "2022-11-16T21:19:04.458197Z",
     "iopub.status.busy": "2022-11-16T21:19:04.458197Z",
     "iopub.status.idle": "2022-11-16T21:19:04.464047Z",
     "shell.execute_reply": "2022-11-16T21:19:04.464047Z"
    },
    "lines_to_next_cell": 1,
    "papermill": {
     "duration": 0.012221,
     "end_time": "2022-11-16T21:19:04.466424",
     "exception": false,
     "start_time": "2022-11-16T21:19:04.454203",
     "status": "completed"
    },
    "tags": []
   },
   "outputs": [],
   "source": [
    "def save_raw_data(folder_path: str, url_content: str) -> None:\n",
    "    \"\"\"\n",
    "    This function saves the raw data obtained using extract_raw_data() into a CSV file\n",
    "    \n",
    "    Parameters\n",
    "    ----------\n",
    "    folder_path : str\n",
    "        Path to the folder where the data will be saved\n",
    "    url_content : str\n",
    "        Content of the URL to be saved\n",
    "\n",
    "    Returns\n",
    "    -------\n",
    "    None.\n",
    "    \"\"\"\n",
    "    # Save content into file\n",
    "    csv_file = open(Path(folder_path,file_name), 'wb')\n",
    "    csv_file.write(url_content.content)\n",
    "    csv_file.close()"
   ]
  },
  {
   "cell_type": "code",
   "execution_count": 13,
   "id": "daa8c1a6",
   "metadata": {
    "execution": {
     "iopub.execute_input": "2022-11-16T21:19:04.473425Z",
     "iopub.status.busy": "2022-11-16T21:19:04.473425Z",
     "iopub.status.idle": "2022-11-16T21:19:04.497575Z",
     "shell.execute_reply": "2022-11-16T21:19:04.494777Z"
    },
    "lines_to_next_cell": 1,
    "papermill": {
     "duration": 0.034198,
     "end_time": "2022-11-16T21:19:04.503621",
     "exception": false,
     "start_time": "2022-11-16T21:19:04.469423",
     "status": "completed"
    },
    "tags": []
   },
   "outputs": [],
   "source": [
    "def read_and_clean_csv_file(folder_path, csv_file_name) -> pd.DataFrame:\n",
    "    \"\"\"\n",
    "    This function reads a csv file and performs data cleaning\n",
    "    \n",
    "    Parameters\n",
    "    ----------\n",
    "    folder_path : str\n",
    "        Path to the folder where the data is saved\n",
    "    csv_file_name : str\n",
    "        Name of the csv file to be read\n",
    "\n",
    "    Returns\n",
    "    -------\n",
    "    final_df : pd.DataFrame\n",
    "        Dataframe containing the cleaned data\n",
    "\n",
    "    \"\"\"\n",
    "    # Read CSV file\n",
    "    df = pd.read_csv(Path(folder_path,csv_file_name), sep=\",\", low_memory=False, encoding='cp1252')\n",
    "    \n",
    "    # Data cleaning\n",
    "    sample_df_col = df.dropna(thresh=1 ,axis=1).dropna(thresh=1 ,axis=0)\n",
    "    sample_df_col.columns = [item.lower() for item in sample_df_col.columns]\n",
    "    sample_df_no_footer = sample_df_col.dropna(thresh=3 ,axis=0)\n",
    "    \n",
    "    # Remove Unnamed cols\n",
    "    cols = sample_df_no_footer.columns\n",
    "    cleaned_cols = [re.sub(r'unnamed: \\d*', \"fuel consumption\", item) if \"unnamed\" in item else item for item in cols]\n",
    "\n",
    "\n",
    "    # Clean row 1 on df\n",
    "    str_item_cols = [str(item) for item in sample_df_no_footer.iloc[0:1,].values[0]]\n",
    "    str_non_nan = [\"\" if item=='nan' else item for item in str_item_cols]\n",
    "\n",
    "    # Form new columns\n",
    "    new_cols = []\n",
    "    for itema,itemb in zip(cleaned_cols, str_non_nan):\n",
    "        new_cols.append(f'{itema}_{itemb}'.lower().replace(\"*\",\"\").replace(\" \",\"\").replace(r'#=highoutputengine',\"\"))\n",
    "\n",
    "    # Reset column names\n",
    "    final_df = sample_df_no_footer.iloc[1:, ].copy()\n",
    "    final_df.columns = new_cols\n",
    "\n",
    "    # Additional data cleaning\n",
    "    final_df.drop_duplicates(keep='first', inplace=True)\n",
    "\n",
    "    # Turn make, model.1_, vehicleclass_ into lowercase\n",
    "    final_df['make_'] = final_df['make_'].str.lower()\n",
    "    final_df['model.1_'] = final_df['model.1_'].str.lower()\n",
    "    final_df['vehicleclass_'] = final_df['vehicleclass_'].str.lower()\n",
    "\n",
    "    # Character cleaning for vehicleclass_: replace \":\" with \"-\"\n",
    "    final_df['vehicleclass_'] = final_df['vehicleclass_'].str.replace(\":\",\" -\")\n",
    "\n",
    "    # Turn make, model.1_, vehicleclass_ into categorical variables\n",
    "    final_df['make_'] = final_df['make_'].astype('category')\n",
    "    final_df['model.1_'] = final_df['model.1_'].astype('category')\n",
    "    final_df['vehicleclass_'] = final_df['vehicleclass_'].astype('category')\n",
    "\n",
    "    # Mappings\n",
    "    final_df = final_df.join(final_df['transmission_'].str.split(r'(\\d+)', \\\n",
    "        expand=True).drop(columns=[2]).rename(columns={\n",
    "                                                        0:\"transmission_type\",\n",
    "                                                        1:\"number_of_gears\"}))\n",
    "    final_df['transmission_type'] = final_df['transmission_type'].map(transmission_dict)\n",
    "\n",
    "    return final_df"
   ]
  },
  {
   "cell_type": "code",
   "execution_count": 14,
   "id": "321c8d5d",
   "metadata": {
    "execution": {
     "iopub.execute_input": "2022-11-16T21:19:04.519478Z",
     "iopub.status.busy": "2022-11-16T21:19:04.519478Z",
     "iopub.status.idle": "2022-11-16T21:19:04.526522Z",
     "shell.execute_reply": "2022-11-16T21:19:04.526522Z"
    },
    "papermill": {
     "duration": 0.014044,
     "end_time": "2022-11-16T21:19:04.528522",
     "exception": false,
     "start_time": "2022-11-16T21:19:04.514478",
     "status": "completed"
    },
    "tags": []
   },
   "outputs": [],
   "source": [
    "def convert_model_key_words(s, dictionary):\n",
    "    \"\"\"\n",
    "    Add values from footnote\n",
    "    Parameters\n",
    "    ----------\n",
    "    s : pd.Series\n",
    "        row of dataframe\n",
    "    dictionary : dict\n",
    "        one of the dictionaries defined globally.\n",
    "    \"\"\"\n",
    "\n",
    "    group = \"unspecified\"\n",
    "    for key in dictionary:\n",
    "        if key in s:\n",
    "            group = dictionary[key]\n",
    "            break\n",
    "    return group"
   ]
  },
  {
   "cell_type": "code",
   "execution_count": 15,
   "id": "ff50ef83",
   "metadata": {
    "execution": {
     "iopub.execute_input": "2022-11-16T21:19:04.536113Z",
     "iopub.status.busy": "2022-11-16T21:19:04.536113Z",
     "iopub.status.idle": "2022-11-16T21:19:04.543286Z",
     "shell.execute_reply": "2022-11-16T21:19:04.542288Z"
    },
    "papermill": {
     "duration": 0.013197,
     "end_time": "2022-11-16T21:19:04.545286",
     "exception": false,
     "start_time": "2022-11-16T21:19:04.532089",
     "status": "completed"
    },
    "tags": []
   },
   "outputs": [],
   "source": [
    "def extract_stats_can_data(stats_can_url: str, folder_path:str, file_name : str) -> None:\n",
    "    \"\"\"\n",
    "    This function extracts data from StatsCan and saves it into a CSV file\n",
    "    Parameters:\n",
    "        stats_can_url (str): URL to StatsCan data\n",
    "        folder_path (str): Path to folder where data will be saved\n",
    "        file_name (str): Name of file where data will be saved\n",
    "    Returns:\n",
    "        None\n",
    "    \"\"\"\n",
    "    resp = urlopen(stats_can_url)\n",
    "    myzip = ZipFile(BytesIO(resp.read()))\n",
    "    extraction_file_name = [item for item in myzip.namelist() if \"MetaData\" not in item]\n",
    "    stats_can_csv = myzip.open(extraction_file_name[0])\n",
    "    stats_can_df = pd.read_csv(stats_can_csv)\n",
    "    stats_can_df.drop(columns=['DGUID',\n",
    "                             'UOM_ID',\n",
    "                             'SCALAR_ID',\n",
    "                             'VECTOR',\n",
    "                             'COORDINATE',\n",
    "                             'STATUS',\n",
    "                             'SYMBOL',\n",
    "                             'TERMINATED',\n",
    "                             'DECIMALS'], inplace=True)\n",
    "\n",
    "\n",
    "\n",
    "    stats_can_df.to_csv(Path(folder_path, file_name))"
   ]
  },
  {
   "cell_type": "code",
   "execution_count": 16,
   "id": "35a48e53",
   "metadata": {
    "execution": {
     "iopub.execute_input": "2022-11-16T21:19:04.552317Z",
     "iopub.status.busy": "2022-11-16T21:19:04.552317Z",
     "iopub.status.idle": "2022-11-16T21:19:04.572898Z",
     "shell.execute_reply": "2022-11-16T21:19:04.572898Z"
    },
    "papermill": {
     "duration": 0.026523,
     "end_time": "2022-11-16T21:19:04.574808",
     "exception": false,
     "start_time": "2022-11-16T21:19:04.548285",
     "status": "completed"
    },
    "tags": []
   },
   "outputs": [],
   "source": [
    "def process_json_car_sales(json_filen_name, path) -> list():\n",
    "    \"\"\"\n",
    "    This function processes the JSON file containing car sales data and returns a dataframe\n",
    "    Parameters:\n",
    "        json_file_name (str): Name of JSON file\n",
    "        path (str): Path to folder where JSON file is located\n",
    "    Returns:\n",
    "        df_expanded_long (pd.DataFrame): Dataframe containing car sales data in long format\n",
    "        df_expanded_wide (pd.DataFrame): Dataframe containing car sales data in wide format\n",
    "\n",
    "    \"\"\"\n",
    "    json_df = pd.read_json(Path(path,json_filen_name)).set_index(\"model\")\n",
    "    json_df.dropna(how=\"all\", inplace=True)\n",
    "    \n",
    "    # Wide format\n",
    "    wide_df = pd.read_json(Path(path,json_filen_name))\n",
    "    df_expanded_wide = wide_df.join(wide_df.reset_index()['model'].str.split(' ', 1, expand=True).rename(columns={0:'make', 1:'model_'})).drop(columns=[\"model\"])\n",
    "    df_expanded_wide['year'] = json_filen_name.split(\"_\")[0]\n",
    "\n",
    "    # long format\n",
    "    long_format_df = pd.DataFrame(json_df.T.unstack()).reset_index().rename(columns={\"level_1\":\"month\",0:\"number_units_sold\"})\n",
    "    df_expanded_long = long_format_df.join(long_format_df.reset_index()['model'].str.split(' ', 1, expand=True).rename(columns={0:'make', 1:'model_'})).drop(columns=[\"model\"])\n",
    "    df_expanded_long['year'] = json_filen_name.split(\"_\")[0]\n",
    "    df_expanded_long['month']  = df_expanded_long['month'].map(month_dic) \n",
    "\n",
    "    # Remove ',' from number_units_sold\n",
    "    df_expanded_long['number_units_sold'] = df_expanded_long['number_units_sold'].str.replace(\",\",\"\")\n",
    "\n",
    "    # Transform month and number_units_sold to int \n",
    "    df_expanded_long['month'] = df_expanded_long['month'].astype('int')\n",
    "    df_expanded_long['number_units_sold'] = df_expanded_long['number_units_sold'].astype('int')\n",
    "\n",
    "    # Combine 'month' and 'year' into 'date' column and convert to datetime in format YYYY-MM \n",
    "    df_expanded_long['date'] = df_expanded_long['year'].astype(str) + \"-\" + df_expanded_long['month'].astype(str)\n",
    "    # Convert 'date' to datetime\n",
    "    df_expanded_long['date'] = pd.to_datetime(df_expanded_long['date'], format='%Y-%m')\n",
    "    # Drop 'month' and 'year' columns\n",
    "    df_expanded_long.drop(columns=['month','year'], inplace=True)\n",
    "\n",
    "    return df_expanded_long, df_expanded_wide"
   ]
  },
  {
   "cell_type": "code",
   "execution_count": null,
   "id": "7c404431",
   "metadata": {
    "lines_to_next_cell": 2,
    "papermill": {
     "duration": 0.002952,
     "end_time": "2022-11-16T21:19:04.581731",
     "exception": false,
     "start_time": "2022-11-16T21:19:04.578779",
     "status": "completed"
    },
    "tags": []
   },
   "outputs": [],
   "source": []
  },
  {
   "cell_type": "code",
   "execution_count": 17,
   "id": "ebe35801",
   "metadata": {
    "execution": {
     "iopub.execute_input": "2022-11-16T21:19:04.588758Z",
     "iopub.status.busy": "2022-11-16T21:19:04.588758Z",
     "iopub.status.idle": "2022-11-16T21:19:17.548091Z",
     "shell.execute_reply": "2022-11-16T21:19:17.548091Z"
    },
    "papermill": {
     "duration": 12.965334,
     "end_time": "2022-11-16T21:19:17.550092",
     "exception": false,
     "start_time": "2022-11-16T21:19:04.584758",
     "status": "completed"
    },
    "tags": []
   },
   "outputs": [],
   "source": [
    "if __name__=='__main__':\n",
    "    # Set up relative paths\n",
    "    sys.path.append(os.path.abspath(os.path.join('..','./data/', './raw-data/')))\n",
    "    sys.path.append(os.path.abspath(os.path.join('..','./data/', './clean-data/')))\n",
    "    paths = sys.path\n",
    "    raw_path = [item for item in paths if \"machine-learning-capstone\\\\data\\\\raw-data\" in item]\n",
    "    clean_path = [item for item in paths if \"machine-learning-capstone\\\\data\\\\clean-data\" in item]\n",
    "    \n",
    "    # Variable initialization\n",
    "    raw_data_path = Path(raw_path[0])\n",
    "    clean_data_path = Path(clean_path[0])\n",
    "    \n",
    "    # Master dataframe initialization\n",
    "    fuel_based_df = []\n",
    "\n",
    "    # Fuel consumption metadata extraction urls\n",
    "    data_entries_english = fuel_consumption_metadata_extraction()\n",
    "    \n",
    "    # Iterate over entries\n",
    "    for item in data_entries_english.iterrows():\n",
    "        name, url = item[1][\"name\"], item[1][\"url\"]\n",
    "        \n",
    "        # Form file name\n",
    "        file_name = f'{name.replace(\" \",\"_\")}.csv'\n",
    "\n",
    "        # Extract raw data\n",
    "        item_based_url  = extract_raw_data(url)\n",
    "\n",
    "        # Save raw data into a csv file\n",
    "        save_raw_data(raw_data_path,item_based_url)\n",
    "        \n",
    "        # Read and clean csv file\n",
    "        final_df = read_and_clean_csv_file(raw_data_path, name.replace(\" \",\"_\")+\".csv\")\n",
    "\n",
    "        # Populate dataframe with information from the footnotes\n",
    "        if \"electric\" in name:\n",
    "            final_df.to_csv(Path(clean_data_path,file_name), index=False)\n",
    "        else:\n",
    "            final_df['mapped_fuel_type'] = final_df['fuel_type'].map(fuel_dict)\n",
    "            final_df[\"type_of_wheel_drive\"] = final_df['model.1_'].apply(lambda x: convert_model_key_words(x, model_dict)) \n",
    "            fuel_based_df.append(final_df)\n",
    "\n",
    "    # Concatenate all dataframes\n",
    "    fuel_based_df = pd.concat(fuel_based_df)\n",
    " \n",
    "    # Save dataframes\n",
    "    fuel_based_df.to_csv(Path(clean_data_path,\"1995_2022_vehicle_fuel_consumption.csv\"), index=False)\n",
    "    \n",
    "    # Extract StatsCan data\n",
    "    for keys in stats_can_dict:\n",
    "        extract_stats_can_data(stats_can_dict[keys], clean_data_path, f'{keys}.csv')\n",
    "\n",
    "    # Extract car sales data\n",
    "    long_format_2021_sep,df_2021 =  process_json_car_sales(\"2021_canada_vehicle_sales.json\", raw_data_path)\n",
    "    long_format_2020_sep,df_2020 =  process_json_car_sales(\"2020_canada_vehicle_sales.json\", raw_data_path)\n",
    "    long_format_2019_sep,df_2019 =  process_json_car_sales(\"2019_canada_vehicle_sales.json\", raw_data_path)\n",
    "\n",
    "    # Concatenate car sales data \n",
    "    long_format_car_sales = pd.concat([long_format_2019_sep, long_format_2020_sep, long_format_2021_sep])\n",
    "    wide_format_car_sales = pd.concat([df_2019, df_2020, df_2021])\n",
    "\n",
    "    # Save car sales data\n",
    "    long_format_car_sales.to_csv(Path(clean_data_path,\"long_format_car_sales.csv\"), index=False)\n",
    "    wide_format_car_sales.to_csv(Path(clean_data_path,\"wide_format_car_sales.csv\"), index=False)"
   ]
  }
 ],
 "metadata": {
  "jupytext": {
   "cell_metadata_filter": "tags,-all",
   "main_language": "python",
   "notebook_metadata_filter": "-all",
   "text_representation": {
    "extension": ".py",
    "format_name": "light"
   }
  },
  "kernelspec": {
   "display_name": "Python 3 (ipykernel)",
   "language": "python",
   "name": "python3"
  },
  "language_info": {
   "codemirror_mode": {
    "name": "ipython",
    "version": 3
   },
   "file_extension": ".py",
   "mimetype": "text/x-python",
   "name": "python",
   "nbconvert_exporter": "python",
   "pygments_lexer": "ipython3",
   "version": "3.7.13"
  },
  "papermill": {
   "duration": 15.758681,
   "end_time": "2022-11-16T21:19:17.798521",
   "exception": null,
   "input_path": "C:\\Users\\LAURAG~1\\AppData\\Local\\Temp\\tmpa2s4f9sq.ipynb",
   "output_path": "C:\\Users\\Laura GF\\Documents\\GitHub\\machine-learning-capstone\\notebooks\\ploomber-output\\data_extraction.ipynb",
   "parameters": {
    "product": {
     "data": "C:\\Users\\Laura GF\\Documents\\GitHub\\machine-learning-capstone\\data\\clean-data\\wide_format_car_sales.csv",
     "nb": "C:\\Users\\Laura GF\\Documents\\GitHub\\machine-learning-capstone\\notebooks\\ploomber-output\\data_extraction.ipynb"
    }
   },
   "start_time": "2022-11-16T21:19:02.039840"
  }
 },
 "nbformat": 4,
 "nbformat_minor": 5
}
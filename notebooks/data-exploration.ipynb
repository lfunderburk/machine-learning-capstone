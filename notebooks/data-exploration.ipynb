{
 "cells": [
  {
   "cell_type": "markdown",
   "id": "6e116d4c",
   "metadata": {},
   "source": [
    "## Data Exploration\n",
    "\n",
    "### 1. Open Canada\n",
    "\n",
    "Fuel Consumption ratings of cars\n",
    "\n",
    "Main link: https://open.canada.ca/data/en/dataset/98f1a129-f628-4ce4-b24d-6f16bf24dd64\n",
    "\n",
    "Datasets provide model-specific fuel consumption ratings and estimated carbon dioxide emissions for new light-duty vehicles for retail sale in Canada."
   ]
  },
  {
   "cell_type": "code",
   "execution_count": null,
   "id": "57e262bc",
   "metadata": {},
   "outputs": [],
   "source": [
    "import pandas as pd\n",
    "import bs4\n",
    "from urllib.request import urlopen as uReq\n",
    "from bs4 import BeautifulSoup as soup\n",
    "import requests\n",
    "import seaborn as sns\n",
    "import matplotlib.pyplot as plt\n",
    "import plotly.express as px\n",
    "import numpy as np\n",
    "import re"
   ]
  },
  {
   "cell_type": "code",
   "execution_count": null,
   "id": "f208f1d5",
   "metadata": {},
   "outputs": [],
   "source": [
    "url = \"https://open.canada.ca/data/en/dataset/98f1a129-f628-4ce4-b24d-6f16bf24dd64\"\n",
    "uClient = uReq(url)\n",
    "page_html = uClient.read()\n",
    "uClient.close()"
   ]
  },
  {
   "cell_type": "code",
   "execution_count": null,
   "id": "4c0704f8",
   "metadata": {},
   "outputs": [],
   "source": [
    "page_soup = soup(page_html, \"html.parser\")"
   ]
  },
  {
   "cell_type": "code",
   "execution_count": null,
   "id": "e50e9f08",
   "metadata": {},
   "outputs": [],
   "source": [
    "# Access all links and names\n",
    "csv_links = page_soup.findAll(\"span\", {\"property\":\"url\"})\n",
    "table_name = page_soup.findAll(\"span\",{\"property\":\"name\",\"lang\":'en'})\n",
    "\n",
    "# Parse as comprehension lists\n",
    "csv_list = [csv_links[i].text for i in range(len(csv_links))]\n",
    "names_list = [table_name[i].text.split(\"(\")[0] for i in range(len(table_name))]\n",
    "dates_list = [table_name[i].text.split(\"(\")[1].replace(\")\",\"\")  if len(table_name[i].text.split(\"(\"))>1 else \"\" for i in range(len(table_name))]\n",
    "\n",
    "# Build dataframe\n",
    "data_df = pd.DataFrame({\"Table Name\":names_list,\"Table Date\":dates_list, \"Table Url\": csv_list})\n",
    "\n",
    "# There are duplications of the datasets - one link in English, one in French\n",
    "data_df.drop_duplicates(subset=['Table Name'], inplace=True)\n",
    "\n",
    "# Clean up\n",
    "data_df['Table Name'] = data_df['Table Name'].str.rstrip()"
   ]
  },
  {
   "cell_type": "code",
   "execution_count": null,
   "id": "56efe469",
   "metadata": {},
   "outputs": [],
   "source": [
    "data_df.head(10)"
   ]
  },
  {
   "cell_type": "markdown",
   "id": "c28586f4",
   "metadata": {},
   "source": [
    "### Exploring 2022 Fuel Consumption Ratings"
   ]
  },
  {
   "cell_type": "code",
   "execution_count": null,
   "id": "0e9589de",
   "metadata": {},
   "outputs": [],
   "source": [
    "year = \"2022\"\n",
    "name = f\"{year} Fuel Consumption Ratings\"\n",
    "fuel_consumption_2022 = data_df[data_df['Table Name']==name]['Table Url'].values[0]"
   ]
  },
  {
   "cell_type": "code",
   "execution_count": null,
   "id": "a4e26b92",
   "metadata": {},
   "outputs": [],
   "source": [
    "# Save file\n",
    "csv_req = requests.get(fuel_consumption_2022)\n",
    "url_content = csv_req.content\n",
    "file_name = f'{name.replace(\" \",\"_\")}.csv'\n",
    "csv_file = open(file_name, 'wb',)\n",
    "\n",
    "csv_file.write(url_content)\n",
    "csv_file.close()"
   ]
  },
  {
   "cell_type": "code",
   "execution_count": null,
   "id": "debe61ea",
   "metadata": {},
   "outputs": [],
   "source": [
    "sample_df = pd.read_csv(file_name, sep=\",\", low_memory=False)"
   ]
  },
  {
   "cell_type": "code",
   "execution_count": null,
   "id": "916cce0f",
   "metadata": {},
   "outputs": [],
   "source": [
    "sample_df"
   ]
  },
  {
   "cell_type": "markdown",
   "id": "970f5120",
   "metadata": {},
   "source": [
    "### Data cleaning"
   ]
  },
  {
   "cell_type": "code",
   "execution_count": null,
   "id": "4df640fa",
   "metadata": {},
   "outputs": [],
   "source": [
    "sample_df_col = sample_df.dropna(thresh=1 ,axis=1).dropna(thresh=1 ,axis=0)"
   ]
  },
  {
   "cell_type": "code",
   "execution_count": null,
   "id": "536dd9c7",
   "metadata": {},
   "outputs": [],
   "source": [
    "sample_df_no_footer = sample_df_col.dropna(thresh=3 ,axis=0)"
   ]
  },
  {
   "cell_type": "code",
   "execution_count": null,
   "id": "9533a557",
   "metadata": {},
   "outputs": [],
   "source": [
    "sample_df_col[['Model','Make']].iloc[-22:]"
   ]
  },
  {
   "cell_type": "code",
   "execution_count": null,
   "id": "604d4787",
   "metadata": {},
   "outputs": [],
   "source": [
    "sample_df_no_footer"
   ]
  },
  {
   "cell_type": "code",
   "execution_count": null,
   "id": "cf6a7812",
   "metadata": {},
   "outputs": [],
   "source": [
    "# Clean header 0 on df\n",
    "\n",
    "cols = sample_df_no_footer.columns\n",
    "cleaned_cols = [re.sub(r'Unnamed: \\d*', \"Fuel Consumption\", item) if \"Unnamed\" in item else item for item in cols]\n",
    "\n",
    "# Clean row 1 on df\n",
    "str_item_cols = [str(item) for item in sample_df_no_footer.iloc[0:1,].values[0]]\n",
    "str_non_nan = [\"\" if item=='nan' else item for item in str_item_cols]\n",
    "\n",
    "# Form new columns\n",
    "\n",
    "new_cols = []\n",
    "for itema,itemb in zip(cleaned_cols, str_non_nan):\n",
    "    new_cols.append(f'{itema}_{itemb}')"
   ]
  },
  {
   "cell_type": "code",
   "execution_count": null,
   "id": "a0c8e2a1",
   "metadata": {},
   "outputs": [],
   "source": [
    "# Assign new columns\n",
    "co2_consumption = sample_df_no_footer.iloc[1:, ].copy()\n",
    "co2_consumption.columns = new_cols"
   ]
  },
  {
   "cell_type": "code",
   "execution_count": null,
   "id": "3ad74f53",
   "metadata": {},
   "outputs": [],
   "source": [
    "co2_consumption.info()"
   ]
  },
  {
   "cell_type": "code",
   "execution_count": null,
   "id": "a57812ad",
   "metadata": {},
   "outputs": [],
   "source": [
    "co2_consumption.head(2)"
   ]
  },
  {
   "cell_type": "markdown",
   "id": "fe6d35f8",
   "metadata": {},
   "source": [
    "Assign correct data type"
   ]
  },
  {
   "cell_type": "code",
   "execution_count": null,
   "id": "73e116a1",
   "metadata": {},
   "outputs": [],
   "source": [
    "col_list_float = ['Model_Year','Engine Size_(L)','Cylinders_',\n",
    "                  'Fuel Consumption_City (L/100 km)','Fuel Consumption_Hwy (L/100 km)',\t\n",
    "                  'Fuel Consumption_Comb (L/100 km)','Fuel Consumption_Comb (mpg)',\n",
    "                  'CO2 Emissions_(g/km)'\t,\n",
    "                  'CO2_Rating',\t'Smog_Rating']       \n",
    "for item in col_list_float:\n",
    "    co2_consumption[item] = pd.to_numeric(co2_consumption[item])"
   ]
  },
  {
   "cell_type": "code",
   "execution_count": null,
   "id": "ebc261f5",
   "metadata": {},
   "outputs": [],
   "source": [
    "co2_consumption.describe()"
   ]
  },
  {
   "cell_type": "markdown",
   "id": "65c2ca70",
   "metadata": {},
   "source": [
    "### Visualization"
   ]
  },
  {
   "cell_type": "code",
   "execution_count": null,
   "id": "f90f0ffb",
   "metadata": {},
   "outputs": [],
   "source": [
    "pairplor_data_fig = sns.pairplot(co2_consumption, hue='Make_')\n",
    "pairplor_data_fig.savefig(f'pairplot_co2_{year}_make.png')"
   ]
  },
  {
   "cell_type": "code",
   "execution_count": null,
   "id": "9140463d",
   "metadata": {},
   "outputs": [],
   "source": [
    "pairplor_data_fig = sns.pairplot(co2_consumption, hue='Vehicle Class_')\n",
    "pairplor_data_fig.savefig(f'pairplot_co2_{year}_vehicle_class.png')"
   ]
  },
  {
   "cell_type": "code",
   "execution_count": null,
   "id": "adc116eb",
   "metadata": {},
   "outputs": [],
   "source": [
    "pairplor_data_fig = sns.pairplot(co2_consumption, hue='Model.1_')\n",
    "pairplor_data_fig.savefig(f'pairplot_co2_{year}_model.png')"
   ]
  },
  {
   "cell_type": "code",
   "execution_count": null,
   "id": "4c8ab2b8",
   "metadata": {},
   "outputs": [],
   "source": [
    "pairplor_data_fig = sns.pairplot(co2_consumption, hue='Transmission_')\n",
    "pairplor_data_fig.savefig(f'pairplot_co2_{year}_transmission.png')"
   ]
  },
  {
   "cell_type": "markdown",
   "id": "92490c84",
   "metadata": {},
   "source": [
    "### Data distribution"
   ]
  },
  {
   "cell_type": "code",
   "execution_count": null,
   "id": "329c0141",
   "metadata": {},
   "outputs": [],
   "source": [
    "sns.set()"
   ]
  },
  {
   "cell_type": "code",
   "execution_count": null,
   "id": "7750257d",
   "metadata": {},
   "outputs": [],
   "source": [
    "col_list_float = ['Model_Year','Engine Size_(L)','Cylinders_',\n",
    "                  'Fuel Consumption_City (L/100 km)','Fuel Consumption_Hwy (L/100 km)',\t\n",
    "                  'Fuel Consumption_Comb (L/100 km)','Fuel Consumption_Comb (mpg)',\n",
    "                  'CO2 Emissions_(g/km)'\t,\n",
    "                  'CO2_Rating',\t'Smog_Rating']      \n",
    "\n",
    "\n",
    "col_list_float.pop(0)    \n",
    "\n",
    "fig, axes = plt.subplots(3, 3, sharey=True, figsize=(20,10))\n",
    "fig.suptitle('Data distribution')\n",
    "k=0\n",
    "for i in range(0,3):\n",
    "    for j in range(0,3):\n",
    "\n",
    "        k+=1\n",
    "        variable= col_list_float[k-1]\n",
    "        sns.histplot(ax=axes[i, j], data=co2_consumption, x=variable, bins=10)\n",
    "plt.show()"
   ]
  },
  {
   "cell_type": "code",
   "execution_count": null,
   "id": "ff73c4e9",
   "metadata": {},
   "outputs": [],
   "source": [
    "col_list_float = ['Model_Year','Engine Size_(L)','Cylinders_',\n",
    "                  'Fuel Consumption_City (L/100 km)','Fuel Consumption_Hwy (L/100 km)',\t\n",
    "                  'Fuel Consumption_Comb (L/100 km)','Fuel Consumption_Comb (mpg)',\n",
    "                  'CO2 Emissions_(g/km)'\t,\n",
    "                  'CO2_Rating',\t'Smog_Rating']      \n",
    "\n",
    "col_list_float.pop(0)    \n",
    "\n",
    "fig, axes = plt.subplots(3, 3, sharex=True, figsize=(30,10))\n",
    "fig.suptitle('Data distribution')\n",
    "\n",
    "k = 0\n",
    "for i in range(0,3):\n",
    "    for j in range(0,3):\n",
    "        k+=1\n",
    "        variable= col_list_float[k-1]\n",
    "        sns.boxplot(ax=axes[i, j], data=co2_consumption, y=variable, x=\"Transmission_\")\n",
    "plt.show()"
   ]
  },
  {
   "cell_type": "code",
   "execution_count": null,
   "id": "e791021d",
   "metadata": {},
   "outputs": [],
   "source": []
  }
 ],
 "metadata": {
  "kernelspec": {
   "display_name": "Python 3",
   "language": "python",
   "name": "python3"
  },
  "language_info": {
   "codemirror_mode": {
    "name": "ipython",
    "version": 3
   },
   "file_extension": ".py",
   "mimetype": "text/x-python",
   "name": "python",
   "nbconvert_exporter": "python",
   "pygments_lexer": "ipython3",
   "version": "3.7.6"
  }
 },
 "nbformat": 4,
 "nbformat_minor": 5
}

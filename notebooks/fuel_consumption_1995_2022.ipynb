{
 "cells": [
  {
   "cell_type": "markdown",
   "id": "4421dcb8",
   "metadata": {
    "tags": []
   },
   "source": [
    "# Fuel consumption dataset\n",
    "\n",
    "This notebook explores the datasets from  https://open.canada.ca/data/en/dataset/98f1a129-f628-4ce4-b24d-6f16bf24dd64 between 1995 and 2022\n",
    "\n",
    "\n",
    "# TO DO\n",
    "Selecting the features can be left to the caller, or can be automated e.g. apply a chi-squared statistical test to rank the impact of each feature on the concept label and discard the less impactful features prior to model training."
   ]
  },
  {
   "cell_type": "code",
   "execution_count": null,
   "id": "1c00c40b",
   "metadata": {},
   "outputs": [],
   "source": [
    "import pandas as pd\n",
    "import json\n",
    "from pathlib import Path\n",
    "import matplotlib.pyplot as plt\n",
    "import seaborn as sns\n",
    "import numpy as np\n",
    "from sklearn.preprocessing import scale\n",
    "from statsmodels.nonparametric.kde import KDEUnivariate\n",
    "from sklearn.model_selection import train_test_split\n",
    "from sklearn.linear_model import LinearRegression\n",
    "from sklearn.linear_model import LogisticRegression\n",
    "from sklearn.ensemble import RandomForestClassifier\n",
    "from sklearn.ensemble import GradientBoostingRegressor\n",
    "from sklearn.svm import SVC"
   ]
  },
  {
   "cell_type": "code",
   "execution_count": null,
   "id": "c40372aa",
   "metadata": {
    "tags": []
   },
   "outputs": [],
   "source": [
    "def box_plot(dataframe, col_list_float, plot_kind):\n",
    "    \"\"\"\n",
    "    This function generates boxplots to show distribution and outliers of various parameters\n",
    "    \"\"\"\n",
    "    \n",
    "   \n",
    "    x_val = 1\n",
    "    y_val = len(col_list_float)\n",
    "        \n",
    "    if len(dataframe['model_year'].unique()) ==1:\n",
    "        title_year = dataframe['model_year'].min()\n",
    "    else:\n",
    "        title_year = f'{dataframe[\"model_year\"].min()} - {dataframe[\"model_year\"].max()}'\n",
    "        \n",
    "    fig1, axes = plt.subplots(x_val,y_val , sharey=True, figsize=(18,6))\n",
    "    \n",
    "    k=0\n",
    "    for i in range(0,x_val):\n",
    "        for j in range(0,y_val):\n",
    "\n",
    "            variable= col_list_float[k].lower()\n",
    "            if plot_kind==\"box\":\n",
    "                sns.boxplot(ax=axes[j], data=dataframe, x=variable)\n",
    "                fig1.suptitle(f'Outlier identification by vehicle class {title_year}')\n",
    "            elif plot_kind==\"hist\":\n",
    "                sns.histplot(ax=axes[j], data=dataframe, x=variable,bins=10)\n",
    "                fig1.suptitle(f'Distribution of data {title_year}')\n",
    "            k+=1\n",
    "    plt.show()"
   ]
  },
  {
   "cell_type": "code",
   "execution_count": null,
   "id": "8504e079",
   "metadata": {},
   "outputs": [],
   "source": [
    "def find_outliers_tukey(x):\n",
    "    \n",
    "    q1 = np.percentile(x, 25)\n",
    "    q3 = np.percentile(x, 75)\n",
    "    iqr = q3-q1\n",
    "    floor = q1 - 1.5*iqr\n",
    "    ceiling = q3 + 1.5*iqr\n",
    "    outlier_indeces = list(x.index[(x < floor) | (x > ceiling)])\n",
    "    outlier_values = list(x[outlier_indeces])\n",
    "    \n",
    "    return outlier_values\n",
    "\n",
    "def find_outliers_kde(x):\n",
    "    x_scaled = scale(list(map(float,x)))\n",
    "    kde = KDEUnivariate(x_scaled)\n",
    "    kde.fit(bw='scott',fft=True)\n",
    "    pred = kde.evaluate(x_scaled)\n",
    "    \n",
    "    n = sum(pred<0.05)\n",
    "    outlier_ind = np.asarray(pred).argsort()[:n]\n",
    "    outlier_value = np.asarray(x)[outlier_ind]\n",
    "    \n",
    "    return outlier_value"
   ]
  },
  {
   "cell_type": "markdown",
   "id": "2d774530",
   "metadata": {},
   "source": [
    "### Read data"
   ]
  },
  {
   "cell_type": "code",
   "execution_count": null,
   "id": "3a4893d0",
   "metadata": {},
   "outputs": [],
   "source": [
    "folder = \"C:/Users/Laura GF/Documents/GitHub/machine-learning-capstone/data/\"\n",
    "raw_data = f'{folder}raw-data/'\n",
    "clean_data = f'{folder}clean-data/'\n",
    "\n",
    "\n",
    "file_name_2022_1995 = \"1995_2022_vehicle_fuel_consumption.csv\""
   ]
  },
  {
   "cell_type": "code",
   "execution_count": null,
   "id": "e0f5901c",
   "metadata": {},
   "outputs": [],
   "source": [
    "\n",
    "\n",
    "# Master df\n",
    "master_df = pd.read_csv(Path(folder + \"clean-data\",f'{file_name_2022_1995}'))"
   ]
  },
  {
   "cell_type": "markdown",
   "id": "c89b7d6f",
   "metadata": {},
   "source": [
    "## Clean data"
   ]
  },
  {
   "cell_type": "code",
   "execution_count": null,
   "id": "bff00f61",
   "metadata": {},
   "outputs": [],
   "source": [
    "master_df = pd.get_dummies(master_df, columns=['transmission_type', 'mapped_fuel_type'])"
   ]
  },
  {
   "cell_type": "markdown",
   "id": "887fa03c",
   "metadata": {},
   "source": [
    "#### NaN values in CO2 rating and smog rating columns are due to non-existing ratings between the years 1995 - 2015"
   ]
  },
  {
   "cell_type": "code",
   "execution_count": null,
   "id": "eb09702d",
   "metadata": {},
   "outputs": [],
   "source": [
    "master_df"
   ]
  },
  {
   "cell_type": "markdown",
   "id": "f451c482",
   "metadata": {},
   "source": [
    "## Summary stats"
   ]
  },
  {
   "cell_type": "code",
   "execution_count": null,
   "id": "2b0a4a79",
   "metadata": {},
   "outputs": [],
   "source": [
    "master_df.describe()"
   ]
  },
  {
   "cell_type": "code",
   "execution_count": null,
   "id": "cd803421",
   "metadata": {},
   "outputs": [],
   "source": [
    "models = master_df.groupby(\"make_\").count()['model_year'].reset_index().rename(columns={\"model_year\":\"count\"}).sort_values(by=\"count\", ascending=False)\n",
    "plt.rcParams[\"figure.figsize\"] = (20,3)\n",
    "plt.bar(x = models['make_'], height = models['count'])\n",
    "plt.xticks(rotation=90)\n",
    "plt.xlabel(\"Make\")\n",
    "plt.ylabel(\"Frequency\")\n",
    "plt.title(\"Frequency of makes (2022 - 1995)\")\n",
    "plt.show()"
   ]
  },
  {
   "cell_type": "code",
   "execution_count": null,
   "id": "cbf7725a",
   "metadata": {},
   "outputs": [],
   "source": [
    "vehicle_class = master_df.groupby(\"vehicleclass_\").count()['model_year'].reset_index().rename(columns={\"model_year\":\"count\"}).sort_values(by=\"count\", ascending=False)\n",
    "plt.rcParams[\"figure.figsize\"] = (20,3)\n",
    "plt.bar(x = vehicle_class['vehicleclass_'], height = vehicle_class['count'])\n",
    "plt.xticks(rotation=90)\n",
    "plt.xlabel(\"Vehicle class\")\n",
    "plt.ylabel(\"Frequency\")\n",
    "plt.title(\"Frequency of vehicle class (2022 - 1995)\")\n",
    "plt.show()"
   ]
  },
  {
   "cell_type": "code",
   "execution_count": null,
   "id": "cd996448",
   "metadata": {},
   "outputs": [],
   "source": [
    "wheel_drive = master_df.groupby(\"type_of_wheel_drive\").count()['model_year'].reset_index().rename(columns={\"model_year\":\"count\"}).sort_values(by=\"count\", ascending=False)\n",
    "plt.rcParams[\"figure.figsize\"] = (10,3)\n",
    "plt.bar(x = wheel_drive['type_of_wheel_drive'], height = wheel_drive['count'])\n",
    "plt.xticks(rotation=90)\n",
    "plt.xlabel(\"Wheel drive type\")\n",
    "plt.ylabel(\"Frequency\")\n",
    "plt.title(\"Frequency of wheel drive type (2022 - 1995)\")\n",
    "plt.show()"
   ]
  },
  {
   "cell_type": "code",
   "execution_count": null,
   "id": "f21f36b6",
   "metadata": {},
   "outputs": [],
   "source": [
    "transmission = master_df.groupby(\"transmission_\").count()['model_year'].reset_index().rename(columns={\"model_year\":\"count\"}).sort_values(by=\"count\", ascending=False)\n",
    "plt.rcParams[\"figure.figsize\"] = (10,5)\n",
    "plt.bar(x = transmission['transmission_'], height = transmission['count'])\n",
    "plt.xticks(rotation=90)\n",
    "plt.xlabel(\"Type of transmission\")\n",
    "plt.ylabel(\"Frequency\")\n",
    "plt.title(\"Frequency of transmission type (2022 - 1995)\")\n",
    "plt.show()"
   ]
  },
  {
   "cell_type": "code",
   "execution_count": null,
   "id": "5cf06317",
   "metadata": {},
   "outputs": [],
   "source": [
    "sns.histplot(data=master_df, x='number_of_gears', bins=5)\n",
    "plt.title(\"Distribution: number of gears\")\n",
    "plt.show()"
   ]
  },
  {
   "cell_type": "code",
   "execution_count": null,
   "id": "37bfa588",
   "metadata": {},
   "outputs": [],
   "source": [
    "transmission_type = master_df.groupby(\"transmission_type\").count()['model_year'].reset_index().rename(columns={\"model_year\":\"count\"}).sort_values(by=\"count\", ascending=False)\n",
    "plt.rcParams[\"figure.figsize\"] = (10,5)\n",
    "plt.bar(x = transmission_type['transmission_type'], height = transmission_type['count'])\n",
    "plt.xticks(rotation=90)\n",
    "plt.xlabel(\"Type of transmission\")\n",
    "plt.ylabel(\"Frequency\")\n",
    "plt.title(\"Frequency of transmission type (2022 - 1995)\")\n",
    "plt.show()"
   ]
  },
  {
   "cell_type": "code",
   "execution_count": null,
   "id": "3ef69283",
   "metadata": {},
   "outputs": [],
   "source": [
    "fuel_type = master_df.groupby(\"mapped_fuel_type\").count()['model_year'].reset_index().rename(columns={\"model_year\":\"count\"}).sort_values(by=\"count\", ascending=False)\n",
    "plt.rcParams[\"figure.figsize\"] = (10,5)\n",
    "plt.bar(x = fuel_type['mapped_fuel_type'], height = fuel_type['count'])\n",
    "plt.xticks(rotation=90)\n",
    "plt.xlabel(\"Type of fuel\")\n",
    "plt.ylabel(\"Frequency\")\n",
    "plt.title(\"Frequency of fuel type (2022 - 1995)\")\n",
    "plt.show()"
   ]
  },
  {
   "cell_type": "markdown",
   "id": "e9e9597c",
   "metadata": {},
   "source": [
    "### Outliers and scaling"
   ]
  },
  {
   "cell_type": "code",
   "execution_count": null,
   "id": "075267a6",
   "metadata": {},
   "outputs": [],
   "source": [
    "\n",
    "\n",
    "fuel_info = [\n",
    "              'fuelconsumption_city(l/100km)','fuelconsumption_hwy(l/100km)',\t\n",
    "              'fuelconsumption_comb(l/100km)','fuelconsumption_comb(mpg)',\n",
    "                  ]     \n",
    "\n",
    "engine_info  = ['enginesize_(l)','cylinders_','co2_rating','co2emissions_(g/km)','smog_rating']"
   ]
  },
  {
   "cell_type": "code",
   "execution_count": null,
   "id": "ae4bb99c",
   "metadata": {},
   "outputs": [],
   "source": [
    "outliers = {}\n",
    "for item in fuel_info:\n",
    "    outliers[item] = np.sort(find_outliers_tukey(master_df[item]))\n",
    "    print(item, len(outliers[item]))\n",
    "    \n",
    "for item in engine_info:\n",
    "    outliers[item] = np.sort(find_outliers_tukey(master_df[item]))\n",
    "    print(item, len(outliers[item]))"
   ]
  },
  {
   "cell_type": "markdown",
   "id": "34772af3",
   "metadata": {
    "tags": []
   },
   "source": [
    "### The data has a positive skew"
   ]
  },
  {
   "cell_type": "code",
   "execution_count": null,
   "id": "eb783360",
   "metadata": {},
   "outputs": [],
   "source": [
    "\n",
    "box_plot(master_df,fuel_info,\"hist\")"
   ]
  },
  {
   "cell_type": "code",
   "execution_count": null,
   "id": "84c8fe98",
   "metadata": {},
   "outputs": [],
   "source": [
    "box_plot(master_df,fuel_info,\"box\")"
   ]
  },
  {
   "cell_type": "code",
   "execution_count": null,
   "id": "e43aab07",
   "metadata": {},
   "outputs": [],
   "source": [
    "engine_info  = ['EngineSize_(L)','Cylinders_']\n",
    "box_plot(master_df,engine_info,'hist')"
   ]
  },
  {
   "cell_type": "code",
   "execution_count": null,
   "id": "226be98f",
   "metadata": {},
   "outputs": [],
   "source": [
    "engine_info  = ['EngineSize_(L)','Cylinders_','co2_rating','CO2Emissions_(g/km)','smog_rating']\n",
    "box_plot(master_df,engine_info,'box')"
   ]
  },
  {
   "cell_type": "code",
   "execution_count": null,
   "id": "a0062333",
   "metadata": {},
   "outputs": [],
   "source": [
    "master_df[~master_df['co2_rating'].isna()]"
   ]
  },
  {
   "cell_type": "code",
   "execution_count": null,
   "id": "0be0c659",
   "metadata": {},
   "outputs": [],
   "source": [
    "non_na_rating = master_df[~master_df['co2_rating'].isna()]\n",
    "box_plot(non_na_rating,['EngineSize_(L)','Cylinders_','co2_rating','CO2Emissions_(g/km)'],\"hist\")"
   ]
  },
  {
   "cell_type": "markdown",
   "id": "f3a2cf78",
   "metadata": {},
   "source": [
    "### Using natural logarithm"
   ]
  },
  {
   "cell_type": "code",
   "execution_count": null,
   "id": "bb9bf37b",
   "metadata": {},
   "outputs": [],
   "source": [
    "master_df_log_app = master_df.copy()"
   ]
  },
  {
   "cell_type": "code",
   "execution_count": null,
   "id": "ea5c8b1e",
   "metadata": {},
   "outputs": [],
   "source": [
    "fuel_info = [\n",
    "              'fuelconsumption_city(l/100km)','fuelconsumption_hwy(l/100km)',\t\n",
    "              'fuelconsumption_comb(l/100km)','fuelconsumption_comb(mpg)',]\n",
    "    \n",
    "engine_info  = ['enginesize_(l)','co2emissions_(g/km)','smog_rating']"
   ]
  },
  {
   "cell_type": "code",
   "execution_count": null,
   "id": "3103fb34",
   "metadata": {},
   "outputs": [],
   "source": [
    "for item in fuel_info:\n",
    "    master_df_log_app[item] = master_df_log_app[item].apply(lambda x: np.log(x))\n",
    "    \n",
    "for item in engine_info:\n",
    "    master_df_log_app[item] = master_df_log_app[item].apply(lambda x: np.log(x))"
   ]
  },
  {
   "cell_type": "code",
   "execution_count": null,
   "id": "4304add2",
   "metadata": {},
   "outputs": [],
   "source": [
    "master_df_log_app.head()"
   ]
  },
  {
   "cell_type": "code",
   "execution_count": null,
   "id": "dc7fd193",
   "metadata": {},
   "outputs": [],
   "source": [
    "box_plot(master_df_log_app,fuel_info,\"hist\")\n"
   ]
  },
  {
   "cell_type": "code",
   "execution_count": null,
   "id": "eb58bfc8",
   "metadata": {},
   "outputs": [],
   "source": [
    "box_plot(master_df_log_app,fuel_info,\"box\")"
   ]
  },
  {
   "cell_type": "code",
   "execution_count": null,
   "id": "d1f4b537",
   "metadata": {},
   "outputs": [],
   "source": [
    "box_plot(master_df_log_app,engine_info,\"box\")"
   ]
  },
  {
   "cell_type": "code",
   "execution_count": null,
   "id": "adad7b96",
   "metadata": {},
   "outputs": [],
   "source": [
    "outliers_log = {}\n",
    "for item in fuel_info:\n",
    "    outliers[item] = np.sort(find_outliers_tukey(master_df_log_app[item]))\n",
    "    print(item, len(outliers[item]))\n",
    "    \n",
    "for item in ['enginesize_(l)','cylinders_','co2_rating','co2emissions_(g/km)']:\n",
    "    outliers[item] = np.sort(find_outliers_tukey(master_df_log_app[item]))\n",
    "    print(item, len(outliers[item]))"
   ]
  },
  {
   "cell_type": "code",
   "execution_count": null,
   "id": "6d6787f9",
   "metadata": {},
   "outputs": [],
   "source": [
    "non_na_rating_log = master_df_log_app[~master_df_log_app['co2_rating'].isna()]\n",
    "box_plot(non_na_rating_log,['EngineSize_(L)','Cylinders_','co2_rating','CO2Emissions_(g/km)'],\"box\")"
   ]
  },
  {
   "cell_type": "code",
   "execution_count": null,
   "id": "7ada08dd",
   "metadata": {},
   "outputs": [],
   "source": [
    "box_plot(non_na_rating_log,['EngineSize_(L)','Cylinders_','co2_rating','CO2Emissions_(g/km)'],\"hist\")"
   ]
  },
  {
   "cell_type": "code",
   "execution_count": null,
   "id": "0f2bffc4",
   "metadata": {},
   "outputs": [],
   "source": [
    "corr_matrix_non_na_log = non_na_rating_log.corr()\n",
    "\n"
   ]
  },
  {
   "cell_type": "code",
   "execution_count": null,
   "id": "bcfbfea2",
   "metadata": {},
   "outputs": [],
   "source": []
  },
  {
   "cell_type": "code",
   "execution_count": null,
   "id": "78a19ad8",
   "metadata": {},
   "outputs": [],
   "source": [
    "corr_matrix = master_df.corr()\n",
    "fig_corr = sns.heatmap(corr_matrix, annot=True)\n",
    "fig_corr.figure.savefig(\"./plots/correlation_matrix.png\") \n",
    "plt.title(\"Correlation matrix\")\n",
    "plt.show()"
   ]
  },
  {
   "cell_type": "code",
   "execution_count": null,
   "id": "33ff527d",
   "metadata": {},
   "outputs": [],
   "source": [
    "corr_dummy = dummy_df.corr()\n",
    "fig_corr2 = sns.heatmap(corr_dummy, annot=True)\n",
    "#fig_corr2.figure.savefig(\"./plots/correlation_matrix.png\") \n",
    "plt.title(\"Correlation matrix\")\n",
    "plt.show()\n"
   ]
  },
  {
   "cell_type": "code",
   "execution_count": null,
   "id": "2e3351f6",
   "metadata": {},
   "outputs": [],
   "source": [
    "sns.heatmap(corr_matrix_non_na_log, annot=True)\n",
    "\n",
    "plt.show()"
   ]
  },
  {
   "cell_type": "markdown",
   "id": "fcebb5af",
   "metadata": {},
   "source": [
    "## Predicting CO2 ratings for remaining values - feature engineering\n",
    "\n",
    "#### Target variable: co2_rating\n",
    "\n",
    "#### Independent variables: \n",
    "\n",
    "1. engine_size(l),\n",
    "\n",
    "2. fuelconsumption_city(l/100km), \n",
    "\n",
    "3. fuelconsumption_hwy(l/100km),\n",
    "\n",
    "4. fuelconsumption_comb(l/100km),\n",
    "\n",
    "5. fuelconsumption_comb(mpg)\n",
    "\n",
    "6. co2emissions_(g/km)\n",
    "\n",
    "7. (maybe) cylinders_ "
   ]
  },
  {
   "cell_type": "code",
   "execution_count": null,
   "id": "d3442542",
   "metadata": {},
   "outputs": [],
   "source": [
    "master_df"
   ]
  },
  {
   "cell_type": "code",
   "execution_count": null,
   "id": "d595f3c5",
   "metadata": {},
   "outputs": [],
   "source": [
    "master_df_log_app = master_df.copy()\n",
    "entries_with_scores = master_df_log_app[master_df_log_app['model_year']>=2017]\n",
    "entries_with_scores.isna().sum()"
   ]
  },
  {
   "cell_type": "code",
   "execution_count": null,
   "id": "0d5b0882",
   "metadata": {
    "tags": []
   },
   "outputs": [],
   "source": [
    "#fig = sns.pairplot(entries_with_scores, hue=\"type_of_fuel\")\n",
    "#fig.savefig(\"./plots/pairplot-by-fuel-type.png\") \n",
    "#plt.show()"
   ]
  },
  {
   "cell_type": "code",
   "execution_count": null,
   "id": "be6207f9",
   "metadata": {},
   "outputs": [],
   "source": [
    "#entries_with_scores['co2_rating'] = entries_with_scores['co2_rating'].astype('int').astype('str')"
   ]
  },
  {
   "cell_type": "code",
   "execution_count": null,
   "id": "eef2e35d",
   "metadata": {},
   "outputs": [],
   "source": [
    "entries_with_scores['co2_rating'].unique()"
   ]
  },
  {
   "cell_type": "code",
   "execution_count": null,
   "id": "0fc1b108",
   "metadata": {},
   "outputs": [],
   "source": [
    "from sklearn.model_selection import KFold\n",
    "from sklearn.model_selection import StratifiedGroupKFold\n",
    "from sklearn.model_selection import cross_val_score\n",
    "from sklearn.metrics import mean_absolute_error, mean_squared_error\n",
    "from sklearn.compose import make_column_transformer\n",
    "\n",
    "kf = KFold(n_splits=10)\n",
    "folds = StratifiedGroupKFold(n_splits=10)\n",
    "\n",
    "def get_score(model, X_train, X_test, y_train, y_test):\n",
    "    model.fit(X_train, y_train)\n",
    "    return model.score(X_test, y_test)"
   ]
  },
  {
   "cell_type": "code",
   "execution_count": null,
   "id": "8366dc35",
   "metadata": {},
   "outputs": [],
   "source": [
    "Y = entries_with_scores['co2_rating']\n",
    "\n",
    "X = entries_with_scores[['enginesize_(l)','cylinders_','fuelconsumption_city(l/100km)',\n",
    "                         'fuelconsumption_hwy(l/100km)', 'fuelconsumption_comb(l/100km)', \n",
    "                         'fuelconsumption_comb(mpg)','co2emissions_(g/km)']]\n",
    "\n",
    "X_train, X_test, y_train, y_test = train_test_split(X, Y, test_size=0.2, random_state=42)"
   ]
  },
  {
   "cell_type": "code",
   "execution_count": null,
   "id": "9955fb96",
   "metadata": {
    "tags": []
   },
   "outputs": [],
   "source": [
    "lr_sc = []\n",
    "sv_sc = []\n",
    "rf_sc = []\n",
    "for train_index, test_index in kf.split(X):\n",
    "    X_train, X_test, y_train, y_test = X.iloc[train_index], X.iloc[test_index],\\\n",
    "                                        Y.iloc[train_index], Y.iloc[test_index] \n",
    "    lr_sc.append(get_score(LinearRegression(), X_train, X_test, y_train, y_test))\n",
    "    \n",
    "    ### NEED TO REVIEW https://scikit-learn.org/stable/modules/preprocessing.html\n",
    "    sv_sc.append(get_score(GradientBoostingRegressor(), X_train, X_test, y_train, y_test))\n",
    "    rf_sc.append(get_score(RandomForestClassifier(), X_train, X_test, y_train, y_test))"
   ]
  },
  {
   "cell_type": "markdown",
   "id": "edb49017",
   "metadata": {},
   "source": [
    "### Try xgboost, lightgbm \n",
    "\n",
    "### Next, try neural network model"
   ]
  },
  {
   "cell_type": "code",
   "execution_count": null,
   "id": "4134a82e",
   "metadata": {},
   "outputs": [],
   "source": [
    "lr_sc"
   ]
  },
  {
   "cell_type": "code",
   "execution_count": null,
   "id": "caf0db76",
   "metadata": {},
   "outputs": [],
   "source": [
    "sv_sc"
   ]
  },
  {
   "cell_type": "code",
   "execution_count": null,
   "id": "8b917aca",
   "metadata": {},
   "outputs": [],
   "source": [
    "rf_sc"
   ]
  },
  {
   "cell_type": "code",
   "execution_count": null,
   "id": "e2b74e0e",
   "metadata": {},
   "outputs": [],
   "source": [
    "cross_val_score(LinearRegression(), X, Y)"
   ]
  },
  {
   "cell_type": "code",
   "execution_count": null,
   "id": "75448943",
   "metadata": {},
   "outputs": [],
   "source": [
    "cross_val_score(GradientBoostingRegressor(n_estimators=40), X, Y)"
   ]
  },
  {
   "cell_type": "code",
   "execution_count": null,
   "id": "b78db1bc",
   "metadata": {},
   "outputs": [],
   "source": [
    "cross_val_score(RandomForestClassifier(n_estimators=100), X, Y)"
   ]
  },
  {
   "cell_type": "markdown",
   "id": "9cfbe854",
   "metadata": {},
   "source": [
    "#### Predicting"
   ]
  },
  {
   "cell_type": "code",
   "execution_count": null,
   "id": "b7d5abdc",
   "metadata": {},
   "outputs": [],
   "source": [
    "lm = LinearRegression()\n",
    "lm.fit(X_train, y_train)\n",
    "lm_predictions = lm.predict(X_test)\n",
    "\n",
    "\n",
    "gbm = GradientBoostingRegressor()\n",
    "gbm.fit(X_train, y_train)\n",
    "gmb_predictions = gbm.predict(X_test)"
   ]
  },
  {
   "cell_type": "code",
   "execution_count": null,
   "id": "8a291523",
   "metadata": {},
   "outputs": [],
   "source": [
    "lm_mae = mean_absolute_error(lm_predictions, y_test)\n",
    "# lm_rmse = np.sqrt(mean_squared_error(lm_predictions, y_test),y_test)\n",
    "\n",
    "gbm_mae = mean_absolute_error(gmb_predictions, y_test)\n",
    "# gbm_rmse = np.sqrt(mean_squared_error(gmb_predictions, y_test), y_test)"
   ]
  },
  {
   "cell_type": "code",
   "execution_count": null,
   "id": "85f3bd33",
   "metadata": {},
   "outputs": [],
   "source": [
    "print(lm_mae)\n",
    "print(gbm_mae)"
   ]
  },
  {
   "cell_type": "markdown",
   "id": "badb9b86",
   "metadata": {},
   "source": [
    "GradientBoostingRegressor is slightly more accurate than gradient boosting."
   ]
  },
  {
   "cell_type": "code",
   "execution_count": null,
   "id": "b266f8c3",
   "metadata": {},
   "outputs": [],
   "source": [
    "from sklearn.metrics import confusion_matrix\n",
    "\n",
    "confusion_matrix(y_test, gmb_predictions)"
   ]
  },
  {
   "cell_type": "markdown",
   "id": "a10d0ddb",
   "metadata": {},
   "source": [
    "Next: work on this as a classification problem instead\n",
    "Use equivalent libraries when using XGB\n",
    "\n",
    "Plot confusion matrix, look at F1 score, accuracy metrics\n",
    "\n",
    "Once this is done, we can continue with the neural network implementation. \n",
    "\n",
    "Recommendation: start with Keras. \n",
    "\n",
    "Later we can look at TensorFlow or PyTorch. \n"
   ]
  },
  {
   "cell_type": "code",
   "execution_count": null,
   "id": "515ba120",
   "metadata": {},
   "outputs": [],
   "source": []
  }
 ],
 "metadata": {
  "kernelspec": {
   "display_name": "ML Project",
   "language": "python",
   "name": "ml-project-env-10"
  },
  "language_info": {
   "codemirror_mode": {
    "name": "ipython",
    "version": 3
   },
   "file_extension": ".py",
   "mimetype": "text/x-python",
   "name": "python",
   "nbconvert_exporter": "python",
   "pygments_lexer": "ipython3",
   "version": "3.10.8"
  }
 },
 "nbformat": 4,
 "nbformat_minor": 5
}

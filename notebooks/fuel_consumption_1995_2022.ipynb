{
 "cells": [
  {
   "cell_type": "markdown",
   "id": "032c2609",
   "metadata": {
    "tags": []
   },
   "source": [
    "# Fuel consumption dataset\n",
    "\n",
    "This notebook explores the datasets from  https://open.canada.ca/data/en/dataset/98f1a129-f628-4ce4-b24d-6f16bf24dd64 between 1995 and 2022\n",
    "\n",
    "\n",
    "# TO DO\n",
    "Selecting the features can be left to the caller, or can be automated e.g. apply a chi-squared statistical test to rank the impact of each feature on the concept label and discard the less impactful features prior to model training."
   ]
  },
  {
   "cell_type": "code",
   "execution_count": 1,
   "id": "63c97ca3",
   "metadata": {},
   "outputs": [],
   "source": [
    "import pandas as pd\n",
    "import json\n",
    "from pathlib import Path\n",
    "import matplotlib.pyplot as plt\n",
    "import seaborn as sns\n",
    "import numpy as np\n",
    "from sklearn.preprocessing import scale\n",
    "from statsmodels.nonparametric.kde import KDEUnivariate\n",
    "from sklearn.model_selection import train_test_split\n",
    "from sklearn.linear_model import LinearRegression\n",
    "from sklearn.linear_model import LogisticRegression\n",
    "from sklearn.ensemble import RandomForestClassifier\n",
    "from sklearn.ensemble import GradientBoostingRegressor\n",
    "from sklearn.svm import SVC"
   ]
  },
  {
   "cell_type": "code",
   "execution_count": 2,
   "id": "91b15c2d",
   "metadata": {
    "tags": []
   },
   "outputs": [],
   "source": [
    "def box_plot(dataframe, col_list_float, plot_kind):\n",
    "    \"\"\"\n",
    "    This function generates boxplots to show distribution and outliers of various parameters\n",
    "    \"\"\"\n",
    "    \n",
    "   \n",
    "    x_val = 1\n",
    "    y_val = len(col_list_float)\n",
    "        \n",
    "    if len(dataframe['model_year'].unique()) ==1:\n",
    "        title_year = dataframe['model_year'].min()\n",
    "    else:\n",
    "        title_year = f'{dataframe[\"model_year\"].min()} - {dataframe[\"model_year\"].max()}'\n",
    "        \n",
    "    fig1, axes = plt.subplots(x_val,y_val , sharey=True, figsize=(18,6))\n",
    "    \n",
    "    k=0\n",
    "    for i in range(0,x_val):\n",
    "        for j in range(0,y_val):\n",
    "\n",
    "            variable= col_list_float[k].lower()\n",
    "            if plot_kind==\"box\":\n",
    "                sns.boxplot(ax=axes[j], data=dataframe, x=variable)\n",
    "                fig1.suptitle(f'Outlier identification by vehicle class {title_year}')\n",
    "            elif plot_kind==\"hist\":\n",
    "                sns.histplot(ax=axes[j], data=dataframe, x=variable,bins=10)\n",
    "                fig1.suptitle(f'Distribution of data {title_year}')\n",
    "            k+=1\n",
    "    plt.show()"
   ]
  },
  {
   "cell_type": "code",
   "execution_count": 3,
   "id": "ed258bce",
   "metadata": {},
   "outputs": [],
   "source": [
    "def find_outliers_tukey(x):\n",
    "    \n",
    "    q1 = np.percentile(x, 25)\n",
    "    q3 = np.percentile(x, 75)\n",
    "    iqr = q3-q1\n",
    "    floor = q1 - 1.5*iqr\n",
    "    ceiling = q3 + 1.5*iqr\n",
    "    outlier_indeces = list(x.index[(x < floor) | (x > ceiling)])\n",
    "    outlier_values = list(x[outlier_indeces])\n",
    "    \n",
    "    return outlier_values\n",
    "\n",
    "def find_outliers_kde(x):\n",
    "    x_scaled = scale(list(map(float,x)))\n",
    "    kde = KDEUnivariate(x_scaled)\n",
    "    kde.fit(bw='scott',fft=True)\n",
    "    pred = kde.evaluate(x_scaled)\n",
    "    \n",
    "    n = sum(pred<0.05)\n",
    "    outlier_ind = np.asarray(pred).argsort()[:n]\n",
    "    outlier_value = np.asarray(x)[outlier_ind]\n",
    "    \n",
    "    return outlier_value"
   ]
  },
  {
   "cell_type": "markdown",
   "id": "a192a2c9",
   "metadata": {},
   "source": [
    "### Read data"
   ]
  },
  {
   "cell_type": "code",
   "execution_count": 4,
   "id": "60ebd5e0",
   "metadata": {},
   "outputs": [],
   "source": [
    "folder = \"C:/Users/Laura GF/Documents/GitHub/machine-learning-capstone/data/\"\n",
    "raw_data = f'{folder}raw-data/'\n",
    "clean_data = f'{folder}clean-data/'\n",
    "\n",
    "\n",
    "file_name_2022_1995 = \"1995_2022_vehicle_fuel_consumption.csv\""
   ]
  },
  {
   "cell_type": "code",
   "execution_count": 5,
   "id": "3f19e064",
   "metadata": {},
   "outputs": [],
   "source": [
    "\n",
    "\n",
    "# Master df\n",
    "master_df = pd.read_csv(Path(folder + \"clean-data\",f'{file_name_2022_1995}'))"
   ]
  },
  {
   "cell_type": "markdown",
   "id": "f9ba6931",
   "metadata": {},
   "source": [
    "## Clean data"
   ]
  },
  {
   "cell_type": "code",
   "execution_count": null,
   "id": "30fc2ded",
   "metadata": {},
   "outputs": [],
   "source": [
    "master_df = pd.get_dummies(master_df, columns=['transmission_type', 'mapped_fuel_type'])"
   ]
  },
  {
   "cell_type": "markdown",
   "id": "967700e0",
   "metadata": {},
   "source": [
    "#### NaN values in CO2 rating and smog rating columns are due to non-existing ratings between the years 1995 - 2015"
   ]
  },
  {
   "cell_type": "code",
   "execution_count": 6,
   "id": "ecd23f62",
   "metadata": {},
   "outputs": [
    {
     "data": {
      "text/plain": [
       "array(['Z', 'X', 'D', 'E', 'N'], dtype=object)"
      ]
     },
     "execution_count": 6,
     "metadata": {},
     "output_type": "execute_result"
    }
   ],
   "source": [
    "master_df['fuel_type'].unique()"
   ]
  },
  {
   "cell_type": "code",
   "execution_count": 8,
   "id": "82d9232e",
   "metadata": {},
   "outputs": [
    {
     "data": {
      "text/plain": [
       "0        premium gasoline\n",
       "1        premium gasoline\n",
       "2        premium gasoline\n",
       "3        premium gasoline\n",
       "4        premium gasoline\n",
       "               ...       \n",
       "43923    premium gasoline\n",
       "43924    premium gasoline\n",
       "43925    premium gasoline\n",
       "43926    premium gasoline\n",
       "43927    premium gasoline\n",
       "Name: mapped_fuel_type, Length: 43928, dtype: object"
      ]
     },
     "execution_count": 8,
     "metadata": {},
     "output_type": "execute_result"
    }
   ],
   "source": [
    "master_df['mapped_fuel_type']"
   ]
  },
  {
   "cell_type": "markdown",
   "id": "7db6c385",
   "metadata": {},
   "source": [
    "## Summary stats"
   ]
  },
  {
   "cell_type": "code",
   "execution_count": 9,
   "id": "66efd732",
   "metadata": {},
   "outputs": [
    {
     "data": {
      "text/html": [
       "<div>\n",
       "<style scoped>\n",
       "    .dataframe tbody tr th:only-of-type {\n",
       "        vertical-align: middle;\n",
       "    }\n",
       "\n",
       "    .dataframe tbody tr th {\n",
       "        vertical-align: top;\n",
       "    }\n",
       "\n",
       "    .dataframe thead th {\n",
       "        text-align: right;\n",
       "    }\n",
       "</style>\n",
       "<table border=\"1\" class=\"dataframe\">\n",
       "  <thead>\n",
       "    <tr style=\"text-align: right;\">\n",
       "      <th></th>\n",
       "      <th>model_year</th>\n",
       "      <th>enginesize_(l)</th>\n",
       "      <th>cylinders_</th>\n",
       "      <th>fuelconsumption_city(l/100km)</th>\n",
       "      <th>fuelconsumption_hwy(l/100km)</th>\n",
       "      <th>fuelconsumption_comb(l/100km)</th>\n",
       "      <th>fuelconsumption_comb(mpg)</th>\n",
       "      <th>co2emissions_(g/km)</th>\n",
       "      <th>co2_rating</th>\n",
       "      <th>smog_rating</th>\n",
       "      <th>number_of_gears</th>\n",
       "    </tr>\n",
       "  </thead>\n",
       "  <tbody>\n",
       "    <tr>\n",
       "      <th>count</th>\n",
       "      <td>43928.000000</td>\n",
       "      <td>43928.000000</td>\n",
       "      <td>43928.000000</td>\n",
       "      <td>43928.000000</td>\n",
       "      <td>43928.000000</td>\n",
       "      <td>43928.000000</td>\n",
       "      <td>43928.000000</td>\n",
       "      <td>43928.000000</td>\n",
       "      <td>7171.000000</td>\n",
       "      <td>6061.000000</td>\n",
       "      <td>42627.000000</td>\n",
       "    </tr>\n",
       "    <tr>\n",
       "      <th>mean</th>\n",
       "      <td>2007.924012</td>\n",
       "      <td>3.393833</td>\n",
       "      <td>5.886655</td>\n",
       "      <td>13.523101</td>\n",
       "      <td>9.566352</td>\n",
       "      <td>11.743018</td>\n",
       "      <td>25.768781</td>\n",
       "      <td>266.098115</td>\n",
       "      <td>4.659880</td>\n",
       "      <td>4.674311</td>\n",
       "      <td>5.476764</td>\n",
       "    </tr>\n",
       "    <tr>\n",
       "      <th>std</th>\n",
       "      <td>7.250467</td>\n",
       "      <td>1.336548</td>\n",
       "      <td>1.779580</td>\n",
       "      <td>3.667994</td>\n",
       "      <td>2.552349</td>\n",
       "      <td>3.127989</td>\n",
       "      <td>7.030849</td>\n",
       "      <td>64.790087</td>\n",
       "      <td>1.638001</td>\n",
       "      <td>1.791209</td>\n",
       "      <td>1.356932</td>\n",
       "    </tr>\n",
       "    <tr>\n",
       "      <th>min</th>\n",
       "      <td>1995.000000</td>\n",
       "      <td>0.800000</td>\n",
       "      <td>2.000000</td>\n",
       "      <td>3.500000</td>\n",
       "      <td>3.200000</td>\n",
       "      <td>3.600000</td>\n",
       "      <td>10.000000</td>\n",
       "      <td>83.000000</td>\n",
       "      <td>1.000000</td>\n",
       "      <td>1.000000</td>\n",
       "      <td>1.000000</td>\n",
       "    </tr>\n",
       "    <tr>\n",
       "      <th>25%</th>\n",
       "      <td>2002.000000</td>\n",
       "      <td>2.300000</td>\n",
       "      <td>4.000000</td>\n",
       "      <td>11.000000</td>\n",
       "      <td>7.800000</td>\n",
       "      <td>9.600000</td>\n",
       "      <td>21.000000</td>\n",
       "      <td>221.000000</td>\n",
       "      <td>4.000000</td>\n",
       "      <td>3.000000</td>\n",
       "      <td>4.000000</td>\n",
       "    </tr>\n",
       "    <tr>\n",
       "      <th>50%</th>\n",
       "      <td>2008.000000</td>\n",
       "      <td>3.200000</td>\n",
       "      <td>6.000000</td>\n",
       "      <td>13.100000</td>\n",
       "      <td>9.100000</td>\n",
       "      <td>11.300000</td>\n",
       "      <td>25.000000</td>\n",
       "      <td>258.000000</td>\n",
       "      <td>5.000000</td>\n",
       "      <td>5.000000</td>\n",
       "      <td>5.000000</td>\n",
       "    </tr>\n",
       "    <tr>\n",
       "      <th>75%</th>\n",
       "      <td>2013.000000</td>\n",
       "      <td>4.300000</td>\n",
       "      <td>8.000000</td>\n",
       "      <td>15.600000</td>\n",
       "      <td>11.000000</td>\n",
       "      <td>13.500000</td>\n",
       "      <td>29.000000</td>\n",
       "      <td>306.000000</td>\n",
       "      <td>6.000000</td>\n",
       "      <td>6.000000</td>\n",
       "      <td>6.000000</td>\n",
       "    </tr>\n",
       "    <tr>\n",
       "      <th>max</th>\n",
       "      <td>2022.000000</td>\n",
       "      <td>8.400000</td>\n",
       "      <td>16.000000</td>\n",
       "      <td>33.300000</td>\n",
       "      <td>22.100000</td>\n",
       "      <td>27.500000</td>\n",
       "      <td>78.000000</td>\n",
       "      <td>633.000000</td>\n",
       "      <td>10.000000</td>\n",
       "      <td>8.000000</td>\n",
       "      <td>10.000000</td>\n",
       "    </tr>\n",
       "  </tbody>\n",
       "</table>\n",
       "</div>"
      ],
      "text/plain": [
       "         model_year  enginesize_(l)    cylinders_  \\\n",
       "count  43928.000000    43928.000000  43928.000000   \n",
       "mean    2007.924012        3.393833      5.886655   \n",
       "std        7.250467        1.336548      1.779580   \n",
       "min     1995.000000        0.800000      2.000000   \n",
       "25%     2002.000000        2.300000      4.000000   \n",
       "50%     2008.000000        3.200000      6.000000   \n",
       "75%     2013.000000        4.300000      8.000000   \n",
       "max     2022.000000        8.400000     16.000000   \n",
       "\n",
       "       fuelconsumption_city(l/100km)  fuelconsumption_hwy(l/100km)  \\\n",
       "count                   43928.000000                  43928.000000   \n",
       "mean                       13.523101                      9.566352   \n",
       "std                         3.667994                      2.552349   \n",
       "min                         3.500000                      3.200000   \n",
       "25%                        11.000000                      7.800000   \n",
       "50%                        13.100000                      9.100000   \n",
       "75%                        15.600000                     11.000000   \n",
       "max                        33.300000                     22.100000   \n",
       "\n",
       "       fuelconsumption_comb(l/100km)  fuelconsumption_comb(mpg)  \\\n",
       "count                   43928.000000               43928.000000   \n",
       "mean                       11.743018                  25.768781   \n",
       "std                         3.127989                   7.030849   \n",
       "min                         3.600000                  10.000000   \n",
       "25%                         9.600000                  21.000000   \n",
       "50%                        11.300000                  25.000000   \n",
       "75%                        13.500000                  29.000000   \n",
       "max                        27.500000                  78.000000   \n",
       "\n",
       "       co2emissions_(g/km)   co2_rating  smog_rating  number_of_gears  \n",
       "count         43928.000000  7171.000000  6061.000000     42627.000000  \n",
       "mean            266.098115     4.659880     4.674311         5.476764  \n",
       "std              64.790087     1.638001     1.791209         1.356932  \n",
       "min              83.000000     1.000000     1.000000         1.000000  \n",
       "25%             221.000000     4.000000     3.000000         4.000000  \n",
       "50%             258.000000     5.000000     5.000000         5.000000  \n",
       "75%             306.000000     6.000000     6.000000         6.000000  \n",
       "max             633.000000    10.000000     8.000000        10.000000  "
      ]
     },
     "execution_count": 9,
     "metadata": {},
     "output_type": "execute_result"
    }
   ],
   "source": [
    "master_df.describe()"
   ]
  },
  {
   "cell_type": "code",
   "execution_count": 10,
   "id": "e18a1ea9",
   "metadata": {},
   "outputs": [
    {
     "data": {
      "image/png": "[encoded data removed]",
      "text/plain": [
       "<Figure size 2000x300 with 1 Axes>"
      ]
     },
     "metadata": {},
     "output_type": "display_data"
    }
   ],
   "source": [
    "models = master_df.groupby(\"make_\").count()['model_year'].reset_index().rename(columns={\"model_year\":\"count\"}).sort_values(by=\"count\", ascending=False)\n",
    "plt.rcParams[\"figure.figsize\"] = (20,3)\n",
    "plt.bar(x = models['make_'], height = models['count'])\n",
    "plt.xticks(rotation=90)\n",
    "plt.xlabel(\"Make\")\n",
    "plt.ylabel(\"Frequency\")\n",
    "plt.title(\"Frequency of makes (2022 - 1995)\")\n",
    "plt.show()"
   ]
  },
  {
   "cell_type": "code",
   "execution_count": null,
   "id": "b41aa362",
   "metadata": {},
   "outputs": [],
   "source": [
    "vehicle_class = master_df.groupby(\"vehicleclass_\").count()['model_year'].reset_index().rename(columns={\"model_year\":\"count\"}).sort_values(by=\"count\", ascending=False)\n",
    "plt.rcParams[\"figure.figsize\"] = (20,3)\n",
    "plt.bar(x = vehicle_class['vehicleclass_'], height = vehicle_class['count'])\n",
    "plt.xticks(rotation=90)\n",
    "plt.xlabel(\"Vehicle class\")\n",
    "plt.ylabel(\"Frequency\")\n",
    "plt.title(\"Frequency of vehicle class (2022 - 1995)\")\n",
    "plt.show()"
   ]
  },
  {
   "cell_type": "code",
   "execution_count": null,
   "id": "bd0291c9",
   "metadata": {},
   "outputs": [],
   "source": [
    "wheel_drive = master_df.groupby(\"type_of_wheel_drive\").count()['model_year'].reset_index().rename(columns={\"model_year\":\"count\"}).sort_values(by=\"count\", ascending=False)\n",
    "plt.rcParams[\"figure.figsize\"] = (10,3)\n",
    "plt.bar(x = wheel_drive['type_of_wheel_drive'], height = wheel_drive['count'])\n",
    "plt.xticks(rotation=90)\n",
    "plt.xlabel(\"Wheel drive type\")\n",
    "plt.ylabel(\"Frequency\")\n",
    "plt.title(\"Frequency of wheel drive type (2022 - 1995)\")\n",
    "plt.show()"
   ]
  },
  {
   "cell_type": "code",
   "execution_count": null,
   "id": "d3194361",
   "metadata": {},
   "outputs": [],
   "source": [
    "transmission = master_df.groupby(\"transmission_\").count()['model_year'].reset_index().rename(columns={\"model_year\":\"count\"}).sort_values(by=\"count\", ascending=False)\n",
    "plt.rcParams[\"figure.figsize\"] = (10,5)\n",
    "plt.bar(x = transmission['transmission_'], height = transmission['count'])\n",
    "plt.xticks(rotation=90)\n",
    "plt.xlabel(\"Type of transmission\")\n",
    "plt.ylabel(\"Frequency\")\n",
    "plt.title(\"Frequency of transmission type (2022 - 1995)\")\n",
    "plt.show()"
   ]
  },
  {
   "cell_type": "code",
   "execution_count": null,
   "id": "bc0ddec0",
   "metadata": {},
   "outputs": [],
   "source": [
    "sns.histplot(data=master_df, x='number_of_gears', bins=5)\n",
    "plt.title(\"Distribution: number of gears\")\n",
    "plt.show()"
   ]
  },
  {
   "cell_type": "code",
   "execution_count": null,
   "id": "aa8bff0d",
   "metadata": {},
   "outputs": [],
   "source": [
    "transmission_type = master_df.groupby(\"transmission_type\").count()['model_year'].reset_index().rename(columns={\"model_year\":\"count\"}).sort_values(by=\"count\", ascending=False)\n",
    "plt.rcParams[\"figure.figsize\"] = (10,5)\n",
    "plt.bar(x = transmission_type['transmission_type'], height = transmission_type['count'])\n",
    "plt.xticks(rotation=90)\n",
    "plt.xlabel(\"Type of transmission\")\n",
    "plt.ylabel(\"Frequency\")\n",
    "plt.title(\"Frequency of transmission type (2022 - 1995)\")\n",
    "plt.show()"
   ]
  },
  {
   "cell_type": "code",
   "execution_count": null,
   "id": "1011ec07",
   "metadata": {},
   "outputs": [],
   "source": [
    "fuel_type = master_df.groupby(\"mapped_fuel_type\").count()['model_year'].reset_index().rename(columns={\"model_year\":\"count\"}).sort_values(by=\"count\", ascending=False)\n",
    "plt.rcParams[\"figure.figsize\"] = (10,5)\n",
    "plt.bar(x = fuel_type['mapped_fuel_type'], height = fuel_type['count'])\n",
    "plt.xticks(rotation=90)\n",
    "plt.xlabel(\"Type of fuel\")\n",
    "plt.ylabel(\"Frequency\")\n",
    "plt.title(\"Frequency of fuel type (2022 - 1995)\")\n",
    "plt.show()"
   ]
  },
  {
   "cell_type": "markdown",
   "id": "7a760177",
   "metadata": {},
   "source": [
    "### Outliers and scaling"
   ]
  },
  {
   "cell_type": "code",
   "execution_count": null,
   "id": "de2d20b3",
   "metadata": {},
   "outputs": [],
   "source": [
    "\n",
    "\n",
    "fuel_info = [\n",
    "              'fuelconsumption_city(l/100km)','fuelconsumption_hwy(l/100km)',\t\n",
    "              'fuelconsumption_comb(l/100km)','fuelconsumption_comb(mpg)',\n",
    "                  ]     \n",
    "\n",
    "engine_info  = ['enginesize_(l)','cylinders_','co2_rating','co2emissions_(g/km)','smog_rating']"
   ]
  },
  {
   "cell_type": "code",
   "execution_count": null,
   "id": "bc213a30",
   "metadata": {},
   "outputs": [],
   "source": [
    "outliers = {}\n",
    "for item in fuel_info:\n",
    "    outliers[item] = np.sort(find_outliers_tukey(master_df[item]))\n",
    "    print(item, len(outliers[item]))\n",
    "    \n",
    "for item in engine_info:\n",
    "    outliers[item] = np.sort(find_outliers_tukey(master_df[item]))\n",
    "    print(item, len(outliers[item]))"
   ]
  },
  {
   "cell_type": "code",
   "execution_count": null,
   "id": "0774f94d",
   "metadata": {},
   "outputs": [],
   "source": [
    "len(outliers['fuelconsumption_city(l/100km)'])"
   ]
  },
  {
   "cell_type": "markdown",
   "id": "c5b05be8",
   "metadata": {
    "tags": []
   },
   "source": [
    "### The data has a positive skew"
   ]
  },
  {
   "cell_type": "code",
   "execution_count": null,
   "id": "39f799df",
   "metadata": {},
   "outputs": [],
   "source": [
    "\n",
    "box_plot(master_df,fuel_info,\"hist\")"
   ]
  },
  {
   "cell_type": "code",
   "execution_count": null,
   "id": "b5c33de8",
   "metadata": {},
   "outputs": [],
   "source": [
    "box_plot(master_df,fuel_info,\"box\")"
   ]
  },
  {
   "cell_type": "code",
   "execution_count": null,
   "id": "8fc6b604",
   "metadata": {},
   "outputs": [],
   "source": [
    "engine_info  = ['EngineSize_(L)','Cylinders_']\n",
    "box_plot(master_df,engine_info,'hist')"
   ]
  },
  {
   "cell_type": "code",
   "execution_count": null,
   "id": "cc6d333b",
   "metadata": {},
   "outputs": [],
   "source": [
    "engine_info  = ['EngineSize_(L)','Cylinders_','co2_rating','CO2Emissions_(g/km)','smog_rating']\n",
    "box_plot(master_df,engine_info,'box')"
   ]
  },
  {
   "cell_type": "code",
   "execution_count": null,
   "id": "c1ab1ab7",
   "metadata": {},
   "outputs": [],
   "source": [
    "master_df[~master_df['co2_rating'].isna()]"
   ]
  },
  {
   "cell_type": "code",
   "execution_count": null,
   "id": "6b6f164c",
   "metadata": {},
   "outputs": [],
   "source": [
    "non_na_rating = master_df[~master_df['co2_rating'].isna()]\n",
    "box_plot(non_na_rating,['EngineSize_(L)','Cylinders_','co2_rating','CO2Emissions_(g/km)'],\"hist\")"
   ]
  },
  {
   "cell_type": "markdown",
   "id": "e08ea2ba",
   "metadata": {},
   "source": [
    "### Using natural logarithm"
   ]
  },
  {
   "cell_type": "code",
   "execution_count": null,
   "id": "89d02bcb",
   "metadata": {},
   "outputs": [],
   "source": [
    "master_df_log_app = master_df.copy()"
   ]
  },
  {
   "cell_type": "code",
   "execution_count": null,
   "id": "e36bafd6",
   "metadata": {},
   "outputs": [],
   "source": [
    "fuel_info = [\n",
    "              'fuelconsumption_city(l/100km)','fuelconsumption_hwy(l/100km)',\t\n",
    "              'fuelconsumption_comb(l/100km)','fuelconsumption_comb(mpg)',]\n",
    "    \n",
    "engine_info  = ['enginesize_(l)','co2emissions_(g/km)','smog_rating']"
   ]
  },
  {
   "cell_type": "code",
   "execution_count": null,
   "id": "54148760",
   "metadata": {},
   "outputs": [],
   "source": [
    "for item in fuel_info:\n",
    "    master_df_log_app[item] = master_df_log_app[item].apply(lambda x: np.log(x))\n",
    "    \n",
    "for item in engine_info:\n",
    "    master_df_log_app[item] = master_df_log_app[item].apply(lambda x: np.log(x))"
   ]
  },
  {
   "cell_type": "code",
   "execution_count": null,
   "id": "0170858a",
   "metadata": {},
   "outputs": [],
   "source": [
    "master_df_log_app.head()"
   ]
  },
  {
   "cell_type": "code",
   "execution_count": null,
   "id": "2720d214",
   "metadata": {},
   "outputs": [],
   "source": [
    "box_plot(master_df_log_app,fuel_info,\"hist\")\n"
   ]
  },
  {
   "cell_type": "code",
   "execution_count": null,
   "id": "acab2aed",
   "metadata": {},
   "outputs": [],
   "source": [
    "box_plot(master_df_log_app,fuel_info,\"box\")"
   ]
  },
  {
   "cell_type": "code",
   "execution_count": null,
   "id": "e43135da",
   "metadata": {},
   "outputs": [],
   "source": [
    "box_plot(master_df_log_app,engine_info,\"box\")"
   ]
  },
  {
   "cell_type": "code",
   "execution_count": null,
   "id": "2e2fbe41",
   "metadata": {},
   "outputs": [],
   "source": [
    "outliers_log = {}\n",
    "for item in fuel_info:\n",
    "    outliers[item] = np.sort(find_outliers_tukey(master_df_log_app[item]))\n",
    "    print(item, len(outliers[item]))\n",
    "    \n",
    "for item in ['enginesize_(l)','cylinders_','co2_rating','co2emissions_(g/km)']:\n",
    "    outliers[item] = np.sort(find_outliers_tukey(master_df_log_app[item]))\n",
    "    print(item, len(outliers[item]))"
   ]
  },
  {
   "cell_type": "code",
   "execution_count": null,
   "id": "84464909",
   "metadata": {},
   "outputs": [],
   "source": [
    "non_na_rating_log = master_df_log_app[~master_df_log_app['co2_rating'].isna()]\n",
    "box_plot(non_na_rating_log,['EngineSize_(L)','Cylinders_','co2_rating','CO2Emissions_(g/km)'],\"box\")"
   ]
  },
  {
   "cell_type": "code",
   "execution_count": null,
   "id": "b3f8accb",
   "metadata": {},
   "outputs": [],
   "source": [
    "box_plot(non_na_rating_log,['EngineSize_(L)','Cylinders_','co2_rating','CO2Emissions_(g/km)'],\"hist\")"
   ]
  },
  {
   "cell_type": "code",
   "execution_count": null,
   "id": "e95deb82",
   "metadata": {},
   "outputs": [],
   "source": [
    "corr_matrix_non_na_log = non_na_rating_log.corr()\n",
    "\n"
   ]
  },
  {
   "cell_type": "code",
   "execution_count": null,
   "id": "4aa9d771",
   "metadata": {},
   "outputs": [],
   "source": [
    "corr_matrix = master_df.corr()\n",
    "fig_corr = sns.heatmap(corr_matrix, annot=True)\n",
    "fig_corr.figure.savefig(\"./plots/correlation_matrix.png\") \n",
    "plt.title(\"Correlation matrix\")\n",
    "plt.show()"
   ]
  },
  {
   "cell_type": "code",
   "execution_count": null,
   "id": "d93c822a",
   "metadata": {},
   "outputs": [],
   "source": [
    "corr_dummy = dummy_df.corr()\n",
    "fig_corr2 = sns.heatmap(corr_dummy, annot=True)\n",
    "#fig_corr2.figure.savefig(\"./plots/correlation_matrix.png\") \n",
    "plt.title(\"Correlation matrix\")\n",
    "plt.show()\n"
   ]
  },
  {
   "cell_type": "code",
   "execution_count": null,
   "id": "c8e44de9",
   "metadata": {},
   "outputs": [],
   "source": [
    "sns.heatmap(corr_matrix_non_na_log, annot=True)\n",
    "\n",
    "plt.show()"
   ]
  },
  {
   "cell_type": "markdown",
   "id": "9124ba8c",
   "metadata": {},
   "source": [
    "## Predicting CO2 ratings for remaining values - feature engineering\n",
    "\n",
    "#### Target variable: co2_rating\n",
    "\n",
    "#### Independent variables: \n",
    "\n",
    "1. engine_size(l),\n",
    "\n",
    "2. fuelconsumption_city(l/100km), \n",
    "\n",
    "3. fuelconsumption_hwy(l/100km),\n",
    "\n",
    "4. fuelconsumption_comb(l/100km),\n",
    "\n",
    "5. fuelconsumption_comb(mpg)\n",
    "\n",
    "6. co2emissions_(g/km)\n",
    "\n",
    "7. (maybe) cylinders_ "
   ]
  },
  {
   "cell_type": "code",
   "execution_count": null,
   "id": "09f70cac",
   "metadata": {},
   "outputs": [],
   "source": [
    "entries_with_scores = master_df_log_app[master_df_log_app['model_year']>=2017]\n",
    "entries_with_scores.isna().sum()"
   ]
  },
  {
   "cell_type": "code",
   "execution_count": null,
   "id": "b4ac66d0",
   "metadata": {
    "tags": []
   },
   "outputs": [],
   "source": [
    "#fig = sns.pairplot(entries_with_scores, hue=\"type_of_fuel\")\n",
    "#fig.savefig(\"./plots/pairplot-by-fuel-type.png\") \n",
    "#plt.show()"
   ]
  },
  {
   "cell_type": "code",
   "execution_count": null,
   "id": "9df9ec13",
   "metadata": {},
   "outputs": [],
   "source": [
    "#entries_with_scores['co2_rating'] = entries_with_scores['co2_rating'].astype('int').astype('str')"
   ]
  },
  {
   "cell_type": "code",
   "execution_count": null,
   "id": "377a9ee8",
   "metadata": {},
   "outputs": [],
   "source": [
    "entries_with_scores['co2_rating'].unique()"
   ]
  },
  {
   "cell_type": "code",
   "execution_count": null,
   "id": "e9b9ef5d",
   "metadata": {},
   "outputs": [],
   "source": [
    "from sklearn.model_selection import KFold\n",
    "from sklearn.model_selection import StratifiedGroupKFold\n",
    "from sklearn.model_selection import cross_val_score\n",
    "from sklearn.metrics import mean_absolute_error, mean_squared_error\n",
    "from sklearn.compose import make_column_transformer\n",
    "\n",
    "kf = KFold(n_splits=10)\n",
    "folds = StratifiedGroupKFold(n_splits=10)\n",
    "\n",
    "def get_score(model, X_train, X_test, y_train, y_test):\n",
    "    model.fit(X_train, y_train)\n",
    "    return model.score(X_test, y_test)"
   ]
  },
  {
   "cell_type": "code",
   "execution_count": null,
   "id": "b1bc8526",
   "metadata": {},
   "outputs": [],
   "source": [
    "Y = entries_with_scores['co2_rating']\n",
    "\n",
    "X = entries_with_scores[['enginesize_(l)','cylinders_','fuelconsumption_city(l/100km)',\n",
    "                         'fuelconsumption_hwy(l/100km)', 'fuelconsumption_comb(l/100km)', \n",
    "                         'fuelconsumption_comb(mpg)','co2emissions_(g/km)']]\n",
    "\n",
    "X_train, X_test, y_train, y_test = train_test_split(X, Y, test_size=0.5, random_state=42)"
   ]
  },
  {
   "cell_type": "code",
   "execution_count": null,
   "id": "8fd4c515",
   "metadata": {},
   "outputs": [],
   "source": []
  },
  {
   "cell_type": "code",
   "execution_count": null,
   "id": "53d2d88d",
   "metadata": {
    "tags": []
   },
   "outputs": [],
   "source": [
    "lr_sc = []\n",
    "sv_sc = []\n",
    "rf_sc = []\n",
    "for train_index, test_index in kf.split(X):\n",
    "    X_train, X_test, y_train, y_test = X.iloc[train_index], X.iloc[test_index],\\\n",
    "                                        Y.iloc[train_index], Y.iloc[test_index] \n",
    "    lr_sc.append(get_score(LinearRegression(), X_train, X_test, y_train, y_test))\n",
    "    \n",
    "    ### NEED TO REVIEW https://scikit-learn.org/stable/modules/preprocessing.html\n",
    "    sv_sc.append(get_score(GradientBoostingRegressor(), X_train, X_test, y_train, y_test))\n",
    "    rf_sc.append(get_score(RandomForestClassifier(), X_train, X_test, y_train, y_test))"
   ]
  },
  {
   "cell_type": "markdown",
   "id": "73e39767",
   "metadata": {},
   "source": [
    "### Try xgboost, lightgbm \n",
    "\n",
    "### Next, try neural network model"
   ]
  },
  {
   "cell_type": "code",
   "execution_count": null,
   "id": "1bc2825a",
   "metadata": {},
   "outputs": [],
   "source": [
    "lr_sc"
   ]
  },
  {
   "cell_type": "code",
   "execution_count": null,
   "id": "f8729f3f",
   "metadata": {},
   "outputs": [],
   "source": [
    "sv_sc"
   ]
  },
  {
   "cell_type": "code",
   "execution_count": null,
   "id": "cc313400",
   "metadata": {},
   "outputs": [],
   "source": [
    "rf_sc"
   ]
  },
  {
   "cell_type": "code",
   "execution_count": null,
   "id": "74cf6c17",
   "metadata": {},
   "outputs": [],
   "source": [
    "cross_val_score(LinearRegression(), X, Y)"
   ]
  },
  {
   "cell_type": "code",
   "execution_count": null,
   "id": "9f71bbda",
   "metadata": {},
   "outputs": [],
   "source": [
    "cross_val_score(GradientBoostingRegressor(n_estimators=40), X, Y)"
   ]
  },
  {
   "cell_type": "code",
   "execution_count": null,
   "id": "0c48dae3",
   "metadata": {},
   "outputs": [],
   "source": [
    "cross_val_score(RandomForestClassifier(n_estimators=100), X, Y)"
   ]
  },
  {
   "cell_type": "markdown",
   "id": "5f2546b7",
   "metadata": {},
   "source": [
    "#### Predicting"
   ]
  },
  {
   "cell_type": "code",
   "execution_count": null,
   "id": "d2addf67",
   "metadata": {},
   "outputs": [],
   "source": [
    "lm = LinearRegression()\n",
    "lm.fit(X_train, y_train)\n",
    "lm_predictions = lm.predict(X_test)\n",
    "\n",
    "\n",
    "gbm = GradientBoostingRegressor()\n",
    "gbm.fit(X_train, y_train)\n",
    "gmb_predictions = gbm.predict(X_test)"
   ]
  },
  {
   "cell_type": "code",
   "execution_count": null,
   "id": "91194648",
   "metadata": {},
   "outputs": [],
   "source": [
    "lm_mae = mean_absolute_error(lm_predictions, y_test)\n",
    "# lm_rmse = np.sqrt(mean_squared_error(lm_predictions, y_test),y_test)\n",
    "\n",
    "gbm_mae = mean_absolute_error(gmb_predictions, y_test)\n",
    "# gbm_rmse = np.sqrt(mean_squared_error(gmb_predictions, y_test), y_test)"
   ]
  },
  {
   "cell_type": "code",
   "execution_count": null,
   "id": "a2c0b048",
   "metadata": {},
   "outputs": [],
   "source": [
    "print(lm_mae)\n",
    "print(gbm_mae)"
   ]
  },
  {
   "cell_type": "markdown",
   "id": "a642b589",
   "metadata": {},
   "source": [
    "GradientBoostingRegressor is slightly more accurate than gradient boosting."
   ]
  },
  {
   "cell_type": "code",
   "execution_count": null,
   "id": "9e54b4a7",
   "metadata": {},
   "outputs": [],
   "source": [
    "from sklearn.metrics import confusion_matrix\n",
    "\n",
    "confusion_matrix(y_test, gmb_predictions)"
   ]
  },
  {
   "cell_type": "code",
   "execution_count": null,
   "id": "185e8ad9",
   "metadata": {},
   "outputs": [],
   "source": []
  }
 ],
 "metadata": {
  "kernelspec": {
   "display_name": "Python MP Capstone",
   "language": "python",
   "name": "ml-project-env"
  },
  "language_info": {
   "codemirror_mode": {
    "name": "ipython",
    "version": 3
   },
   "file_extension": ".py",
   "mimetype": "text/x-python",
   "name": "python",
   "nbconvert_exporter": "python",
   "pygments_lexer": "ipython3",
   "version": "3.7.13"
  }
 },
 "nbformat": 4,
 "nbformat_minor": 5
}

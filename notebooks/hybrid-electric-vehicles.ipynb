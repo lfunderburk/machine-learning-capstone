{
 "cells": [
  {
   "cell_type": "code",
   "execution_count": 1,
   "metadata": {},
   "outputs": [],
   "source": [
    "sys.path.append(os.path.abspath(os.path.join('..','./data/', './clean-data/')))\n",
    "sys.path.append(os.path.abspath(os.path.join('..','./scripts/')))\n",
    "\n",
    "\n",
    "import pandas as pd\n",
    "from pathlib import Path\n",
    "from imblearn.over_sampling import SMOTE\n",
    "\n",
    "from sklearn.preprocessing import scale\n",
    "from sklearn.model_selection import train_test_split\n",
    "\n",
    "from sklearn.ensemble import RandomForestClassifier\n",
    "from sklearn.svm import SVC\n",
    "\n",
    "import xgboost as xgb\n",
    "\n",
    "from sklearn.model_selection import KFold\n",
    "from sklearn.model_selection import StratifiedGroupKFold\n",
    "from sklearn.model_selection import cross_val_score\n",
    "from sklearn.metrics import mean_absolute_error, mean_squared_error\n",
    "from sklearn.compose import make_column_transformer\n",
    "from sklearn.preprocessing import OneHotEncoder, StandardScaler\n",
    "from sklearn.compose import ColumnTransformer\n",
    "from sklearn.metrics import confusion_matrix, classification_report\n",
    "\n",
    "from sklearn.model_selection import GridSearchCV\n",
    "\n",
    "from sklearn.pipeline import Pipeline\n",
    "from sklearn.impute import SimpleImputer\n",
    "\n",
    "from sklearn.linear_model import LogisticRegression\n",
    "\n",
    "import sys, os\n",
    "\n",
    "import matplotlib.pyplot as plt\n",
    "\n",
    "# Accuracy score\n",
    "from sklearn.metrics import accuracy_score\n",
    "from sklearn.metrics import balanced_accuracy_score\n",
    "\n",
    "from sklearn.neighbors import KNeighborsRegressor\n",
    "\n",
    "\n",
    "from sklearn.neural_network import MLPClassifier\n",
    "from sklearn.neighbors import KNeighborsClassifier\n",
    "from sklearn.svm import SVC\n",
    "from sklearn.gaussian_process import GaussianProcessClassifier\n",
    "from sklearn.gaussian_process.kernels import RBF\n",
    "from sklearn.tree import DecisionTreeClassifier\n",
    "from sklearn.ensemble import RandomForestClassifier, AdaBoostClassifier\n",
    "from sklearn.naive_bayes import GaussianNB\n",
    "from sklearn.discriminant_analysis import QuadraticDiscriminantAnalysis\n",
    "from sklearn.inspection import DecisionBoundaryDisplay\n",
    "\n",
    "from sklearn.metrics import ConfusionMatrixDisplay"
   ]
  },
  {
   "cell_type": "code",
   "execution_count": 2,
   "metadata": {},
   "outputs": [],
   "source": [
    "\n",
    "def remove_missing_values(fuel_df, drop_smog=True, rating_column='co2_rating', drop_column='smog_rating'):\n",
    "\n",
    "    # Drop smog_rating from non_na_rating\n",
    "    if drop_smog:\n",
    "        fuel_df.drop(columns=[drop_column], inplace=True)\n",
    "    else:\n",
    "        pass\n",
    "    fuel_df['number_of_gears'].fillna(0, inplace=True)\n",
    "\n",
    "    # Set up data pipeline - goal is to predict co2_rating \n",
    "    na_rating = fuel_df[fuel_df[rating_column].isna()]\n",
    "    non_na_rating = fuel_df[~fuel_df[rating_column].isna()]\n",
    "\n",
    "    non_na_rating_class = non_na_rating.copy()\n",
    "    na_rating_class = na_rating.copy()\n",
    "\n",
    "    non_na_rating_class[rating_column] = non_na_rating_class[rating_column].astype(int)\n",
    "\n",
    "    return non_na_rating_class, na_rating_class\n",
    "\n",
    "def read_data(path):\n",
    "    \"\"\"\n",
    "    This function reads data from csv files\n",
    "\n",
    "    Parameters:\n",
    "    ----------\n",
    "        path: str\n",
    "            path to data files\n",
    "\n",
    "    Returns:\n",
    "    -------\n",
    "        fuel_df: pandas.DataFrame\n",
    "            dataframe containing fuel cars data\n",
    "        electric_df: pandas.DataFrame\n",
    "            dataframe containing electric cars data\n",
    "        hybrid_df: pandas.DataFrame\n",
    "            dataframe containing hybrid cars data\n",
    "\n",
    "    \"\"\"\n",
    "    \n",
    "    # Fuel based cars\n",
    "    file_name_2022_1995 = \"1995_today_vehicle_fuel_consumption.csv\"\n",
    "    \n",
    "    # Electric cars\n",
    "    pure_electric = \"Batteryelectric_vehicles__.csv\"\n",
    "    hybric_vehicle = \"Plugin_hybrid_electric_vehicles__.csv\"\n",
    "\n",
    "    # Read data files\n",
    "    fuel_df = pd.read_csv(Path(path ,f'{file_name_2022_1995}'))\n",
    "    electric_df = pd.read_csv(Path(path ,f'{pure_electric}'))\n",
    "    hybrid_df = pd.read_csv(Path(path ,f'{hybric_vehicle}'))\n",
    "\n",
    "    return fuel_df, electric_df, hybrid_df\n",
    "\n",
    "fuel_df, electric_df, hybrid_df = read_data('../data/clean-data/')\n",
    "\n",
    "def train_and_evaluate_model(X_train, y_train, X_test, y_test, model_pipeline, model_name):\n",
    "    \n",
    "    model_pipeline.fit(X_train, y_train.values.ravel())\n",
    "\n",
    "\n",
    "    # Predict\n",
    "    y_pred = model_pipeline.predict(X_test)\n",
    "    \n",
    "    # Obtain accuracy score\n",
    "    acc = accuracy_score(y_test, y_pred)\n",
    "    print('accuracy is',accuracy_score(y_pred,y_test))\n",
    "    \n",
    "    score_train = model_pipeline.score(X_train, y_train)\n",
    "    score_test = model_pipeline.score(X_test, y_test)\n",
    "    print('score for training set', score_train, 'score for testing set', score_test)\n",
    "    balanced_accuracy = balanced_accuracy_score(y_test, y_pred)\n",
    "    print(\"Balanced accuracy score\", balanced_accuracy)\n",
    "    \n",
    "    report = classification_report(y_test, y_pred)\n",
    "    \n",
    "    fig, ax = plt.subplots(figsize=(10, 5))\n",
    "    ConfusionMatrixDisplay.from_predictions(y_test, y_pred, ax=ax)\n",
    "    _ = ax.set_title(\n",
    "        f\"Confusion Matrix for {model_name}\"\n",
    "    )\n",
    "    \n",
    "    plt.show()\n",
    "    \n",
    "    print(report, sep=',')\n",
    "\n",
    "def classify_grid_search_cv_tuning(model, parameters, X_train, X_test, y_train, y_test, n_folds = 5, scoring='accuracy'):\n",
    "    \"\"\"\n",
    "    This function tunes GridSearchCV model\n",
    "    \n",
    "    Parameters:\n",
    "    ----------\n",
    "        model\n",
    "        parameters\n",
    "        X_train\n",
    "        X_test\n",
    "        y_train\n",
    "        y_test\n",
    "        n_folds\n",
    "        scoring\n",
    "        \n",
    "    Returns:\n",
    "    --------\n",
    "        best_model\n",
    "        best_score\n",
    "    \"\"\"\n",
    "    # Set up and fit model\n",
    "    tune_model = GridSearchCV(model, param_grid=parameters, cv=n_folds, scoring=scoring)\n",
    "    tune_model.fit(X_train, y_train)\n",
    "    \n",
    "    best_model = tune_model.best_estimator_\n",
    "    best_score = tune_model.best_score_\n",
    "    y_pred = best_model.predict(X_test)\n",
    "    \n",
    "    # Printing results\n",
    "    print(\"Best parameters:\", tune_model.best_params_)\n",
    "    print(\"Cross-validated accuracy score on training data: {:0.4f}\".format(tune_model.best_score_))\n",
    "    print()\n",
    "\n",
    "    print(classification_report(y_test, y_pred))\n",
    "    \n",
    "    return best_model, best_score"
   ]
  },
  {
   "cell_type": "markdown",
   "metadata": {},
   "source": [
    "Hybrid vehicles"
   ]
  },
  {
   "cell_type": "code",
   "execution_count": 3,
   "metadata": {},
   "outputs": [],
   "source": [
    "non_na_rating_class, na_rating_class = remove_missing_values(hybrid_df)"
   ]
  },
  {
   "cell_type": "code",
   "execution_count": 4,
   "metadata": {},
   "outputs": [
    {
     "data": {
      "text/plain": [
       "20     2.8 ([25.2 kWh + 0.0 L]/100 km)\n",
       "21     2.7 ([23.9 kWh + 0.0 L]/100 km)\n",
       "22     3.3 ([29.1 kWh + 0.0 L]/100 km)\n",
       "23               2.0 (17.9 kWh/100 km)\n",
       "24     3.1 ([26.9 kWh + 0.2 L]/100 km)\n",
       "                    ...               \n",
       "239    3.0 ([27.2 kWh + 0.0 L]/100 km)\n",
       "240    3.4 ([30.0 kWh + 0.0 L]/100 km)\n",
       "241    3.0 ([27.2 kWh + 0.0 L]/100 km)\n",
       "242    3.5 ([31.2 kWh + 0.0 L]/100 km)\n",
       "243    3.8 ([34.4 kWh + 0.0 L]/100 km)\n",
       "Name: consumption_combinedle/100km, Length: 224, dtype: object"
      ]
     },
     "execution_count": 4,
     "metadata": {},
     "output_type": "execute_result"
    }
   ],
   "source": [
    "non_na_rating_class['consumption_combinedle/100km']"
   ]
  },
  {
   "cell_type": "code",
   "execution_count": 5,
   "metadata": {},
   "outputs": [
    {
     "name": "stdout",
     "output_type": "stream",
     "text": [
      "<class 'pandas.core.frame.DataFrame'>\n",
      "Int64Index: 224 entries, 20 to 243\n",
      "Data columns (total 25 columns):\n",
      " #   Column                         Non-Null Count  Dtype  \n",
      "---  ------                         --------------  -----  \n",
      " 0   model_year                     224 non-null    int64  \n",
      " 1   make_                          224 non-null    object \n",
      " 2   model.1_                       224 non-null    object \n",
      " 3   vehicleclass_                  224 non-null    object \n",
      " 4   motor_(kw)                     224 non-null    int64  \n",
      " 5   enginesize_(l)                 224 non-null    float64\n",
      " 6   cylinders_                     224 non-null    float64\n",
      " 7   transmission_                  224 non-null    object \n",
      " 8   fuel_type1                     224 non-null    object \n",
      " 9   consumption_combinedle/100km   224 non-null    object \n",
      " 10  range1_(km)                    224 non-null    int64  \n",
      " 11  recharge_time(h)               224 non-null    float64\n",
      " 12  fuel_type2                     224 non-null    object \n",
      " 13  fuelconsumption_city(l/100km)  224 non-null    float64\n",
      " 14  fuelconsumption_hwy(l/100km)   224 non-null    float64\n",
      " 15  fuelconsumption_comb(l/100km)  224 non-null    float64\n",
      " 16  range2_(km)                    224 non-null    int64  \n",
      " 17  co2emissions_(g/km)            224 non-null    int64  \n",
      " 18  co2_rating                     224 non-null    int32  \n",
      " 19  transmission_type              224 non-null    object \n",
      " 20  number_of_gears                224 non-null    float64\n",
      " 21  mapped_fuel_type               224 non-null    object \n",
      " 22  hybrid_fuels                   224 non-null    object \n",
      " 23  id                             224 non-null    int64  \n",
      " 24  vehicle_type                   224 non-null    object \n",
      "dtypes: float64(7), int32(1), int64(6), object(11)\n",
      "memory usage: 44.6+ KB\n"
     ]
    }
   ],
   "source": [
    "non_na_rating_class.info()"
   ]
  },
  {
   "cell_type": "code",
   "execution_count": 6,
   "metadata": {},
   "outputs": [],
   "source": [
    "# Var list\n",
    "hybrid_var_list = ['vehicleclass_','make_',\n",
    "                    'model.1_','model_year',\n",
    "                    'cylinders_','fuelconsumption_city(l/100km)',\n",
    "                    'fuelconsumption_hwy(l/100km)',\n",
    "                    'fuelconsumption_comb(l/100km)',\n",
    "                    'fuel_type1',\n",
    "                    'fuel_type2',\n",
    "                    'co2emissions_(g/km)',\n",
    "                    'number_of_gears']\n",
    "\n",
    "# Set up parameters for the model - numerical and categorical\n",
    "numeric_features =  ['model_year','cylinders_',\n",
    "                    'fuelconsumption_city(l/100km)',\n",
    "                    'fuelconsumption_hwy(l/100km)',\n",
    "                    'fuelconsumption_comb(l/100km)',\n",
    "                    'co2emissions_(g/km)','number_of_gears']\n",
    "categorical_features = ['vehicleclass_']\n",
    "\n",
    "# Set up numerical and categorical transformers\n",
    "numeric_transformer = Pipeline(\n",
    "                            steps=[(\"scaler\", StandardScaler())]\n",
    "                        )\n",
    "\n",
    "categorical_transformer = OneHotEncoder(handle_unknown=\"ignore\")\n",
    "\n",
    "# Set up preprocessor\n",
    "preprocessor = ColumnTransformer(\n",
    "    transformers=[\n",
    "        (\"num\", numeric_transformer, numeric_features),\n",
    "        #(\"cat\", categorical_transformer, categorical_features),\n",
    "    ]\n",
    ")\n"
   ]
  },
  {
   "cell_type": "code",
   "execution_count": 7,
   "metadata": {},
   "outputs": [],
   "source": [
    "Y = non_na_rating_class[['co2_rating']]\n",
    "\n",
    "# Dependent variables\n",
    "X = non_na_rating_class[hybrid_var_list]"
   ]
  },
  {
   "cell_type": "code",
   "execution_count": 8,
   "metadata": {},
   "outputs": [],
   "source": [
    "# Split data\n",
    "X_train, X_test, y_train, y_test = train_test_split(X, Y, test_size=0.2, random_state=42)\n",
    "    "
   ]
  },
  {
   "cell_type": "code",
   "execution_count": 9,
   "metadata": {},
   "outputs": [],
   "source": [
    "# Set up pipeline\n",
    "# Set up parameters for the model - numerical and categorical\n",
    "numeric_features =  numeric_features\n",
    "categorical_features = categorical_features\n",
    "\n",
    "# Set up preprocessor\n",
    "preprocessor = preprocessor"
   ]
  },
  {
   "cell_type": "code",
   "execution_count": 10,
   "metadata": {},
   "outputs": [],
   "source": [
    "# # Use smote to balance the data\n",
    "# smote = SMOTE(random_state=42)\n",
    "# X_train, y_train = smote.fit_resample(X_train[numeric_features], y_train)\n"
   ]
  },
  {
   "cell_type": "code",
   "execution_count": 11,
   "metadata": {},
   "outputs": [
    {
     "data": {
      "text/plain": [
       "(array([  2.,   0.,  16.,   0.,   0.,  26.,   0.,  40.,   0., 140.]),\n",
       " array([ 6. ,  6.4,  6.8,  7.2,  7.6,  8. ,  8.4,  8.8,  9.2,  9.6, 10. ]),\n",
       " <BarContainer object of 10 artists>)"
      ]
     },
     "execution_count": 11,
     "metadata": {},
     "output_type": "execute_result"
    },
    {
     "data": {
      "image/png": "[encoded data removed]",
      "text/plain": [
       "<Figure size 640x480 with 1 Axes>"
      ]
     },
     "metadata": {},
     "output_type": "display_data"
    }
   ],
   "source": [
    "import seaborn as sns\n",
    "plt.hist(x=non_na_rating_class['co2_rating'])"
   ]
  },
  {
   "cell_type": "code",
   "execution_count": 12,
   "metadata": {},
   "outputs": [
    {
     "name": "stdout",
     "output_type": "stream",
     "text": [
      "Random Forest\n",
      "accuracy is 0.8666666666666667\n",
      "score for training set 0.994413407821229 score for testing set 0.8666666666666667\n",
      "Balanced accuracy score 0.8323809523809524\n"
     ]
    },
    {
     "data": {
      "image/png": "[encoded data removed]",
      "text/plain": [
       "<Figure size 1000x500 with 2 Axes>"
      ]
     },
     "metadata": {},
     "output_type": "display_data"
    },
    {
     "name": "stdout",
     "output_type": "stream",
     "text": [
      "              precision    recall  f1-score   support\n",
      "\n",
      "           6       1.00      1.00      1.00         1\n",
      "           7       0.83      0.83      0.83         6\n",
      "           8       0.60      0.60      0.60         5\n",
      "           9       0.57      0.80      0.67         5\n",
      "          10       1.00      0.93      0.96        28\n",
      "\n",
      "    accuracy                           0.87        45\n",
      "   macro avg       0.80      0.83      0.81        45\n",
      "weighted avg       0.89      0.87      0.87        45\n",
      "\n",
      "----------------\n"
     ]
    }
   ],
   "source": [
    "names = [\n",
    "    \"Random Forest\",\n",
    "]\n",
    "\n",
    "classifiers = [\n",
    "    RandomForestClassifier(max_depth=100, n_estimators=10, max_features=1, random_state=42),\n",
    "]\n",
    "\n",
    "\n",
    "for name, clf in zip(names, classifiers):\n",
    "    print(name)\n",
    "    \n",
    "    model = Pipeline(\n",
    "        steps=[(\"preprocessor\", preprocessor), (name, clf, )] #colsample  by tree, n estimators, max depth\n",
    "                                                                    )\n",
    "    train_and_evaluate_model(X_train, y_train, X_test, y_test, model,name)\n",
    "    \n",
    "    print(\"----------------\")"
   ]
  },
  {
   "cell_type": "code",
   "execution_count": 13,
   "metadata": {},
   "outputs": [
    {
     "data": {
      "text/plain": [
       "dict_values([None, [('preprocessor', ColumnTransformer(transformers=[('num',\n",
       "                                 Pipeline(steps=[('scaler', StandardScaler())]),\n",
       "                                 ['model_year', 'cylinders_',\n",
       "                                  'fuelconsumption_city(l/100km)',\n",
       "                                  'fuelconsumption_hwy(l/100km)',\n",
       "                                  'fuelconsumption_comb(l/100km)',\n",
       "                                  'co2emissions_(g/km)', 'number_of_gears'])])), ('Random Forest', RandomForestClassifier(max_depth=100, max_features=1, n_estimators=10,\n",
       "                       random_state=42))], False, ColumnTransformer(transformers=[('num',\n",
       "                                 Pipeline(steps=[('scaler', StandardScaler())]),\n",
       "                                 ['model_year', 'cylinders_',\n",
       "                                  'fuelconsumption_city(l/100km)',\n",
       "                                  'fuelconsumption_hwy(l/100km)',\n",
       "                                  'fuelconsumption_comb(l/100km)',\n",
       "                                  'co2emissions_(g/km)', 'number_of_gears'])]), RandomForestClassifier(max_depth=100, max_features=1, n_estimators=10,\n",
       "                       random_state=42), None, 'drop', 0.3, None, [('num', Pipeline(steps=[('scaler', StandardScaler())]), ['model_year', 'cylinders_', 'fuelconsumption_city(l/100km)', 'fuelconsumption_hwy(l/100km)', 'fuelconsumption_comb(l/100km)', 'co2emissions_(g/km)', 'number_of_gears'])], False, True, Pipeline(steps=[('scaler', StandardScaler())]), None, [('scaler', StandardScaler())], False, StandardScaler(), True, True, True, True, 0.0, None, 'gini', 100, 1, None, None, 0.0, 1, 2, 0.0, 10, None, False, 42, 0, False])"
      ]
     },
     "execution_count": 13,
     "metadata": {},
     "output_type": "execute_result"
    }
   ],
   "source": [
    "model.get_params().values()"
   ]
  },
  {
   "cell_type": "code",
   "execution_count": 70,
   "metadata": {},
   "outputs": [],
   "source": [
    "params = {'Random Forest__max_depth': range(1, 10),\n",
    "           'Random Forest__max_features': ['auto', 'sqrt', 'log2'],\n",
    "           'Random Forest__max_leaf_nodes': range(1, 10),\n",
    "           'Random Forest__max_samples': range(1, 10),\n",
    "           'Random Forest__n_estimators': range(10, 100) ,\n",
    "           'Random Forest__min_samples_leaf': range(1, 100),}\n",
    "\n",
    "best_dtc, dtc_score = classify_grid_search_cv_tuning(model, params, X_train, X_test, y_train, y_test, n_folds=5, scoring='f1_weighted')"
   ]
  },
  {
   "cell_type": "code",
   "execution_count": null,
   "metadata": {},
   "outputs": [],
   "source": []
  }
 ],
 "metadata": {
  "kernelspec": {
   "display_name": "Python 3.10.8 ('ml-project-env-10')",
   "language": "python",
   "name": "python3"
  },
  "language_info": {
   "codemirror_mode": {
    "name": "ipython",
    "version": 3
   },
   "file_extension": ".py",
   "mimetype": "text/x-python",
   "name": "python",
   "nbconvert_exporter": "python",
   "pygments_lexer": "ipython3",
   "version": "3.10.8"
  },
  "orig_nbformat": 4,
  "vscode": {
   "interpreter": {
    "hash": "b1b475f47bca8e2da48eea161630da42d1e1d9e1dc58db9742c2ed9d06304115"
   }
  }
 },
 "nbformat": 4,
 "nbformat_minor": 2
}

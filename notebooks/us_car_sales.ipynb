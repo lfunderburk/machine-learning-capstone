{
 "cells": [
  {
   "cell_type": "code",
   "execution_count": null,
   "id": "24b3ea2c-1cb6-46a6-874c-49ff2f37e337",
   "metadata": {},
   "outputs": [],
   "source": [
    "import pandas as pd\n"
   ]
  }
 ],
 "metadata": {
  "kernelspec": {
   "display_name": "Python MP Capstone",
   "language": "python",
   "name": "ml-project-env"
  },
  "language_info": {
   "codemirror_mode": {
    "name": "ipython",
    "version": 3
   },
   "file_extension": ".py",
   "mimetype": "text/x-python",
   "name": "python",
   "nbconvert_exporter": "python",
   "pygments_lexer": "ipython3",
   "version": "3.7.15"
  }
 },
 "nbformat": 4,
 "nbformat_minor": 5
}

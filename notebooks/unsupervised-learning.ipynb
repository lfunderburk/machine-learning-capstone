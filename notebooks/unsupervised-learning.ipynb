{
 "cells": [
  {
   "cell_type": "code",
   "execution_count": 1,
   "metadata": {},
   "outputs": [],
   "source": [
    "import sys, os\n",
    "import pandas as pd\n",
    "import numpy as np\n",
    "from sklearn.preprocessing import StandardScaler\n",
    "from sklearn.cluster import KMeans\n",
    "from pathlib import Path\n",
    "\n",
    "sys.path.append(os.path.abspath(os.path.join('..','./data/', './clean-data/')))\n",
    "sys.path.append(os.path.abspath(os.path.join('..','./scripts/')))\n",
    "\n",
    "# Load the dataset into a pandas DataFrame\n",
    "df = pd.read_csv(Path(\"../data/clean-data/\",\"predicted_co2_rating.csv\"))\n",
    "\n"
   ]
  },
  {
   "cell_type": "markdown",
   "metadata": {},
   "source": [
    "## To do: clustering fuel only cars\n",
    "1. T-SNE, read about it, do dimensionality reduction\n",
    "\n",
    "## Pair wise clustering\n",
    "1. Hybrid and electric\n",
    "2. Hybrid and fuel\n",
    "\n",
    "## Fuzzy logic\n",
    "Can we calculate car membership?\n",
    "Read on fuzzy logic \n",
    "\n",
    "## Consumer analysis with scraped data \n",
    "Predictor for time series sales data\n",
    "Couple sales data with the co2 scores\n",
    "Accumulated prediction for co2 impact \n"
   ]
  },
  {
   "cell_type": "code",
   "execution_count": 4,
   "metadata": {},
   "outputs": [
    {
     "name": "stdout",
     "output_type": "stream",
     "text": [
      "<class 'pandas.core.frame.DataFrame'>\n",
      "RangeIndex: 26961 entries, 0 to 26960\n",
      "Data columns (total 21 columns):\n",
      " #   Column                         Non-Null Count  Dtype  \n",
      "---  ------                         --------------  -----  \n",
      " 0   vehicleclass_                  26961 non-null  object \n",
      " 1   make_                          26961 non-null  object \n",
      " 2   model.1_                       26961 non-null  object \n",
      " 3   model_year                     26961 non-null  int64  \n",
      " 4   cylinders_                     26961 non-null  float64\n",
      " 5   fuelconsumption_city(l/100km)  26961 non-null  float64\n",
      " 6   fuelconsumption_hwy(l/100km)   26961 non-null  float64\n",
      " 7   fuelconsumption_comb(l/100km)  26961 non-null  float64\n",
      " 8   co2emissions_(g/km)            26961 non-null  int64  \n",
      " 9   number_of_gears                26961 non-null  float64\n",
      " 10  predicted_co2_rating           26961 non-null  int64  \n",
      " 11  original_co2r                  7973 non-null   float64\n",
      " 12  enginesize_(l)                 26961 non-null  float64\n",
      " 13  transmission_                  26961 non-null  object \n",
      " 14  fuel_type                      26961 non-null  object \n",
      " 15  fuelconsumption_comb(mpg)      26961 non-null  int64  \n",
      " 16  transmission_type              26961 non-null  object \n",
      " 17  mapped_fuel_type               26961 non-null  object \n",
      " 18  type_of_wheel_drive            26961 non-null  object \n",
      " 19  id                             26961 non-null  int64  \n",
      " 20  vehicle_type                   26961 non-null  object \n",
      "dtypes: float64(7), int64(5), object(9)\n",
      "memory usage: 4.3+ MB\n"
     ]
    }
   ],
   "source": [
    "df.info()"
   ]
  },
  {
   "cell_type": "code",
   "execution_count": null,
   "metadata": {},
   "outputs": [],
   "source": [
    "var_list = ['vehicleclass_','make_',\n",
    "                    'model.1_','model_year',\n",
    "                    'cylinders_','fuelconsumption_city(l/100km)',\n",
    "                    'fuelconsumption_hwy(l/100km)',\n",
    "                    'fuelconsumption_comb(l/100km)',\n",
    "                    'predicted_co2_rating',\n",
    "                    'co2emissions_(g/km)',\n",
    "                    'number_of_gears']\n",
    "\n",
    "\n",
    "# Set up parameters for the model - numerical and categorical\n",
    "numeric_features =  ['model_year','cylinders_',\n",
    "                    'fuelconsumption_city(l/100km)',\n",
    "                    'fuelconsumption_hwy(l/100km)',\n",
    "                    'fuelconsumption_comb(l/100km)',\n",
    "                    'predicted_co2_rating',\n",
    "                    'co2emissions_(g/km)','number_of_gears']\n",
    "categorical_features = ['vehicleclass_']\n",
    "\n",
    "# Set up numerical and categorical transformers\n",
    "numeric_transformer = Pipeline(\n",
    "                            steps=[(\"scaler\", StandardScaler())]\n",
    "                        )\n",
    "\n",
    "categorical_transformer = OneHotEncoder(handle_unknown=\"ignore\")\n",
    "\n",
    "# Set up preprocessor\n",
    "preprocessor = ColumnTransformer(\n",
    "    transformers=[\n",
    "        (\"num\", numeric_transformer, numeric_features),\n",
    "        #(\"cat\", categorical_transformer, categorical_features),\n",
    "    ]\n",
    ")\n"
   ]
  },
  {
   "cell_type": "code",
   "execution_count": 7,
   "metadata": {},
   "outputs": [
    {
     "name": "stderr",
     "output_type": "stream",
     "text": [
      "C:\\Users\\Laura GF\\AppData\\Local\\Temp\\ipykernel_6028\\1783735641.py:11: SettingWithCopyWarning: \n",
      "A value is trying to be set on a copy of a slice from a DataFrame.\n",
      "Try using .loc[row_indexer,col_indexer] = value instead\n",
      "\n",
      "See the caveats in the documentation: https://pandas.pydata.org/pandas-docs/stable/user_guide/indexing.html#returning-a-view-versus-a-copy\n",
      "  df['cluster'] = kmeans.predict(df_scaled)\n"
     ]
    }
   ],
   "source": [
    "# Preprocess the data by removing irrelevant columns and normalizing the features\n",
    "df = df[['model_year', 'cylinders_', 'number_of_gears','co2emissions_(g/km)', 'predicted_co2_rating','enginesize_(l)']]\n",
    "scaler = StandardScaler()\n",
    "df_scaled = scaler.fit_transform(df)\n",
    "\n",
    "# Fit the KMeans algorithm to the scaled data\n",
    "kmeans = KMeans(n_clusters=3)\n",
    "kmeans.fit(df_scaled)\n",
    "\n",
    "# Predict the cluster for each row in the dataset\n",
    "df['cluster'] = kmeans.predict(df_scaled)"
   ]
  },
  {
   "cell_type": "code",
   "execution_count": null,
   "metadata": {},
   "outputs": [],
   "source": []
  },
  {
   "cell_type": "code",
   "execution_count": null,
   "metadata": {},
   "outputs": [],
   "source": []
  }
 ],
 "metadata": {
  "kernelspec": {
   "display_name": "Python 3.10.8 ('ml-project-env-10')",
   "language": "python",
   "name": "python3"
  },
  "language_info": {
   "codemirror_mode": {
    "name": "ipython",
    "version": 3
   },
   "file_extension": ".py",
   "mimetype": "text/x-python",
   "name": "python",
   "nbconvert_exporter": "python",
   "pygments_lexer": "ipython3",
   "version": "3.10.8"
  },
  "orig_nbformat": 4,
  "vscode": {
   "interpreter": {
    "hash": "b1b475f47bca8e2da48eea161630da42d1e1d9e1dc58db9742c2ed9d06304115"
   }
  }
 },
 "nbformat": 4,
 "nbformat_minor": 2
}

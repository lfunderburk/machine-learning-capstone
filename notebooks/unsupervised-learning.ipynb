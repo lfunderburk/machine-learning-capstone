{
 "cells": [
  {
   "cell_type": "code",
   "execution_count": 67,
   "metadata": {},
   "outputs": [],
   "source": [
    "import sys, os\n",
    "import pandas as pd\n",
    "import numpy as np\n",
    "from sklearn.metrics import silhouette_samples, silhouette_score\n",
    "\n",
    "import matplotlib.pyplot as plt\n",
    "import matplotlib.cm as cm\n",
    "from sklearn.cluster import KMeans, DBSCAN\n",
    "from sklearn.decomposition import PCA\n",
    "from sklearn.preprocessing import StandardScaler\n",
    "from pathlib import Path\n",
    "\n",
    "from sklearn.feature_selection import RFE\n",
    "from sklearn.tree import DecisionTreeClassifier\n",
    "\n",
    "sys.path.append(os.path.abspath(os.path.join('..','./data/', './clean-data/')))\n",
    "sys.path.append(os.path.abspath(os.path.join('..','./scripts/')))\n",
    "\n"
   ]
  },
  {
   "cell_type": "markdown",
   "metadata": {},
   "source": [
    "### Get feature importance\n",
    "\n",
    "#### Feature selection\n",
    "\n",
    "TO DO: READ ABOUT RECURSIVE FEATURE ELIMINTATION!!!!\n",
    "\n",
    "Do recursive feature elimination first, then decision tree, get feature importance , set a threshold and choose the top 5 most important features\n",
    "\n",
    "\n",
    "L1 (L2) regularization\n",
    "\n",
    "PCA, then random forest classifier, get feature importance \n",
    "\n",
    "Autoencoder\n",
    "\n",
    "#### Clustering\n",
    "\n",
    "KMEANS\n",
    "DBSCAN (sklearn)"
   ]
  },
  {
   "cell_type": "markdown",
   "metadata": {},
   "source": [
    "## To do: clustering fuel only cars\n",
    "1. T-SNE, read about it, do dimensionality reduction\n",
    "\n",
    "## Pair wise clustering\n",
    "1. Hybrid and electric\n",
    "2. Hybrid and fuel\n",
    "\n",
    "## Fuzzy logic\n",
    "Can we calculate car membership?\n",
    "Read on fuzzy logic \n",
    "\n",
    "## Consumer analysis with scraped data \n",
    "Predictor for time series sales data\n",
    "Couple sales data with the co2 scores\n",
    "Accumulated prediction for co2 impact \n"
   ]
  },
  {
   "cell_type": "code",
   "execution_count": 68,
   "metadata": {},
   "outputs": [
    {
     "name": "stdout",
     "output_type": "stream",
     "text": [
      "<class 'pandas.core.frame.DataFrame'>\n",
      "RangeIndex: 26961 entries, 0 to 26960\n",
      "Data columns (total 21 columns):\n",
      " #   Column                         Non-Null Count  Dtype  \n",
      "---  ------                         --------------  -----  \n",
      " 0   vehicleclass_                  26961 non-null  object \n",
      " 1   make_                          26961 non-null  object \n",
      " 2   model.1_                       26961 non-null  object \n",
      " 3   model_year                     26961 non-null  int64  \n",
      " 4   cylinders_                     26961 non-null  float64\n",
      " 5   fuelconsumption_city(l/100km)  26961 non-null  float64\n",
      " 6   fuelconsumption_hwy(l/100km)   26961 non-null  float64\n",
      " 7   fuelconsumption_comb(l/100km)  26961 non-null  float64\n",
      " 8   co2emissions_(g/km)            26961 non-null  int64  \n",
      " 9   number_of_gears                26961 non-null  float64\n",
      " 10  predicted_co2_rating           26961 non-null  int64  \n",
      " 11  original_co2r                  7973 non-null   float64\n",
      " 12  enginesize_(l)                 26961 non-null  float64\n",
      " 13  transmission_                  26961 non-null  object \n",
      " 14  fuel_type                      26961 non-null  object \n",
      " 15  fuelconsumption_comb(mpg)      26961 non-null  int64  \n",
      " 16  transmission_type              26961 non-null  object \n",
      " 17  mapped_fuel_type               26961 non-null  object \n",
      " 18  type_of_wheel_drive            26961 non-null  object \n",
      " 19  id                             26961 non-null  int64  \n",
      " 20  vehicle_type                   26961 non-null  object \n",
      "dtypes: float64(7), int64(5), object(9)\n",
      "memory usage: 4.3+ MB\n"
     ]
    }
   ],
   "source": [
    "# Load the dataset into a pandas DataFrame\n",
    "df = pd.read_csv(Path(\"../data/predicted-data/\",\"predicted_co2_rating.csv\"))\n",
    "\n",
    "df.info()"
   ]
  },
  {
   "cell_type": "code",
   "execution_count": 69,
   "metadata": {},
   "outputs": [
    {
     "name": "stdout",
     "output_type": "stream",
     "text": [
      "Top 5 important features: ['predicted_co2_rating', 'type_of_wheel_drive_Long wheelbase', 'type_of_wheel_drive_Natural gas vehicle', 'type_of_wheel_drive_Short wheelbase', 'type_of_wheel_drive_unspecified']\n"
     ]
    }
   ],
   "source": [
    "X = df[['predicted_co2_rating','model_year', 'cylinders_', 'fuelconsumption_city(l/100km)', 'fuelconsumption_hwy(l/100km)',\n",
    "        'fuelconsumption_comb(l/100km)', 'number_of_gears', 'enginesize_(l)',\n",
    "        'fuelconsumption_comb(mpg)', 'transmission_type', 'mapped_fuel_type', \n",
    "        'type_of_wheel_drive']]\n",
    "\n",
    "# One-hot encode categorical features\n",
    "X = pd.get_dummies(X, columns=['mapped_fuel_type', \n",
    "                                'transmission_type', \n",
    "                                'type_of_wheel_drive'])\n",
    "\n",
    "# create target variable\n",
    "y = df['predicted_co2_rating']\n",
    "\n",
    "# initialize RFE with DT as estimator\n",
    "dt = DecisionTreeClassifier(random_state=0)\n",
    "rfe = RFE(dt, n_features_to_select=5, step=1)\n",
    "\n",
    "# fit RFE\n",
    "rfe.fit(X, y)\n",
    "\n",
    "# get top 5 important features\n",
    "top_features = X.columns[rfe.support_].tolist()\n",
    "print(\"Top 5 important features:\", top_features)"
   ]
  },
  {
   "cell_type": "code",
   "execution_count": 72,
   "metadata": {},
   "outputs": [],
   "source": [
    "# select only the top 5 important features\n",
    "X = X[['predicted_co2_rating', 'type_of_wheel_drive_Long wheelbase', 'type_of_wheel_drive_Natural gas vehicle', 'type_of_wheel_drive_Short wheelbase', 'type_of_wheel_drive_unspecified']]\n",
    "\n",
    "# standardize the data\n",
    "scaler = StandardScaler()\n",
    "X_scaled = scaler.fit_transform(X)\n",
    "\n",
    "# perform KMeans clustering with 3 clusters\n",
    "kmeans = KMeans(n_clusters=3, random_state=0)\n",
    "kmeans_labels = kmeans.fit_predict(X_scaled)\n",
    "\n",
    "# perform DBSCAN clustering\n",
    "dbscan = DBSCAN(eps=0.5, min_samples=5)\n",
    "dbscan_labels = dbscan.fit_predict(X_scaled)\n",
    "\n",
    "# add the cluster labels to the DataFrame\n",
    "df['kmeans_cluster'] = kmeans_labels\n",
    "df['dbscan_cluster'] = dbscan_labels"
   ]
  },
  {
   "cell_type": "code",
   "execution_count": 73,
   "metadata": {},
   "outputs": [
    {
     "name": "stdout",
     "output_type": "stream",
     "text": [
      "For n_clusters = 2 The inertia score is : 107423.54087383825 The average silhouette score is : 0.6356250751611014\n",
      "For n_clusters = 3 The inertia score is : 80492.9330518486 The average silhouette score is : 0.634211380578861\n",
      "For n_clusters = 4 The inertia score is : 53616.1320994011 The average silhouette score is : 0.6317053968792202\n",
      "For n_clusters = 5 The inertia score is : 26891.739160013716 The average silhouette score is : 0.6265722006382904\n",
      "For n_clusters = 6 The inertia score is : 11554.34570015119 The average silhouette score is : 0.6282849797849589\n",
      "For n_clusters = 7 The inertia score is : 7060.125222880513 The average silhouette score is : 0.6632339260212068\n",
      "For n_clusters = 8 The inertia score is : 5036.176753982333 The average silhouette score is : 0.6588459547622884\n",
      "For n_clusters = 9 The inertia score is : 3719.94188618373 The average silhouette score is : 0.6669197224896763\n",
      "For n_clusters = 10 The inertia score is : 2528.9548607278516 The average silhouette score is : 0.7833496863019168\n"
     ]
    },
    {
     "data": {
      "image/png": "[encoded data removed]",
      "text/plain": [
       "<Figure size 640x480 with 1 Axes>"
      ]
     },
     "metadata": {},
     "output_type": "display_data"
    },
    {
     "data": {
      "image/png": "[encoded data removed]",
      "text/plain": [
       "<Figure size 640x480 with 1 Axes>"
      ]
     },
     "metadata": {},
     "output_type": "display_data"
    },
    {
     "name": "stdout",
     "output_type": "stream",
     "text": [
      "Number of clusters in DBSCAN: 22\n"
     ]
    }
   ],
   "source": [
    "from sklearn.cluster import KMeans, DBSCAN\n",
    "from sklearn.metrics import silhouette_score\n",
    "import matplotlib.pyplot as plt\n",
    "import numpy as np\n",
    "\n",
    "# select the top 5 important features\n",
    "# select only the top 5 important features\n",
    "X = X[['predicted_co2_rating', \n",
    "'type_of_wheel_drive_Long wheelbase', \n",
    "'type_of_wheel_drive_Natural gas vehicle', \n",
    "'type_of_wheel_drive_Short wheelbase',\n",
    " 'type_of_wheel_drive_unspecified']]\n",
    "\n",
    "# standardize the data\n",
    "X = (X - X.mean(axis=0)) / X.std(axis=0)\n",
    "\n",
    "# create a range of cluster numbers\n",
    "range_n_clusters = range(2, 11)\n",
    "\n",
    "# initialize lists to store the scores\n",
    "silhouette_scores = []\n",
    "inertia_scores = []\n",
    "\n",
    "# loop over the range of cluster numbers\n",
    "for n_clusters in range_n_clusters:\n",
    "    \n",
    "    # initialize KMeans with n_clusters\n",
    "    kmeans = KMeans(n_clusters=n_clusters, random_state=0)\n",
    "    \n",
    "    # fit KMeans to the data\n",
    "    kmeans.fit(X)\n",
    "    \n",
    "    # calculate the inertia score (within-cluster sum of squares)\n",
    "    inertia_scores.append(kmeans.inertia_)\n",
    "    \n",
    "    # calculate the silhouette score\n",
    "    silhouette_avg = silhouette_score(X, kmeans.labels_)\n",
    "    silhouette_scores.append(silhouette_avg)\n",
    "    \n",
    "    # print the scores\n",
    "    print(\"For n_clusters =\", n_clusters,\n",
    "          \"The inertia score is :\", kmeans.inertia_,\n",
    "          \"The average silhouette score is :\", silhouette_avg)\n",
    "\n",
    "# plot the elbow curve\n",
    "plt.plot(range_n_clusters, inertia_scores, 'bx-')\n",
    "plt.xlabel('Number of Clusters')\n",
    "plt.ylabel('Inertia Score')\n",
    "plt.title('Elbow Method for Optimal k')\n",
    "plt.show()\n",
    "\n",
    "# plot the silhouette scores\n",
    "plt.plot(range_n_clusters, silhouette_scores, 'bx-')\n",
    "plt.xlabel('Number of Clusters')\n",
    "plt.ylabel('Silhouette Score')\n",
    "plt.title('Silhouette Method for Optimal k')\n",
    "plt.show()\n",
    "\n",
    "# initialize DBSCAN\n",
    "dbscan = DBSCAN(eps=0.3, min_samples=10)\n",
    "\n",
    "# fit DBSCAN to the data\n",
    "dbscan.fit(X)\n",
    "\n",
    "# print the number of clusters (unique labels) in DBSCAN\n",
    "print(\"Number of clusters in DBSCAN:\", len(np.unique(dbscan.labels_)))\n"
   ]
  },
  {
   "cell_type": "code",
   "execution_count": 76,
   "metadata": {},
   "outputs": [],
   "source": [
    "import pandas as pd\n",
    "from sklearn.cluster import DBSCAN\n",
    "from sklearn.metrics import silhouette_score\n",
    "import matplotlib.pyplot as plt\n",
    "\n",
    "# select the top 5 important feature\n",
    "# Define function to perform DBSCAN clustering and return the cluster labels and silhouette score\n",
    "def perform_dbscan(X, eps, min_samples):\n",
    "    dbscan = DBSCAN(eps=eps, min_samples=min_samples)\n",
    "    cluster_labels = dbscan.fit_predict(X)\n",
    "    silhouette_avg = silhouette_score(X, cluster_labels)\n",
    "    return cluster_labels, silhouette_avg\n",
    "\n",
    "# Define function to plot the results of DBSCAN clustering\n",
    "def plot_dbscan(X, cluster_labels):\n",
    "    # plot the clusters\n",
    "    plt.scatter(X[:, 0], X[:, 1], c=cluster_labels, cmap='viridis')\n",
    "    plt.xlabel('Feature 1')\n",
    "    plt.ylabel('Feature 2')\n",
    "    plt.show()\n",
    "\n",
    "\n"
   ]
  },
  {
   "cell_type": "code",
   "execution_count": null,
   "metadata": {},
   "outputs": [],
   "source": [
    "# Define the parameters for DBSCAN clustering\n",
    "eps = 0.3\n",
    "min_samples = 10\n",
    "\n",
    "def generate_dbsca_plot(var1, var2):\n",
    "    print('DBSCAN clustering for', var1, 'and', var2)\n",
    "    # Perform DBSCAN clustering on the data\n",
    "    X = df[[var1, \n",
    "        var2]].values\n",
    "    cluster_labels, silhouette_avg = perform_dbscan(X, eps, min_samples)\n",
    "\n",
    "    # Print the silhouette score and number of clusters found\n",
    "    n_clusters = len(set(cluster_labels)) - (1 if -1 in cluster_labels else 0)\n",
    "    print('Number of clusters in DBSCAN:', n_clusters)\n",
    "    print('The average silhouette score is :', silhouette_avg)\n",
    "\n",
    "    # Plot the results of DBSCAN clustering\n",
    "    plot_dbscan(X, cluster_labels)\n",
    "\n",
    "\n"
   ]
  },
  {
   "cell_type": "code",
   "execution_count": 77,
   "metadata": {},
   "outputs": [
    {
     "name": "stdout",
     "output_type": "stream",
     "text": [
      "For eps = 0.5 and min_samples = 5 the number of clusters is 1121 and the average silhouette score is 0.4494216570044461\n",
      "For eps = 0.5 and min_samples = 10 the number of clusters is 772 and the average silhouette score is 0.29779996588222746\n",
      "For eps = 0.5 and min_samples = 20 the number of clusters is 441 and the average silhouette score is -0.003515205268807212\n",
      "For eps = 0.5 and min_samples = 50 the number of clusters is 31 and the average silhouette score is -0.5477218390748099\n",
      "For eps = 1 and min_samples = 5 the number of clusters is 201 and the average silhouette score is -0.5128198077343805\n",
      "For eps = 1 and min_samples = 10 the number of clusters is 125 and the average silhouette score is -0.49488245704455536\n",
      "For eps = 1 and min_samples = 20 the number of clusters is 81 and the average silhouette score is -0.47795354117011835\n",
      "For eps = 1 and min_samples = 50 the number of clusters is 39 and the average silhouette score is -0.5145061485072407\n",
      "For eps = 2 and min_samples = 5 the number of clusters is 23 and the average silhouette score is -0.2746998140322407\n",
      "For eps = 2 and min_samples = 10 the number of clusters is 10 and the average silhouette score is 0.030129272358555153\n",
      "For eps = 2 and min_samples = 20 the number of clusters is 5 and the average silhouette score is -0.010172546537558124\n",
      "For eps = 2 and min_samples = 50 the number of clusters is 1\n",
      "For eps = 4 and min_samples = 5 the number of clusters is 4 and the average silhouette score is 0.35607438172779343\n",
      "For eps = 4 and min_samples = 10 the number of clusters is 1\n",
      "For eps = 4 and min_samples = 20 the number of clusters is 2 and the average silhouette score is 0.3914002569273844\n",
      "For eps = 4 and min_samples = 50 the number of clusters is 2 and the average silhouette score is 0.5232285264924045\n",
      "For eps = 8 and min_samples = 5 the number of clusters is 1\n",
      "For eps = 8 and min_samples = 10 the number of clusters is 1\n",
      "For eps = 8 and min_samples = 20 the number of clusters is 1\n",
      "For eps = 8 and min_samples = 50 the number of clusters is 1\n",
      "For eps = 16 and min_samples = 5 the number of clusters is 1\n",
      "For eps = 16 and min_samples = 10 the number of clusters is 1\n",
      "For eps = 16 and min_samples = 20 the number of clusters is 1\n",
      "For eps = 16 and min_samples = 50 the number of clusters is 1\n",
      "The best parameter combination is eps = 4 and min_samples = 10\n",
      "DBSCAN only found one cluster\n"
     ]
    }
   ],
   "source": [
    "from sklearn import metrics\n",
    "\n",
    "def perform_dbscan(X, eps, min_samples):\n",
    "    db = DBSCAN(eps=eps, min_samples=min_samples)\n",
    "    labels = db.fit_predict(X)\n",
    "    n_clusters = len(set(labels)) - (1 if -1 in labels else 0)\n",
    "    return n_clusters, labels\n",
    "\n",
    "def find_best_dbscan_params(X, eps_list, min_samples_list):\n",
    "    silhouette_scores = []\n",
    "    for eps in eps_list:\n",
    "        for min_samples in min_samples_list:\n",
    "            n_clusters, labels = perform_dbscan(X, eps, min_samples)\n",
    "            if n_clusters > 1:\n",
    "                silhouette_score = metrics.silhouette_score(X, labels)\n",
    "                print(\"For eps =\", eps, \"and min_samples =\", min_samples,\n",
    "                      \"the number of clusters is\", n_clusters,\n",
    "                      \"and the average silhouette score is\", silhouette_score)\n",
    "                silhouette_scores.append(silhouette_score)\n",
    "            else:\n",
    "                print(\"For eps =\", eps, \"and min_samples =\", min_samples,\n",
    "                      \"the number of clusters is\", n_clusters)\n",
    "    # print the parameter combination with the highest silhouette score\n",
    "    max_index = silhouette_scores.index(max(silhouette_scores))\n",
    "    eps_index = max_index // len(min_samples_list)\n",
    "    min_samples_index = max_index % len(min_samples_list)\n",
    "    best_eps = eps_list[eps_index]\n",
    "    best_min_samples = min_samples_list[min_samples_index]\n",
    "    print(\"The best parameter combination is eps =\", best_eps,\n",
    "          \"and min_samples =\", best_min_samples)\n",
    "    return best_eps, best_min_samples\n",
    "\n",
    "def perform_best_dbscan(X, best_eps, best_min_samples):\n",
    "    n_clusters, labels = perform_dbscan(X, best_eps, best_min_samples)\n",
    "    if n_clusters > 1:\n",
    "        silhouette_score = metrics.silhouette_score(X, labels)\n",
    "        print(\"Number of clusters in DBSCAN:\", n_clusters)\n",
    "        print(\"The average silhouette score is :\", silhouette_score)\n",
    "    else:\n",
    "        print(\"DBSCAN only found one cluster\")\n",
    "\n",
    "# example usage\n",
    "X = df[['model_year', 'cylinders_', \n",
    "    'fuelconsumption_city(l/100km)', 'fuelconsumption_comb(l/100km)', \n",
    "    'fuelconsumption_comb(mpg)']].values\n",
    "eps_list = [0.5, 1, 2, 4, 8, 16]\n",
    "min_samples_list = [5, 10, 20, 50]\n",
    "\n",
    "best_eps, best_min_samples = find_best_dbscan_params(X, eps_list, min_samples_list)\n",
    "perform_best_dbscan(X, best_eps, best_min_samples)"
   ]
  },
  {
   "cell_type": "code",
   "execution_count": 83,
   "metadata": {},
   "outputs": [],
   "source": [
    "def perform_dbscan(X, eps, min_samples):\n",
    "    db = DBSCAN(eps=eps, min_samples=min_samples)\n",
    "    labels = db.fit_predict(X)\n",
    "    n_clusters = len(set(labels)) - (1 if -1 in labels else 0)\n",
    "    return n_clusters, labels\n",
    "\n",
    "def find_best_dbscan_params(X, eps_list, min_samples_list):\n",
    "    max_silhouette_score = -1\n",
    "    best_eps, best_min_samples = None, None\n",
    "    for eps in eps_list:\n",
    "        for min_samples in min_samples_list:\n",
    "            n_clusters, labels = perform_dbscan(X, eps, min_samples)\n",
    "            if n_clusters == 1:\n",
    "                continue\n",
    "            silhouette_score = metrics.silhouette_score(X, labels)\n",
    "            if silhouette_score > max_silhouette_score:\n",
    "                max_silhouette_score = silhouette_score\n",
    "                best_eps, best_min_samples = eps, min_samples\n",
    "                print(\"For eps =\", eps, \"and min_samples =\", min_samples,\n",
    "                        \"the number of clusters is\", n_clusters,\n",
    "                        \"and the average silhouette score is\", silhouette_score)\n",
    "            \n",
    "    # print the best hyperparameters\n",
    "    print(\"The best hyperparameters for 2 clusters are: eps =\", best_eps,\n",
    "          \"and min_samples =\", best_min_samples)\n",
    "    return best_eps, best_min_samples\n",
    "\n",
    "def perform_best_dbscan(X, best_eps, best_min_samples):\n",
    "    n_clusters, labels = perform_dbscan(X, best_eps, best_min_samples)\n",
    "    if n_clusters == 2:\n",
    "        silhouette_score = metrics.silhouette_score(X, labels)\n",
    "        print(\"Number of clusters in DBSCAN:\", n_clusters)\n",
    "        print(\"The average silhouette score is:\", silhouette_score)\n",
    "    else:\n",
    "        print(\"DBSCAN did not find 2 clusters\")\n",
    "\n",
    "# example usage\n",
    "X = df[['model_year', 'cylinders_', \n",
    "    'fuelconsumption_city(l/100km)', 'fuelconsumption_comb(l/100km)', \n",
    "    'fuelconsumption_comb(mpg)']].values\n",
    "eps_list = [0.5, 1, 2, 4, 8, 16]\n",
    "min_samples_list = [5, 10, 20, 50]\n",
    "\n",
    "best_eps, best_min_samples = find_best_dbscan_params(X, eps_list, min_samples_list)\n",
    "perform_best_dbscan(X, best_eps, best_min_samples)"
   ]
  },
  {
   "cell_type": "code",
   "execution_count": 82,
   "metadata": {},
   "outputs": [
    {
     "name": "stdout",
     "output_type": "stream",
     "text": [
      "4 10\n"
     ]
    }
   ],
   "source": [
    "print(best_eps, best_min_samples)"
   ]
  },
  {
   "cell_type": "code",
   "execution_count": null,
   "metadata": {},
   "outputs": [],
   "source": [
    "n_clu, label = perform_dbscan(X, 4, 50)"
   ]
  },
  {
   "cell_type": "code",
   "execution_count": null,
   "metadata": {},
   "outputs": [],
   "source": [
    "# Perform DBSCAN clustering\n",
    "db = DBSCAN(eps=4, min_samples=50)\n",
    "labels = db.fit_predict(X)\n",
    "\n",
    "# Add the cluster labels to the DataFrame\n",
    "df['cluster'] = labels"
   ]
  },
  {
   "cell_type": "code",
   "execution_count": null,
   "metadata": {},
   "outputs": [],
   "source": [
    "# get the cluster labels for the best hyperparameters\n",
    "n_clu, labels = perform_dbscan(X, 4, 50)\n",
    "\n",
    "# plot the data points with color representing cluster labels\n",
    "plt.scatter(X[:, 0], X[:, 1], c=labels, cmap='viridis')\n",
    "plt.xlabel('Feature 1')\n",
    "plt.ylabel('Feature 2')\n",
    "plt.title('DBSCAN Clustering Results')\n",
    "plt.show()"
   ]
  },
  {
   "cell_type": "code",
   "execution_count": null,
   "metadata": {},
   "outputs": [],
   "source": [
    "# plot the data points with color representing cluster labels\n",
    "plt.scatter(X[:, 0], X[:, 2], c=labels, cmap='viridis')\n",
    "plt.xlabel('Feature 1')\n",
    "plt.ylabel('Feature 2')\n",
    "plt.title('DBSCAN Clustering Results')\n",
    "plt.show()"
   ]
  },
  {
   "cell_type": "code",
   "execution_count": null,
   "metadata": {},
   "outputs": [],
   "source": [
    "# plot the data points with color representing cluster labels\n",
    "plt.scatter(X[:, 0], X[:, 2], c=labels, cmap='viridis')\n",
    "plt.xlabel('Feature 1')\n",
    "plt.ylabel('Feature 2')\n",
    "plt.title('DBSCAN Clustering Results')\n",
    "plt.show()"
   ]
  },
  {
   "cell_type": "code",
   "execution_count": null,
   "metadata": {},
   "outputs": [],
   "source": [
    "# plot the data points with color representing cluster labels\n",
    "plt.scatter(X[:, 0], X[:, 3], c=labels, cmap='viridis')\n",
    "plt.xlabel('Feature 1')\n",
    "plt.ylabel('Feature 2')\n",
    "plt.title('DBSCAN Clustering Results')\n",
    "plt.show()"
   ]
  },
  {
   "cell_type": "code",
   "execution_count": null,
   "metadata": {},
   "outputs": [],
   "source": [
    "# plot the data points with color representing cluster labels\n",
    "plt.scatter(X[:, 0], X[:, 4], c=labels, cmap='viridis')\n",
    "plt.xlabel('Feature 1')\n",
    "plt.ylabel('Feature 2')\n",
    "plt.title('DBSCAN Clustering Results')\n",
    "plt.show()"
   ]
  },
  {
   "cell_type": "code",
   "execution_count": null,
   "metadata": {},
   "outputs": [],
   "source": [
    "# plot the data points with color representing cluster labels\n",
    "plt.scatter(X[:, 3], X[:, 4], c=labels, cmap='viridis')\n",
    "plt.xlabel('Feature 1')\n",
    "plt.ylabel('Feature 2')\n",
    "plt.title('DBSCAN Clustering Results')\n",
    "plt.show()"
   ]
  },
  {
   "cell_type": "code",
   "execution_count": null,
   "metadata": {},
   "outputs": [],
   "source": []
  }
 ],
 "metadata": {
  "kernelspec": {
   "display_name": "Python 3.10.8 ('ml-project-env-10')",
   "language": "python",
   "name": "python3"
  },
  "language_info": {
   "codemirror_mode": {
    "name": "ipython",
    "version": 3
   },
   "file_extension": ".py",
   "mimetype": "text/x-python",
   "name": "python",
   "nbconvert_exporter": "python",
   "pygments_lexer": "ipython3",
   "version": "3.10.8"
  },
  "orig_nbformat": 4,
  "vscode": {
   "interpreter": {
    "hash": "b1b475f47bca8e2da48eea161630da42d1e1d9e1dc58db9742c2ed9d06304115"
   }
  }
 },
 "nbformat": 4,
 "nbformat_minor": 2
}
